{
 "cells": [
  {
   "cell_type": "markdown",
   "metadata": {},
   "source": [
    "## Predict if a passenger survived or not"
   ]
  },
  {
   "cell_type": "code",
   "execution_count": 2,
   "metadata": {},
   "outputs": [],
   "source": [
    "import sys\n",
    "sys.path.append('C:\\\\Users\\\\PAT\\\\Documents\\\\edwisor\\\\projects\\\\Titanic')\n",
    "from Titanic import *\n",
    "from Titanic.config import *"
   ]
  },
  {
   "cell_type": "code",
   "execution_count": 3,
   "metadata": {},
   "outputs": [],
   "source": [
    "data = pd.read_csv(train_data_path)\n",
    "test = pd.read_csv(test_data_path)\n",
    "full_data = [data,test]"
   ]
  },
  {
   "cell_type": "code",
   "execution_count": 243,
   "metadata": {},
   "outputs": [
    {
     "data": {
      "text/html": [
       "<div>\n",
       "<style scoped>\n",
       "    .dataframe tbody tr th:only-of-type {\n",
       "        vertical-align: middle;\n",
       "    }\n",
       "\n",
       "    .dataframe tbody tr th {\n",
       "        vertical-align: top;\n",
       "    }\n",
       "\n",
       "    .dataframe thead th {\n",
       "        text-align: right;\n",
       "    }\n",
       "</style>\n",
       "<table border=\"1\" class=\"dataframe\">\n",
       "  <thead>\n",
       "    <tr style=\"text-align: right;\">\n",
       "      <th></th>\n",
       "      <th>PassengerId</th>\n",
       "      <th>Survived</th>\n",
       "      <th>Pclass</th>\n",
       "      <th>Name</th>\n",
       "      <th>Sex</th>\n",
       "      <th>Age</th>\n",
       "      <th>SibSp</th>\n",
       "      <th>Parch</th>\n",
       "      <th>Ticket</th>\n",
       "      <th>Fare</th>\n",
       "      <th>Cabin</th>\n",
       "      <th>Embarked</th>\n",
       "    </tr>\n",
       "  </thead>\n",
       "  <tbody>\n",
       "    <tr>\n",
       "      <th>0</th>\n",
       "      <td>1</td>\n",
       "      <td>0</td>\n",
       "      <td>3</td>\n",
       "      <td>Braund, Mr. Owen Harris</td>\n",
       "      <td>male</td>\n",
       "      <td>22.0</td>\n",
       "      <td>1</td>\n",
       "      <td>0</td>\n",
       "      <td>A/5 21171</td>\n",
       "      <td>7.2500</td>\n",
       "      <td>NaN</td>\n",
       "      <td>S</td>\n",
       "    </tr>\n",
       "    <tr>\n",
       "      <th>1</th>\n",
       "      <td>2</td>\n",
       "      <td>1</td>\n",
       "      <td>1</td>\n",
       "      <td>Cumings, Mrs. John Bradley (Florence Briggs Th...</td>\n",
       "      <td>female</td>\n",
       "      <td>38.0</td>\n",
       "      <td>1</td>\n",
       "      <td>0</td>\n",
       "      <td>PC 17599</td>\n",
       "      <td>71.2833</td>\n",
       "      <td>C85</td>\n",
       "      <td>C</td>\n",
       "    </tr>\n",
       "  </tbody>\n",
       "</table>\n",
       "</div>"
      ],
      "text/plain": [
       "   PassengerId  Survived  Pclass  \\\n",
       "0            1         0       3   \n",
       "1            2         1       1   \n",
       "\n",
       "                                                Name     Sex   Age  SibSp  \\\n",
       "0                            Braund, Mr. Owen Harris    male  22.0      1   \n",
       "1  Cumings, Mrs. John Bradley (Florence Briggs Th...  female  38.0      1   \n",
       "\n",
       "   Parch     Ticket     Fare Cabin Embarked  \n",
       "0      0  A/5 21171   7.2500   NaN        S  \n",
       "1      0   PC 17599  71.2833   C85        C  "
      ]
     },
     "execution_count": 243,
     "metadata": {},
     "output_type": "execute_result"
    }
   ],
   "source": [
    "data.head(2)"
   ]
  },
  {
   "cell_type": "code",
   "execution_count": 66,
   "metadata": {},
   "outputs": [
    {
     "data": {
      "text/plain": [
       "(891, 12)"
      ]
     },
     "execution_count": 66,
     "metadata": {},
     "output_type": "execute_result"
    }
   ],
   "source": [
    "data.shape"
   ]
  },
  {
   "cell_type": "code",
   "execution_count": 96,
   "metadata": {},
   "outputs": [
    {
     "data": {
      "text/plain": [
       "(418, 11)"
      ]
     },
     "execution_count": 96,
     "metadata": {},
     "output_type": "execute_result"
    }
   ],
   "source": [
    "test.shape"
   ]
  },
  {
   "cell_type": "code",
   "execution_count": 67,
   "metadata": {},
   "outputs": [
    {
     "data": {
      "text/plain": [
       "PassengerId      int64\n",
       "Survived         int64\n",
       "Pclass           int64\n",
       "Name            object\n",
       "Sex             object\n",
       "Age            float64\n",
       "SibSp            int64\n",
       "Parch            int64\n",
       "Ticket          object\n",
       "Fare           float64\n",
       "Cabin           object\n",
       "Embarked        object\n",
       "dtype: object"
      ]
     },
     "execution_count": 67,
     "metadata": {},
     "output_type": "execute_result"
    }
   ],
   "source": [
    "data.dtypes"
   ]
  },
  {
   "cell_type": "code",
   "execution_count": 85,
   "metadata": {},
   "outputs": [],
   "source": [
    "def get_col_names():\n",
    "    continous_names = []\n",
    "    categ_names = []\n",
    "    for i in data.columns:\n",
    "        continous_names.append(i) if data.loc[:,i].dtypes in ['int64','int32','float32','float64'] \\\n",
    "        else categ_names.append(i)\n",
    "    return continous_names,categ_names"
   ]
  },
  {
   "cell_type": "code",
   "execution_count": 150,
   "metadata": {},
   "outputs": [
    {
     "name": "stdout",
     "output_type": "stream",
     "text": [
      "-----Summary of columns\n",
      "Total col - 12\n",
      "continous are - 7\n",
      "   PassengerId  Survived  Pclass   Age  SibSp  Parch  Fare\n",
      "0            1         0       3  22.0      1      0  7.25\n",
      "-----\n",
      "categorical are - 5\n",
      "                      Name   Sex     Ticket Cabin Embarked\n",
      "0  Braund, Mr. Owen Harris  male  A/5 21171   NaN        S\n"
     ]
    }
   ],
   "source": [
    "#iloc used for col index and loc for col name\n",
    "continous_names, cat_names = get_col_names()\n",
    "print('-----Summary of columns')\n",
    "print('Total col -',data.shape[1] )\n",
    "print('continous are -', len(continous_names))\n",
    "print(data[continous_names].head(1))\n",
    "print('-----')\n",
    "print('categorical are -', len(cat_names))\n",
    "print(data[cat_names].head(1))"
   ]
  },
  {
   "cell_type": "markdown",
   "metadata": {},
   "source": [
    "## Missing value analysis\n"
   ]
  },
  {
   "cell_type": "code",
   "execution_count": 21,
   "metadata": {},
   "outputs": [
    {
     "data": {
      "text/plain": [
       "PassengerId      0\n",
       "Survived         0\n",
       "Pclass           0\n",
       "Name             0\n",
       "Sex              0\n",
       "Age            177\n",
       "SibSp            0\n",
       "Parch            0\n",
       "Ticket           0\n",
       "Fare             0\n",
       "Cabin          687\n",
       "Embarked         2\n",
       "dtype: int64"
      ]
     },
     "execution_count": 21,
     "metadata": {},
     "output_type": "execute_result"
    }
   ],
   "source": [
    "data.isnull().sum()"
   ]
  },
  {
   "cell_type": "markdown",
   "metadata": {},
   "source": [
    "## Missing value percentages"
   ]
  },
  {
   "cell_type": "code",
   "execution_count": 308,
   "metadata": {},
   "outputs": [
    {
     "data": {
      "text/html": [
       "<div>\n",
       "<style scoped>\n",
       "    .dataframe tbody tr th:only-of-type {\n",
       "        vertical-align: middle;\n",
       "    }\n",
       "\n",
       "    .dataframe tbody tr th {\n",
       "        vertical-align: top;\n",
       "    }\n",
       "\n",
       "    .dataframe thead th {\n",
       "        text-align: right;\n",
       "    }\n",
       "</style>\n",
       "<table border=\"1\" class=\"dataframe\">\n",
       "  <thead>\n",
       "    <tr style=\"text-align: right;\">\n",
       "      <th></th>\n",
       "      <th>missing_per</th>\n",
       "    </tr>\n",
       "  </thead>\n",
       "  <tbody>\n",
       "    <tr>\n",
       "      <th>PassengerId</th>\n",
       "      <td>0.000000</td>\n",
       "    </tr>\n",
       "    <tr>\n",
       "      <th>Survived</th>\n",
       "      <td>0.000000</td>\n",
       "    </tr>\n",
       "    <tr>\n",
       "      <th>Pclass</th>\n",
       "      <td>0.000000</td>\n",
       "    </tr>\n",
       "    <tr>\n",
       "      <th>Name</th>\n",
       "      <td>0.000000</td>\n",
       "    </tr>\n",
       "    <tr>\n",
       "      <th>Sex</th>\n",
       "      <td>0.000000</td>\n",
       "    </tr>\n",
       "    <tr>\n",
       "      <th>Age</th>\n",
       "      <td>19.865320</td>\n",
       "    </tr>\n",
       "    <tr>\n",
       "      <th>SibSp</th>\n",
       "      <td>0.000000</td>\n",
       "    </tr>\n",
       "    <tr>\n",
       "      <th>Parch</th>\n",
       "      <td>0.000000</td>\n",
       "    </tr>\n",
       "    <tr>\n",
       "      <th>Ticket</th>\n",
       "      <td>0.000000</td>\n",
       "    </tr>\n",
       "    <tr>\n",
       "      <th>Fare</th>\n",
       "      <td>0.000000</td>\n",
       "    </tr>\n",
       "    <tr>\n",
       "      <th>Cabin</th>\n",
       "      <td>77.104377</td>\n",
       "    </tr>\n",
       "    <tr>\n",
       "      <th>Embarked</th>\n",
       "      <td>0.224467</td>\n",
       "    </tr>\n",
       "  </tbody>\n",
       "</table>\n",
       "</div>"
      ],
      "text/plain": [
       "             missing_per\n",
       "PassengerId     0.000000\n",
       "Survived        0.000000\n",
       "Pclass          0.000000\n",
       "Name            0.000000\n",
       "Sex             0.000000\n",
       "Age            19.865320\n",
       "SibSp           0.000000\n",
       "Parch           0.000000\n",
       "Ticket          0.000000\n",
       "Fare            0.000000\n",
       "Cabin          77.104377\n",
       "Embarked        0.224467"
      ]
     },
     "execution_count": 308,
     "metadata": {},
     "output_type": "execute_result"
    }
   ],
   "source": [
    "#get the rows with null values\n",
    "missing_values = pd.DataFrame(data.isnull().sum())\n",
    "#rename the columns old value: 0, new_value:'missing_per'\n",
    "missing_values = missing_values.rename(columns = {'index':'variable', 0:'missing_per'})\n",
    "missing_values['missing_per'] = (missing_values['missing_per']/len(data))*100\n",
    "missing_values"
   ]
  },
  {
   "cell_type": "markdown",
   "metadata": {},
   "source": [
    "## FINDING: If missing value is >30 %, we can ignore that field\n",
    "    Drop Cabin\n",
    "    "
   ]
  },
  {
   "cell_type": "code",
   "execution_count": 151,
   "metadata": {},
   "outputs": [],
   "source": [
    "#bk_full_data = full_data\n",
    "for i,dataset in enumerate(full_data):\n",
    "    \n",
    "    \n",
    "    dataset = dataset.drop(['Cabin','PassengerId'],axis=1)\n",
    "    #print(dataset.head(1))\n",
    "    dataset['family_size'] = dataset['SibSp'] + dataset['Parch'] + 1\n",
    "    dataset = dataset.drop(['SibSp', 'Parch'], axis = 1)\n",
    "    dataset['is_alone'] = 0 #Initialize value of this var/col\n",
    "    dataset.loc[dataset['family_size'] ==1 , 'is_alone'] = 1 #set to 1/True if family size is 1 or else 0(intialize value)\n",
    "    dataset['is_alone'] = dataset['is_alone'].astype('object')\n",
    "    if i == 0:#update the original df \n",
    "        data = dataset \n",
    "    else:\n",
    "        test = dataset\n",
    "#update continous variables also, since these col are already dropped\n",
    "continous_names.append('family_size')\n",
    "continous_names.remove('PassengerId')\n",
    "continous_names = [ x for x in continous_names if x not in ['SibSp', 'Parch']]\n",
    "cat_names.remove('Cabin')\n",
    "cat_names.append('is_alone')\n",
    "\n",
    "\n",
    "full_data = [data,test]#Update the list"
   ]
  },
  {
   "cell_type": "code",
   "execution_count": 153,
   "metadata": {},
   "outputs": [
    {
     "data": {
      "text/plain": [
       "(   Survived  Pclass                     Name   Sex   Age     Ticket  Fare  \\\n",
       " 0         0       3  Braund, Mr. Owen Harris  male  22.0  A/5 21171  7.25   \n",
       " \n",
       "   Embarked  family_size is_alone  \n",
       " 0        S            2        0  , (891, 10))"
      ]
     },
     "execution_count": 153,
     "metadata": {},
     "output_type": "execute_result"
    }
   ],
   "source": [
    "data.head(1),data.shape"
   ]
  },
  {
   "cell_type": "code",
   "execution_count": 154,
   "metadata": {},
   "outputs": [
    {
     "data": {
      "text/html": [
       "<div>\n",
       "<style scoped>\n",
       "    .dataframe tbody tr th:only-of-type {\n",
       "        vertical-align: middle;\n",
       "    }\n",
       "\n",
       "    .dataframe tbody tr th {\n",
       "        vertical-align: top;\n",
       "    }\n",
       "\n",
       "    .dataframe thead th {\n",
       "        text-align: right;\n",
       "    }\n",
       "</style>\n",
       "<table border=\"1\" class=\"dataframe\">\n",
       "  <thead>\n",
       "    <tr style=\"text-align: right;\">\n",
       "      <th></th>\n",
       "      <th>Survived</th>\n",
       "      <th>Pclass</th>\n",
       "      <th>Name</th>\n",
       "      <th>Sex</th>\n",
       "      <th>Age</th>\n",
       "      <th>Ticket</th>\n",
       "      <th>Fare</th>\n",
       "      <th>Embarked</th>\n",
       "      <th>family_size</th>\n",
       "      <th>is_alone</th>\n",
       "    </tr>\n",
       "  </thead>\n",
       "  <tbody>\n",
       "    <tr>\n",
       "      <th>0</th>\n",
       "      <td>0</td>\n",
       "      <td>3</td>\n",
       "      <td>Braund, Mr. Owen Harris</td>\n",
       "      <td>male</td>\n",
       "      <td>22.0</td>\n",
       "      <td>A/5 21171</td>\n",
       "      <td>7.2500</td>\n",
       "      <td>S</td>\n",
       "      <td>2</td>\n",
       "      <td>0</td>\n",
       "    </tr>\n",
       "    <tr>\n",
       "      <th>1</th>\n",
       "      <td>1</td>\n",
       "      <td>1</td>\n",
       "      <td>Cumings, Mrs. John Bradley (Florence Briggs Th...</td>\n",
       "      <td>female</td>\n",
       "      <td>38.0</td>\n",
       "      <td>PC 17599</td>\n",
       "      <td>71.2833</td>\n",
       "      <td>C</td>\n",
       "      <td>2</td>\n",
       "      <td>0</td>\n",
       "    </tr>\n",
       "  </tbody>\n",
       "</table>\n",
       "</div>"
      ],
      "text/plain": [
       "   Survived  Pclass                                               Name  \\\n",
       "0         0       3                            Braund, Mr. Owen Harris   \n",
       "1         1       1  Cumings, Mrs. John Bradley (Florence Briggs Th...   \n",
       "\n",
       "      Sex   Age     Ticket     Fare Embarked  family_size is_alone  \n",
       "0    male  22.0  A/5 21171   7.2500        S            2        0  \n",
       "1  female  38.0   PC 17599  71.2833        C            2        0  "
      ]
     },
     "execution_count": 154,
     "metadata": {},
     "output_type": "execute_result"
    }
   ],
   "source": [
    "#Let us take a subset of valid dataset and compute if mean, median or knnimpute fits the best\n",
    "#get data for which age is not null\n",
    "data[data['Age'].isnull() == False].head(2)"
   ]
  },
  {
   "cell_type": "markdown",
   "metadata": {},
   "source": [
    "## Choose mean or median?\n",
    "#data.iloc[1]['Age'] = 38.0\n",
    "\n",
    "-----------Now set set to null\n",
    "data['Age'].loc[1] = np.nan\n",
    "\n",
    "\n",
    "#mean = 29.68 data['Age'].mean()\n",
    "#median = 28 data['Age'].median()\n",
    "## FINDING:\n",
    "    Choose mean as it is giving the closest value"
   ]
  },
  {
   "cell_type": "code",
   "execution_count": 155,
   "metadata": {},
   "outputs": [],
   "source": [
    "for i,dataset in enumerate(full_data):\n",
    "    dataset['Age'] = dataset['Age'].fillna(dataset['Age'].mean())\n",
    "    dataset['Fare'] = dataset['Fare'].fillna(dataset['Fare'].mean())\n",
    "    dataset['Embarked'] = dataset['Embarked'].fillna(dataset['Embarked'].mode()[0])\n",
    "    if i == 0:\n",
    "        data = dataset\n",
    "    else:\n",
    "        test = dataset\n",
    "full_data = [data,test]"
   ]
  },
  {
   "cell_type": "code",
   "execution_count": 156,
   "metadata": {},
   "outputs": [
    {
     "data": {
      "text/plain": [
       "Survived       0\n",
       "Pclass         0\n",
       "Name           0\n",
       "Sex            0\n",
       "Age            0\n",
       "Ticket         0\n",
       "Fare           0\n",
       "Embarked       0\n",
       "family_size    0\n",
       "is_alone       0\n",
       "dtype: int64"
      ]
     },
     "execution_count": 156,
     "metadata": {},
     "output_type": "execute_result"
    }
   ],
   "source": [
    "data.isnull().sum()\n",
    "#bk_data = data"
   ]
  },
  {
   "cell_type": "markdown",
   "metadata": {},
   "source": [
    "## Outlier analysis for continous variables"
   ]
  },
  {
   "cell_type": "code",
   "execution_count": 157,
   "metadata": {},
   "outputs": [
    {
     "data": {
      "image/png": "[encoded data removed]",
      "text/plain": [
       "<Figure size 432x288 with 1 Axes>"
      ]
     },
     "metadata": {
      "needs_background": "light"
     },
     "output_type": "display_data"
    }
   ],
   "source": [
    "plot = []\n",
    "for i in continous_names:\n",
    "    #plt.boxplot(train_df.iloc[:,i])\n",
    "    plot.append(list(data.loc[:,i]))\n",
    "#plot = [list(train_df.loc[:,'Item_Weight']), list(train_df.loc[:,'Item_MRP'])]\n",
    "plt.boxplot(plot, notch = 'True', patch_artist= True, labels=continous_names)\n",
    "plt.show()"
   ]
  },
  {
   "cell_type": "markdown",
   "metadata": {},
   "source": [
    "## FINDING: \n",
    "A lot of outliers in age, fare..Lets remove those"
   ]
  },
  {
   "cell_type": "code",
   "execution_count": 160,
   "metadata": {},
   "outputs": [
    {
     "name": "stdout",
     "output_type": "stream",
     "text": [
      "-----Thes will be droppped for col : Survived \n",
      " Empty DataFrame\n",
      "Columns: [Survived, Pclass, Name, Sex, Age, Ticket, Fare, Embarked, family_size, is_alone]\n",
      "Index: []\n",
      "-1.5 1.5\n",
      "-----Thes will be droppped for col : Pclass \n",
      " Empty DataFrame\n",
      "Columns: [Survived, Pclass, Name, Sex, Age, Ticket, Fare, Embarked, family_size, is_alone]\n",
      "Index: []\n",
      "0.5 3.5\n",
      "-----Thes will be droppped for col : Age \n",
      "     Survived  Pclass                              Name     Sex   Age  \\\n",
      "6          0       1           McCarthy, Mr. Timothy J    male  54.0   \n",
      "11         1       1          Bonnell, Miss. Elizabeth  female  58.0   \n",
      "15         1       2  Hewlett, Mrs. (Mary D Kingcome)   female  55.0   \n",
      "33         0       2             Wheadon, Mr. Edward H    male  66.0   \n",
      "35         0       1    Holverson, Mr. Alexander Oskar    male  42.0   \n",
      "\n",
      "        Ticket     Fare Embarked  family_size is_alone  \n",
      "6        17463  51.8625        S            1        1  \n",
      "11      113783  26.5500        S            1        1  \n",
      "15      248706  16.0000        S            1        1  \n",
      "33  C.A. 24579  10.5000        S            1        1  \n",
      "35      113789  52.0000        S            2        0  \n",
      "2.5 41.5\n",
      "-----Thes will be droppped for col : Fare \n",
      "     Survived  Pclass                                               Name  \\\n",
      "1          1       1  Cumings, Mrs. John Bradley (Florence Briggs Th...   \n",
      "3          1       1       Futrelle, Mrs. Jacques Heath (Lily May Peel)   \n",
      "27         0       1                     Fortune, Mr. Charles Alexander   \n",
      "31         1       1     Spencer, Mrs. William Augustus (Marie Eugenie)   \n",
      "34         0       1                            Meyer, Mr. Edgar Joseph   \n",
      "\n",
      "       Sex        Age    Ticket      Fare Embarked  family_size is_alone  \n",
      "1   female  38.000000  PC 17599   71.2833        C            2        0  \n",
      "3   female  35.000000    113803   53.1000        S            2        0  \n",
      "27    male  19.000000     19950  263.0000        S            6        0  \n",
      "31  female  29.699118  PC 17569  146.5208        C            2        0  \n",
      "34    male  28.000000  PC 17604   82.1708        C            2        0  \n",
      "-22.110499999999995 37.9021\n",
      "-----Thes will be droppped for col : family_size \n",
      "     Survived  Pclass                                               Name  \\\n",
      "8          1       3  Johnson, Mrs. Oscar W (Elisabeth Vilhelmina Berg)   \n",
      "10         1       3                    Sandstrom, Miss. Marguerite Rut   \n",
      "13         0       3                        Andersson, Mr. Anders Johan   \n",
      "24         0       3                      Palsson, Miss. Torborg Danira   \n",
      "25         1       3  Asplund, Mrs. Carl Oscar (Selma Augusta Emilia...   \n",
      "\n",
      "       Sex   Age   Ticket     Fare Embarked  family_size is_alone  \n",
      "8   female  27.0   347742  11.1333        S            3        0  \n",
      "10  female   4.0  PP 9549  16.7000        S            3        0  \n",
      "13    male  39.0   347082  31.2750        S            7        0  \n",
      "24  female   8.0   349909  21.0750        S            5        0  \n",
      "25  female  38.0   347077  31.3875        S            7        0  \n",
      "-0.5 2.5\n"
     ]
    }
   ],
   "source": [
    "#data = full_data[0]\n",
    "for i in continous_names:\n",
    "    q75,q25 = np.percentile(data.loc[:,i],[75,25])\n",
    "    iqr = q75 - q25\n",
    "    min = q25 - (iqr* 1.5)#lower fence\n",
    "    max = q25 + (iqr* 1.5)#upper fence\n",
    "    #if train_df.loc[:,i] < min:\n",
    "    \n",
    "    print('-----Thes will be droppped for col :',i,'\\n',data[data.loc[:,i] >max].head())\n",
    "    print(min,max)\n",
    "    data = data.drop(data[data.loc[:,i] <min].index)\n",
    "    data = data.drop(data[data.loc[:,i] > max].index)\n",
    "    test = test.drop(data[data.loc[:,i] <min].index)\n",
    "    test = test.drop(data[data.loc[:,i] > max].index)"
   ]
  },
  {
   "cell_type": "code",
   "execution_count": 163,
   "metadata": {},
   "outputs": [
    {
     "data": {
      "text/plain": [
       "((484, 10), (418, 9))"
      ]
     },
     "execution_count": 163,
     "metadata": {},
     "output_type": "execute_result"
    }
   ],
   "source": [
    "full_data=[data,test]\n",
    "data.shape,test.shape\n"
   ]
  },
  {
   "cell_type": "markdown",
   "metadata": {},
   "source": [
    "## chi-square analysis for categorical\n",
    "#Hypothesis H0(NUll hypothesis)- Relation b/w all IV variable(seperately) and dependent(outlet_sales) is said to be independent of each other\n",
    "#H1- says that the Relation b/w all IV variable(seperately) and dependent(outlet_sales) is said to be dependent on each other\n",
    "#if p-val>0.05 the H0 is accepted, signifiying that there is no significant relation and they are independent and hence we can drop that var\n",
    "#if p-val <0.05 H0 is rejected and H1 is accepted and we can include the var, since\n",
    "#they are dependent and can explain the DV significantly"
   ]
  },
  {
   "cell_type": "code",
   "execution_count": 164,
   "metadata": {},
   "outputs": [
    {
     "name": "stdout",
     "output_type": "stream",
     "text": [
      "skip -p value 0.478627 Name\n",
      "accept -pvalue 0.000000 Sex\n",
      "skip -p value 0.474724 Ticket\n",
      "accept -pvalue 0.008503 Embarked\n",
      "accept -pvalue 0.005298 is_alone\n"
     ]
    }
   ],
   "source": [
    "#bk_data = data\n",
    "#data = bk_data\n",
    "skip_list = []\n",
    "for i in cat_names:\n",
    "    chi2, p, dof,ex = chi2_contingency(pd.crosstab(data['Survived'], data[i]))\n",
    "    if(p<0.05):#H1 accepted\n",
    "        print('accept -pvalue %f %s'%(p,i))\n",
    "        \n",
    "    else:\n",
    "        print('skip -p value %f %s'%(p,i))\n",
    "        skip_list.append(i)\n",
    "data = data.drop(skip_list,axis=1)\n",
    "test = test.drop(skip_list,axis=1)\n",
    "\n",
    "#Remove irrelevant categorical variables\n",
    "cat_names = [ x for x in cat_names if x not in skip_list]"
   ]
  },
  {
   "cell_type": "code",
   "execution_count": 165,
   "metadata": {},
   "outputs": [
    {
     "data": {
      "text/plain": [
       "((484, 8), (418, 7))"
      ]
     },
     "execution_count": 165,
     "metadata": {},
     "output_type": "execute_result"
    }
   ],
   "source": [
    "full_data = [data,test]#Update the list\n",
    "data.shape, test.shape"
   ]
  },
  {
   "cell_type": "code",
   "execution_count": 166,
   "metadata": {},
   "outputs": [
    {
     "data": {
      "text/html": [
       "<div>\n",
       "<style scoped>\n",
       "    .dataframe tbody tr th:only-of-type {\n",
       "        vertical-align: middle;\n",
       "    }\n",
       "\n",
       "    .dataframe tbody tr th {\n",
       "        vertical-align: top;\n",
       "    }\n",
       "\n",
       "    .dataframe thead th {\n",
       "        text-align: right;\n",
       "    }\n",
       "</style>\n",
       "<table border=\"1\" class=\"dataframe\">\n",
       "  <thead>\n",
       "    <tr style=\"text-align: right;\">\n",
       "      <th></th>\n",
       "      <th>Survived</th>\n",
       "      <th>Pclass</th>\n",
       "      <th>Age</th>\n",
       "      <th>Fare</th>\n",
       "      <th>family_size</th>\n",
       "    </tr>\n",
       "  </thead>\n",
       "  <tbody>\n",
       "    <tr>\n",
       "      <th>count</th>\n",
       "      <td>484.000000</td>\n",
       "      <td>484.000000</td>\n",
       "      <td>484.000000</td>\n",
       "      <td>484.000000</td>\n",
       "      <td>484.000000</td>\n",
       "    </tr>\n",
       "    <tr>\n",
       "      <th>mean</th>\n",
       "      <td>0.293388</td>\n",
       "      <td>2.628099</td>\n",
       "      <td>27.146238</td>\n",
       "      <td>11.697089</td>\n",
       "      <td>1.163223</td>\n",
       "    </tr>\n",
       "    <tr>\n",
       "      <th>std</th>\n",
       "      <td>0.455786</td>\n",
       "      <td>0.618985</td>\n",
       "      <td>6.271089</td>\n",
       "      <td>7.044375</td>\n",
       "      <td>0.369952</td>\n",
       "    </tr>\n",
       "    <tr>\n",
       "      <th>min</th>\n",
       "      <td>0.000000</td>\n",
       "      <td>1.000000</td>\n",
       "      <td>4.000000</td>\n",
       "      <td>0.000000</td>\n",
       "      <td>1.000000</td>\n",
       "    </tr>\n",
       "    <tr>\n",
       "      <th>25%</th>\n",
       "      <td>0.000000</td>\n",
       "      <td>2.000000</td>\n",
       "      <td>22.000000</td>\n",
       "      <td>7.750000</td>\n",
       "      <td>1.000000</td>\n",
       "    </tr>\n",
       "    <tr>\n",
       "      <th>50%</th>\n",
       "      <td>0.000000</td>\n",
       "      <td>3.000000</td>\n",
       "      <td>29.699118</td>\n",
       "      <td>8.050000</td>\n",
       "      <td>1.000000</td>\n",
       "    </tr>\n",
       "    <tr>\n",
       "      <th>75%</th>\n",
       "      <td>1.000000</td>\n",
       "      <td>3.000000</td>\n",
       "      <td>29.699118</td>\n",
       "      <td>13.000000</td>\n",
       "      <td>1.000000</td>\n",
       "    </tr>\n",
       "    <tr>\n",
       "      <th>max</th>\n",
       "      <td>1.000000</td>\n",
       "      <td>3.000000</td>\n",
       "      <td>41.000000</td>\n",
       "      <td>35.500000</td>\n",
       "      <td>2.000000</td>\n",
       "    </tr>\n",
       "  </tbody>\n",
       "</table>\n",
       "</div>"
      ],
      "text/plain": [
       "         Survived      Pclass         Age        Fare  family_size\n",
       "count  484.000000  484.000000  484.000000  484.000000   484.000000\n",
       "mean     0.293388    2.628099   27.146238   11.697089     1.163223\n",
       "std      0.455786    0.618985    6.271089    7.044375     0.369952\n",
       "min      0.000000    1.000000    4.000000    0.000000     1.000000\n",
       "25%      0.000000    2.000000   22.000000    7.750000     1.000000\n",
       "50%      0.000000    3.000000   29.699118    8.050000     1.000000\n",
       "75%      1.000000    3.000000   29.699118   13.000000     1.000000\n",
       "max      1.000000    3.000000   41.000000   35.500000     2.000000"
      ]
     },
     "execution_count": 166,
     "metadata": {},
     "output_type": "execute_result"
    }
   ],
   "source": [
    "data.describe()"
   ]
  },
  {
   "cell_type": "markdown",
   "metadata": {},
   "source": [
    "## FINDING\n",
    "min Fare says 0\n"
   ]
  },
  {
   "cell_type": "code",
   "execution_count": 167,
   "metadata": {},
   "outputs": [
    {
     "data": {
      "text/plain": [
       "<matplotlib.axes._subplots.AxesSubplot at 0x29c5dd86b00>"
      ]
     },
     "execution_count": 167,
     "metadata": {},
     "output_type": "execute_result"
    },
    {
     "data": {
      "image/png": "[encoded data removed]",
      "text/plain": [
       "<Figure size 432x288 with 1 Axes>"
      ]
     },
     "metadata": {
      "needs_background": "light"
     },
     "output_type": "display_data"
    }
   ],
   "source": [
    "data[data['Fare']==0].Pclass.value_counts().plot.bar()"
   ]
  },
  {
   "cell_type": "markdown",
   "metadata": {},
   "source": [
    "## FINDING\n",
    "Either Class 2 dint pay prices or its just missing :)"
   ]
  },
  {
   "cell_type": "code",
   "execution_count": 168,
   "metadata": {},
   "outputs": [],
   "source": [
    "for dataset in full_data:\n",
    "    #fare is in floating values, lets map to categories(see categorical_fare for binning ranges),but still int\n",
    "    dataset.loc[dataset['Fare'] <= 7.91,'Fare'] = 0\n",
    "    dataset.loc[(dataset['Fare'] > 7.91) & (dataset['Fare'] <= 14.54),'Fare'] = 1\n",
    "    dataset.loc[(dataset['Fare'] > 14.454) & (dataset['Fare'] <= 31), 'Fare']   = 2\n",
    "    dataset.loc[ dataset['Fare'] > 31, 'Fare'] = 3\n",
    "    #same with age\n",
    "    dataset.loc[ dataset['Age'] <= 16, 'Age'] = 0\n",
    "    dataset.loc[(dataset['Age'] > 16) & (dataset['Age'] <= 32), 'Age'] = 1\n",
    "    dataset.loc[(dataset['Age'] > 32) & (dataset['Age'] <= 48), 'Age'] = 2\n",
    "    dataset.loc[(dataset['Age'] > 48) & (dataset['Age'] <= 64), 'Age'] = 3\n",
    "    dataset.loc[ dataset['Age'] > 64, 'Age'] = 4 "
   ]
  },
  {
   "cell_type": "code",
   "execution_count": 169,
   "metadata": {},
   "outputs": [
    {
     "data": {
      "text/plain": [
       "<matplotlib.axes._subplots.AxesSubplot at 0x29c5e34cb70>"
      ]
     },
     "execution_count": 169,
     "metadata": {},
     "output_type": "execute_result"
    },
    {
     "data": {
      "image/png": "[encoded data removed]",
      "text/plain": [
       "<Figure size 432x288 with 1 Axes>"
      ]
     },
     "metadata": {
      "needs_background": "light"
     },
     "output_type": "display_data"
    }
   ],
   "source": [
    "#data.groupby('Age').Survived.count().plot.bar()\n",
    "data['Age'].hist()"
   ]
  },
  {
   "cell_type": "code",
   "execution_count": 170,
   "metadata": {},
   "outputs": [
    {
     "data": {
      "text/plain": [
       "<matplotlib.axes._subplots.AxesSubplot at 0x29c5d7c4748>"
      ]
     },
     "execution_count": 170,
     "metadata": {},
     "output_type": "execute_result"
    },
    {
     "data": {
      "image/png": "[encoded data removed]",
      "text/plain": [
       "<Figure size 432x288 with 1 Axes>"
      ]
     },
     "metadata": {
      "needs_background": "light"
     },
     "output_type": "display_data"
    }
   ],
   "source": [
    "data.groupby('Age').Survived.value_counts().unstack(0).plot.bar()"
   ]
  },
  {
   "cell_type": "code",
   "execution_count": 171,
   "metadata": {},
   "outputs": [
    {
     "name": "stdout",
     "output_type": "stream",
     "text": [
      "Per of child survived  62.5\n",
      "Per of adult survived  27.648578811369507\n",
      "Per of middle age survived  27.397260273972602\n"
     ]
    }
   ],
   "source": [
    "child = data[data['Age'] == 0]\n",
    "adult =  data[data['Age'] == 1]\n",
    "middle =  data[data['Age'] == 2]\n",
    "child_surv = child[child['Survived'] == 1]\n",
    "adult_surv = adult[adult['Survived'] == 1]\n",
    "middle_surv = middle[middle['Survived'] == 1]\n",
    "print(\"Per of child survived \",(len(child_surv)/len(child))*100)\n",
    "print(\"Per of adult survived \",(len(adult_surv)/len(adult))*100)\n",
    "print(\"Per of middle age survived \",(len(middle_surv)/len(middle))*100)"
   ]
  },
  {
   "cell_type": "code",
   "execution_count": null,
   "metadata": {},
   "outputs": [],
   "source": [
    "## FINDINGS\n",
    "Children survived the most, so age is significant for survival"
   ]
  },
  {
   "cell_type": "markdown",
   "metadata": {},
   "source": [
    "## Heatmap analysis"
   ]
  },
  {
   "cell_type": "code",
   "execution_count": 172,
   "metadata": {},
   "outputs": [
    {
     "name": "stdout",
     "output_type": "stream",
     "text": [
      "AxesSubplot(0.125,0.1925;0.62x0.62)\n"
     ]
    },
    {
     "data": {
      "image/png": "[encoded data removed]",
      "text/plain": [
       "<Figure size 648x648 with 2 Axes>"
      ]
     },
     "metadata": {
      "needs_background": "light"
     },
     "output_type": "display_data"
    }
   ],
   "source": [
    "f,ax=plt.subplots(figsize=(9,9))\n",
    "corr = data.loc[:,continous_names].corr()\n",
    "print(sb.heatmap(corr,mask=np.zeros_like(corr,dtype=np.bool),cmap=sb.diverging_palette(220,10,as_cmap=True),\n",
    "            square =True,ax=ax,annot = True))"
   ]
  },
  {
   "cell_type": "code",
   "execution_count": 391,
   "metadata": {},
   "outputs": [
    {
     "name": "stdout",
     "output_type": "stream",
     "text": [
      "-----Summary of columns\n",
      "Total col - 9\n",
      "continous are - 5\n",
      "   Survived  Pclass  Age  Fare  family_size\n",
      "0         0       3  1.0   0.0            2\n",
      "-----\n",
      "categorical are - 4\n",
      "    Sex     Ticket Embarked is_alone\n",
      "0  male  A/5 21171        S        0\n"
     ]
    }
   ],
   "source": [
    "#data['Fare']data[data['Fare']==0]\n",
    "#data.describe()\n",
    "#data['Survived'] = data['Survived'].astype('int')\n",
    "continous_names, cat_names = get_col_names()\n",
    "print('-----Summary of columns')\n",
    "print('Total col -',data.shape[1] )\n",
    "print('continous are -', len(continous_names))\n",
    "print(data[continous_names].head(1))\n",
    "print('-----')\n",
    "print('categorical are -', len(cat_names))\n",
    "print(data[cat_names].head(1))"
   ]
  },
  {
   "cell_type": "code",
   "execution_count": 251,
   "metadata": {},
   "outputs": [
    {
     "name": "stdout",
     "output_type": "stream",
     "text": [
      "count    891.000000\n",
      "mean      32.204208\n",
      "std       49.693429\n",
      "min        0.000000\n",
      "25%        7.910400\n",
      "50%       14.454200\n",
      "75%       31.000000\n",
      "max      512.329200\n",
      "Name: Fare, dtype: float64\n"
     ]
    },
    {
     "data": {
      "text/plain": [
       "<matplotlib.collections.PathCollection at 0x29c5afd7588>"
      ]
     },
     "execution_count": 251,
     "metadata": {},
     "output_type": "execute_result"
    },
    {
     "data": {
      "image/png": "[encoded data removed]",
      "text/plain": [
       "<Figure size 432x288 with 1 Axes>"
      ]
     },
     "metadata": {
      "needs_background": "light"
     },
     "output_type": "display_data"
    }
   ],
   "source": [
    "#lets see how is the decision boundary going to be\n",
    "df0 = data[data['Survived'] == 0]\n",
    "df1 = data[data['Survived'] == 1]\n",
    "print(data.Fare.describe())\n",
    "plt.scatter(df0['Pclass'], df0.Fare, marker='+',color='red')\n",
    "plt.scatter(df1['Pclass'], df1.Fare, marker='X',color='green')"
   ]
  },
  {
   "cell_type": "code",
   "execution_count": null,
   "metadata": {},
   "outputs": [],
   "source": [
    "data.head(2)"
   ]
  },
  {
   "cell_type": "markdown",
   "metadata": {},
   "source": [
    "## lets plot some bar graphs for categorical variables"
   ]
  },
  {
   "cell_type": "code",
   "execution_count": 173,
   "metadata": {},
   "outputs": [
    {
     "data": {
      "text/plain": [
       "<matplotlib.axes._subplots.AxesSubplot at 0x29c5e2b8d30>"
      ]
     },
     "execution_count": 173,
     "metadata": {},
     "output_type": "execute_result"
    },
    {
     "data": {
      "image/png": "[encoded data removed]",
      "text/plain": [
       "<Figure size 432x288 with 1 Axes>"
      ]
     },
     "metadata": {
      "needs_background": "light"
     },
     "output_type": "display_data"
    }
   ],
   "source": [
    "##Sex,family size and survival\n",
    "data.groupby(['Sex','family_size'])['Survived'].mean().plot.bar()\n"
   ]
  },
  {
   "cell_type": "markdown",
   "metadata": {},
   "source": [
    "## Insight\n",
    "female survived more irrespective of family size"
   ]
  },
  {
   "cell_type": "code",
   "execution_count": 180,
   "metadata": {},
   "outputs": [
    {
     "data": {
      "text/plain": [
       "<matplotlib.axes._subplots.AxesSubplot at 0x29c5e8f4c50>"
      ]
     },
     "execution_count": 180,
     "metadata": {},
     "output_type": "execute_result"
    },
    {
     "data": {
      "image/png": "[encoded data removed]",
      "text/plain": [
       "<Figure size 432x288 with 1 Axes>"
      ]
     },
     "metadata": {
      "needs_background": "light"
     },
     "output_type": "display_data"
    }
   ],
   "source": [
    "#Sex and survival\n",
    "#Graphical\n",
    "data.groupby(['Sex'])['Survived'].mean().plot.bar()"
   ]
  },
  {
   "cell_type": "code",
   "execution_count": 179,
   "metadata": {},
   "outputs": [
    {
     "name": "stdout",
     "output_type": "stream",
     "text": [
      "Total males-- 357 Total females--  127\n",
      "No of male survivors--- 51 No of female survivors--- 91\n",
      "per of male survivors--- 14.285714285714285 No of female survivors--- 71.65354330708661\n"
     ]
    }
   ],
   "source": [
    "#mathematical\n",
    "male = data[data['Sex'] == 'male']\n",
    "female = data[data['Sex'] == 'female']\n",
    "male_sur = male[male['Survived'] == 1]\n",
    "female_sur = female[female['Survived'] == 1]\n",
    "print('Total males--',len(male), 'Total females-- ',len(female))\n",
    "print('No of male survivors---',len(male_sur),'No of female survivors---',len(female_sur))\n",
    "print('per of male survivors---',len(male_sur)/len(male)*100,'No of female survivors---',len(female_sur)/len(female)*100)"
   ]
  },
  {
   "cell_type": "markdown",
   "metadata": {},
   "source": [
    "## Insight\n",
    "Female survived more"
   ]
  },
  {
   "cell_type": "code",
   "execution_count": 394,
   "metadata": {},
   "outputs": [],
   "source": [
    "sur =data[data['Survived'] == 1]\n",
    "non_sur =data[data['Survived'] == 0]\n",
    "male_surv = sur[sur['Sex'] == 'male']\n",
    "female_surv = sur[sur['Sex'] == 'female']\n",
    "male_non_surv = sur[sur['Sex'] == 'male']\n",
    "female_non_surv = sur[sur['Sex'] == 'female']"
   ]
  },
  {
   "cell_type": "code",
   "execution_count": 181,
   "metadata": {},
   "outputs": [
    {
     "data": {
      "text/html": [
       "<div>\n",
       "<style scoped>\n",
       "    .dataframe tbody tr th:only-of-type {\n",
       "        vertical-align: middle;\n",
       "    }\n",
       "\n",
       "    .dataframe tbody tr th {\n",
       "        vertical-align: top;\n",
       "    }\n",
       "\n",
       "    .dataframe thead th {\n",
       "        text-align: right;\n",
       "    }\n",
       "</style>\n",
       "<table border=\"1\" class=\"dataframe\">\n",
       "  <thead>\n",
       "    <tr style=\"text-align: right;\">\n",
       "      <th></th>\n",
       "      <th>Survived</th>\n",
       "      <th>Pclass</th>\n",
       "      <th>Age</th>\n",
       "      <th>Fare</th>\n",
       "      <th>family_size</th>\n",
       "    </tr>\n",
       "  </thead>\n",
       "  <tbody>\n",
       "    <tr>\n",
       "      <th>count</th>\n",
       "      <td>484.000000</td>\n",
       "      <td>484.000000</td>\n",
       "      <td>484.000000</td>\n",
       "      <td>484.000000</td>\n",
       "      <td>484.000000</td>\n",
       "    </tr>\n",
       "    <tr>\n",
       "      <th>mean</th>\n",
       "      <td>0.293388</td>\n",
       "      <td>2.628099</td>\n",
       "      <td>1.101240</td>\n",
       "      <td>0.795455</td>\n",
       "      <td>1.163223</td>\n",
       "    </tr>\n",
       "    <tr>\n",
       "      <th>std</th>\n",
       "      <td>0.455786</td>\n",
       "      <td>0.618985</td>\n",
       "      <td>0.436529</td>\n",
       "      <td>0.786467</td>\n",
       "      <td>0.369952</td>\n",
       "    </tr>\n",
       "    <tr>\n",
       "      <th>min</th>\n",
       "      <td>0.000000</td>\n",
       "      <td>1.000000</td>\n",
       "      <td>0.000000</td>\n",
       "      <td>0.000000</td>\n",
       "      <td>1.000000</td>\n",
       "    </tr>\n",
       "    <tr>\n",
       "      <th>25%</th>\n",
       "      <td>0.000000</td>\n",
       "      <td>2.000000</td>\n",
       "      <td>1.000000</td>\n",
       "      <td>0.000000</td>\n",
       "      <td>1.000000</td>\n",
       "    </tr>\n",
       "    <tr>\n",
       "      <th>50%</th>\n",
       "      <td>0.000000</td>\n",
       "      <td>3.000000</td>\n",
       "      <td>1.000000</td>\n",
       "      <td>1.000000</td>\n",
       "      <td>1.000000</td>\n",
       "    </tr>\n",
       "    <tr>\n",
       "      <th>75%</th>\n",
       "      <td>1.000000</td>\n",
       "      <td>3.000000</td>\n",
       "      <td>1.000000</td>\n",
       "      <td>1.000000</td>\n",
       "      <td>1.000000</td>\n",
       "    </tr>\n",
       "    <tr>\n",
       "      <th>max</th>\n",
       "      <td>1.000000</td>\n",
       "      <td>3.000000</td>\n",
       "      <td>2.000000</td>\n",
       "      <td>3.000000</td>\n",
       "      <td>2.000000</td>\n",
       "    </tr>\n",
       "  </tbody>\n",
       "</table>\n",
       "</div>"
      ],
      "text/plain": [
       "         Survived      Pclass         Age        Fare  family_size\n",
       "count  484.000000  484.000000  484.000000  484.000000   484.000000\n",
       "mean     0.293388    2.628099    1.101240    0.795455     1.163223\n",
       "std      0.455786    0.618985    0.436529    0.786467     0.369952\n",
       "min      0.000000    1.000000    0.000000    0.000000     1.000000\n",
       "25%      0.000000    2.000000    1.000000    0.000000     1.000000\n",
       "50%      0.000000    3.000000    1.000000    1.000000     1.000000\n",
       "75%      1.000000    3.000000    1.000000    1.000000     1.000000\n",
       "max      1.000000    3.000000    2.000000    3.000000     2.000000"
      ]
     },
     "execution_count": 181,
     "metadata": {},
     "output_type": "execute_result"
    }
   ],
   "source": [
    "data.describe()"
   ]
  },
  {
   "cell_type": "code",
   "execution_count": 182,
   "metadata": {},
   "outputs": [
    {
     "data": {
      "text/plain": [
       "<matplotlib.axes._subplots.AxesSubplot at 0x29c5d948cc0>"
      ]
     },
     "execution_count": 182,
     "metadata": {},
     "output_type": "execute_result"
    },
    {
     "data": {
      "image/png": "[encoded data removed]",
      "text/plain": [
       "<Figure size 432x288 with 1 Axes>"
      ]
     },
     "metadata": {
      "needs_background": "light"
     },
     "output_type": "display_data"
    }
   ],
   "source": [
    "#Lets look at fare\n",
    "data['Fare'].hist()"
   ]
  },
  {
   "cell_type": "code",
   "execution_count": 399,
   "metadata": {},
   "outputs": [
    {
     "data": {
      "text/plain": [
       "<matplotlib.axes._subplots.AxesSubplot at 0x1ee294844a8>"
      ]
     },
     "execution_count": 399,
     "metadata": {},
     "output_type": "execute_result"
    },
    {
     "data": {
      "image/png": "[encoded data removed]",
      "text/plain": [
       "<Figure size 432x288 with 1 Axes>"
      ]
     },
     "metadata": {
      "needs_background": "light"
     },
     "output_type": "display_data"
    }
   ],
   "source": [
    "#we have largest number of people from pclass-3\n",
    "data['Pclass'].hist()"
   ]
  },
  {
   "cell_type": "code",
   "execution_count": 400,
   "metadata": {},
   "outputs": [
    {
     "data": {
      "text/plain": [
       "<matplotlib.axes._subplots.AxesSubplot at 0x1ee2953fb00>"
      ]
     },
     "execution_count": 400,
     "metadata": {},
     "output_type": "execute_result"
    },
    {
     "data": {
      "image/png": "[encoded data removed]",
      "text/plain": [
       "<Figure size 432x288 with 1 Axes>"
      ]
     },
     "metadata": {
      "needs_background": "light"
     },
     "output_type": "display_data"
    }
   ],
   "source": [
    "#Pclass and survival\n",
    "#Graphical\n",
    "data.groupby('Pclass').Survived.value_counts().unstack(0).plot.bar()"
   ]
  },
  {
   "cell_type": "code",
   "execution_count": 403,
   "metadata": {},
   "outputs": [
    {
     "name": "stdout",
     "output_type": "stream",
     "text": [
      "survived-----p1 12.676056338028168 --p2 31.690140845070424 --p3 55.633802816901415\n",
      "non-survived ---p1 5.263157894736842 --p2 18.421052631578945 --p3 76.31578947368422\n"
     ]
    }
   ],
   "source": [
    "#mathematical\n",
    "surv = data[data['Survived'] == 1]\n",
    "surv_p1,surv_p2,surv_p3= surv[surv['Pclass'] == 1],surv[surv['Pclass'] == 2],surv[surv['Pclass'] == 3]\n",
    "print('survived-----p1',len(surv_p1)/len(surv)*100,'--p2',len(surv_p2)/len(surv)*100,'--p3',len(surv_p3)/len(surv)*100)\n",
    "\n",
    "non_surv = data[data['Survived'] == 0]\n",
    "##print(non_surv[non_surv['Pclass'] == 1])\n",
    "non_surv_p1,non_surv_p2,non_surv_p3= non_surv[non_surv['Pclass'] == 1],non_surv[non_surv['Pclass'] == 2],non_surv[non_surv['Pclass'] == 3]\n",
    "print('non-survived ---p1',len(non_surv_p1)/len(non_surv)*100,'--p2',len(non_surv_p2)/len(non_surv)*100,'--p3',len(non_surv_p3)/len(non_surv)*100)\n"
   ]
  },
  {
   "cell_type": "markdown",
   "metadata": {},
   "source": [
    "## Insight\n",
    "out of all the classes P3 survived the most"
   ]
  },
  {
   "cell_type": "code",
   "execution_count": 404,
   "metadata": {},
   "outputs": [
    {
     "data": {
      "text/plain": [
       "<matplotlib.axes._subplots.AxesSubplot at 0x1ee296129e8>"
      ]
     },
     "execution_count": 404,
     "metadata": {},
     "output_type": "execute_result"
    },
    {
     "data": {
      "image/png": "[encoded data removed]",
      "text/plain": [
       "<Figure size 432x288 with 1 Axes>"
      ]
     },
     "metadata": {
      "needs_background": "light"
     },
     "output_type": "display_data"
    }
   ],
   "source": [
    "data.groupby('Survived').Fare.mean().plot.bar()"
   ]
  },
  {
   "cell_type": "code",
   "execution_count": 184,
   "metadata": {},
   "outputs": [
    {
     "name": "stdout",
     "output_type": "stream",
     "text": [
      "mean fare of non-survivors--  0.6929824561403509 \n",
      "mean fare of survivors -- 1.0422535211267605\n"
     ]
    }
   ],
   "source": [
    "#Fare and survival\n",
    "surv = data[data['Survived'] == 1]\n",
    "non_surv = data[data['Survived'] == 0]\n",
    "print('mean fare of non-survivors-- ',non_surv['Fare'].mean(),'\\nmean fare of survivors --',surv['Fare'].mean())\n",
    "\n"
   ]
  },
  {
   "cell_type": "markdown",
   "metadata": {},
   "source": [
    "## Insight\n",
    "Looks like survivors paid more fare"
   ]
  },
  {
   "cell_type": "markdown",
   "metadata": {},
   "source": [
    "## Is there any relation b/w passenger fare and survival"
   ]
  },
  {
   "cell_type": "code",
   "execution_count": 193,
   "metadata": {},
   "outputs": [
    {
     "data": {
      "text/plain": [
       "<matplotlib.axes._subplots.AxesSubplot at 0x29c5df19160>"
      ]
     },
     "execution_count": 193,
     "metadata": {},
     "output_type": "execute_result"
    },
    {
     "data": {
      "image/png": "[encoded data removed]",
      "text/plain": [
       "<Figure size 432x288 with 1 Axes>"
      ]
     },
     "metadata": {
      "needs_background": "light"
     },
     "output_type": "display_data"
    }
   ],
   "source": [
    "#get dataframe having fare > mean fare,and see how many such people who payed more fare survived\n",
    "tmp = pd.DataFrame(data[data['Fare'] > data['Fare'].mean()].Survived, columns = ['Survived'])\n",
    "tmp.groupby('Survived').Survived.count().plot.bar()"
   ]
  },
  {
   "cell_type": "code",
   "execution_count": 195,
   "metadata": {},
   "outputs": [
    {
     "name": "stdout",
     "output_type": "stream",
     "text": [
      "People who paid more than avg fare and did not survived-- 183\n",
      "People who paid more than avg fare and did survived-- 98\n"
     ]
    }
   ],
   "source": [
    "#mathematical proof\n",
    "passenger_paid_more_than_avg = data[data['Fare'] >data['Fare'].mean()]\n",
    "passenger_paid_less_than_avg = data[data['Fare'] < data['Fare'].mean()]\n",
    "surv_passenger_paid_more_than_avg = passenger_paid_more_than_avg[passenger_paid_more_than_avg['Survived'] == 1]\n",
    "non_surv_passenger_paid_more_than_avg = passenger_paid_more_than_avg[passenger_paid_more_than_avg['Survived'] == 0]\n",
    "surv_passenger_paid_less_than_avg = passenger_paid_less_than_avg[passenger_paid_less_than_avg['Survived'] == 1]\n",
    "print('People who paid more than avg fare and did not survived--',len(non_surv_passenger_paid_more_than_avg))\n",
    "print('People who paid more than avg fare and did survived--',len(surv_passenger_paid_more_than_avg))"
   ]
  },
  {
   "cell_type": "code",
   "execution_count": 196,
   "metadata": {},
   "outputs": [
    {
     "data": {
      "text/plain": [
       "<matplotlib.axes._subplots.AxesSubplot at 0x29c5e38f0f0>"
      ]
     },
     "execution_count": 196,
     "metadata": {},
     "output_type": "execute_result"
    },
    {
     "data": {
      "image/png": "[encoded data removed]",
      "text/plain": [
       "<Figure size 432x288 with 1 Axes>"
      ]
     },
     "metadata": {
      "needs_background": "light"
     },
     "output_type": "display_data"
    }
   ],
   "source": [
    "#get dataframe having fare < avg fare,and see how many such people who payed more fare survived\n",
    "tmp = pd.DataFrame(data[data['Fare'] < data['Fare'].mean()].Survived, columns = ['Survived'])\n",
    "tmp.groupby('Survived').Survived.count().plot.bar()"
   ]
  },
  {
   "cell_type": "markdown",
   "metadata": {},
   "source": [
    "## Insight:\n",
    "Not much of a difference,both looks same .Fare is not that significant"
   ]
  },
  {
   "cell_type": "code",
   "execution_count": 197,
   "metadata": {},
   "outputs": [
    {
     "name": "stdout",
     "output_type": "stream",
     "text": [
      "-----Summary of columns\n",
      "Total col - 8\n",
      "continous are - 5\n",
      "   Survived  Pclass  Age  Fare  family_size\n",
      "0         0       3  1.0   0.0            2\n",
      "-----\n",
      "categorical are - 3\n",
      "    Sex Embarked is_alone\n",
      "0  male        S        0\n"
     ]
    }
   ],
   "source": [
    "continous_names, cat_names = get_col_names()\n",
    "print('-----Summary of columns')\n",
    "print('Total col -',data.shape[1] )\n",
    "print('continous are -', len(continous_names))\n",
    "print(data[continous_names].head(1))\n",
    "print('-----')\n",
    "print('categorical are -', len(cat_names))\n",
    "print(data[cat_names].head(1))"
   ]
  },
  {
   "cell_type": "markdown",
   "metadata": {},
   "source": [
    "## Normalization"
   ]
  },
  {
   "cell_type": "code",
   "execution_count": null,
   "metadata": {},
   "outputs": [],
   "source": [
    "#TBD"
   ]
  },
  {
   "cell_type": "code",
   "execution_count": 198,
   "metadata": {},
   "outputs": [
    {
     "data": {
      "text/plain": [
       "<matplotlib.axes._subplots.AxesSubplot at 0x29c5e3f0390>"
      ]
     },
     "execution_count": 198,
     "metadata": {},
     "output_type": "execute_result"
    },
    {
     "data": {
      "image/png": "[encoded data removed]",
      "text/plain": [
       "<Figure size 432x288 with 1 Axes>"
      ]
     },
     "metadata": {
      "needs_background": "light"
     },
     "output_type": "display_data"
    }
   ],
   "source": [
    "data.groupby('Embarked').Survived.value_counts().unstack(0).plot.bar()"
   ]
  },
  {
   "cell_type": "code",
   "execution_count": 199,
   "metadata": {},
   "outputs": [
    {
     "data": {
      "text/plain": [
       "<matplotlib.axes._subplots.AxesSubplot at 0x29c5e06a588>"
      ]
     },
     "execution_count": 199,
     "metadata": {},
     "output_type": "execute_result"
    },
    {
     "data": {
      "image/png": "[encoded data removed]",
      "text/plain": [
       "<Figure size 432x288 with 1 Axes>"
      ]
     },
     "metadata": {
      "needs_background": "light"
     },
     "output_type": "display_data"
    }
   ],
   "source": [
    "data.groupby('Embarked').Survived.value_counts().plot.barh()"
   ]
  },
  {
   "cell_type": "code",
   "execution_count": 206,
   "metadata": {},
   "outputs": [],
   "source": [
    "#lets drop ticket\n",
    "if 'Ticket' in cat_names:\n",
    "    for i,dataset in enumerate(full_data):\n",
    "        dataset = dataset.drop(['Ticket'], axis=1)\n",
    "        if i == 0:#updae back\n",
    "            data = dataset\n",
    "        else:\n",
    "            test = dataset\n",
    "    full_data = [data,test]#full update\n",
    "    cat_names.remove('Ticket')"
   ]
  },
  {
   "cell_type": "code",
   "execution_count": 208,
   "metadata": {},
   "outputs": [
    {
     "data": {
      "text/plain": [
       "(484, 8)"
      ]
     },
     "execution_count": 208,
     "metadata": {},
     "output_type": "execute_result"
    }
   ],
   "source": [
    "data.shape"
   ]
  },
  {
   "cell_type": "code",
   "execution_count": 224,
   "metadata": {},
   "outputs": [],
   "source": [
    "#Categ to dummy\n",
    "#full_data = [data,test]\n",
    "data = full_data[0]\n",
    "test = full_data[1]\n",
    "for i,dataset in enumerate(full_data):\n",
    "    dataset = pd.get_dummies(dataset, columns=cat_names)\n",
    "    if i == 0:#updae back\n",
    "        data = dataset\n",
    "    else:\n",
    "        test = dataset\n",
    "full_data = [data,test]#full update"
   ]
  },
  {
   "cell_type": "code",
   "execution_count": 210,
   "metadata": {},
   "outputs": [
    {
     "data": {
      "text/plain": [
       "Survived         int64\n",
       "Pclass           int64\n",
       "Age            float64\n",
       "Fare           float64\n",
       "family_size      int64\n",
       "Sex_female       uint8\n",
       "Sex_male         uint8\n",
       "Embarked_C       uint8\n",
       "Embarked_Q       uint8\n",
       "Embarked_S       uint8\n",
       "is_alone_0       uint8\n",
       "is_alone_1       uint8\n",
       "dtype: object"
      ]
     },
     "execution_count": 210,
     "metadata": {},
     "output_type": "execute_result"
    }
   ],
   "source": [
    "data.dtypes"
   ]
  },
  {
   "cell_type": "code",
   "execution_count": 213,
   "metadata": {},
   "outputs": [
    {
     "data": {
      "text/plain": [
       "(   Survived  Pclass  Age  Fare  family_size  Sex_female  Sex_male  Embarked_C  \\\n",
       " 0         0       3  1.0   0.0            2           0         1           0   \n",
       " \n",
       "    Embarked_Q  Embarked_S  is_alone_0  is_alone_1  \n",
       " 0           0           1           1           0  , (484, 12))"
      ]
     },
     "execution_count": 213,
     "metadata": {},
     "output_type": "execute_result"
    }
   ],
   "source": [
    "#Saving for future purpose\n",
    "data.to_csv(processed_data_path,index=False)\n",
    "#data = pd.read_csv(processed_data_path)\n",
    "data.head(1),data.shape\n",
    " \n",
    "\n"
   ]
  },
  {
   "cell_type": "code",
   "execution_count": 26,
   "metadata": {},
   "outputs": [
    {
     "name": "stdout",
     "output_type": "stream",
     "text": [
      "accuracy  0.8041237113402062\n"
     ]
    },
    {
     "name": "stderr",
     "output_type": "stream",
     "text": [
      "C:\\Users\\PAT\\Anaconda3\\lib\\site-packages\\sklearn\\ensemble\\forest.py:245: FutureWarning:\n",
      "\n",
      "The default value of n_estimators will change from 10 in version 0.20 to 100 in 0.22.\n",
      "\n"
     ]
    }
   ],
   "source": [
    "#Way 1: Directly using train_test_split\n",
    "\n",
    "iv = data.drop(['Survived'],axis=1)\n",
    "dv=data['Survived'].values\n",
    "iv_train, iv_test, dv_train,dv_test = train_test_split(iv,dv, test_size = 0.2)#way 1\n",
    "\n",
    "model = RandomForestClassifier().fit(iv_train,dv_train)\n",
    "print('accuracy ' ,model.score(iv_test,dv_test))"
   ]
  },
  {
   "cell_type": "code",
   "execution_count": 6,
   "metadata": {},
   "outputs": [],
   "source": [
    "#class to extend sklearn classifier\n",
    "class sklearnHelper(object):\n",
    "    def __init__(self, clf, seed = 0, params = None):\n",
    "        params['random_state'] = seed\n",
    "        self.clf = clf(**params)\n",
    "    def train(self, train_iv, train_dv):\n",
    "        self.clf.fit(train_iv, train_dv)#train on training data\n",
    "    def predict(self, test_iv):\n",
    "        return self.clf.predict(test_iv)\n",
    "    def feature_importances(self,x, y):\n",
    "        print(self.clf.fit(x,y).feature_importances_)\n",
    "    \n",
    "        "
   ]
  },
  {
   "cell_type": "code",
   "execution_count": 7,
   "metadata": {},
   "outputs": [],
   "source": [
    "rf_params = {\n",
    "    'n_estimators': 500,\n",
    "    'max_depth': 6,\n",
    "    'min_samples_leaf': 2,\n",
    "    'max_features' : 'sqrt',\n",
    "    'verbose':0\n",
    "}\n",
    "# Support Vector Classifier parameters \n",
    "svc_params = {\n",
    "    'kernel' : 'linear',\n",
    "    'C' : 0.025\n",
    "    }\n",
    "SEED = 0#for reprducibility\n",
    "NFOLDS = 5 #set folds for out-of-fold prediction\n",
    "kf = KFold(n_splits = NFOLDS)"
   ]
  },
  {
   "cell_type": "code",
   "execution_count": 8,
   "metadata": {},
   "outputs": [],
   "source": [
    "#call with object of respective class and initialize the parameters\n",
    "rf = sklearnHelper(clf = RandomForestClassifier, seed = SEED, params = rf_params)\n",
    "svc = sklearnHelper(clf=SVC, seed=SEED, params=svc_params)"
   ]
  },
  {
   "cell_type": "code",
   "execution_count": 9,
   "metadata": {},
   "outputs": [],
   "source": [
    "\n",
    "def get_oof(clf, iv, dv):\n",
    "    i = 0\n",
    "    avg_score = 0\n",
    "    it_score = 0\n",
    "    for train_index,test_index in kf.split(range(data.shape[0])):\n",
    "        iv_train, iv_test, dv_train,dv_test = iv[train_index], iv[test_index]\\\n",
    "                                ,dv[train_index], dv[test_index]\n",
    "            \n",
    "        clf.train(iv_train, dv_train)\n",
    "        dv_test_pred = clf.predict(iv_test)\n",
    "        it_score = sklearn.metrics.accuracy_score(dv_test, dv_test_pred)\n",
    "        avg_score += it_score\n",
    "        print(it_score)\n",
    "    return avg_score/NFOLDS"
   ]
  },
  {
   "cell_type": "code",
   "execution_count": 48,
   "metadata": {},
   "outputs": [
    {
     "name": "stdout",
     "output_type": "stream",
     "text": [
      "RandomForest-------\n",
      "0.7628865979381443\n",
      "0.8144329896907216\n",
      "0.8247422680412371\n",
      "0.8041237113402062\n",
      "0.84375\n",
      "Average rf score 0.8099871134020619\n",
      "SVC-----------------\n",
      "0.8041237113402062\n",
      "0.8247422680412371\n",
      "0.8041237113402062\n",
      "0.8041237113402062\n",
      "0.8645833333333334\n",
      "Average svm score 0.8203393470790378\n",
      "Training complete\n",
      "%%%%%%% SVM performs better for training set\n"
     ]
    }
   ],
   "source": [
    "iv = data.drop(['Survived'], axis =1).values #for kfolds, use arrays\n",
    "dv = data['Survived'].values\n",
    "\n",
    "print('RandomForest-------')\n",
    "rand_avg_score = get_oof(rf, iv, dv)\n",
    "print('Average rf score', rand_avg_score)\n",
    "print('SVC-----------------')\n",
    "sv_avg_score = get_oof(svc, iv, dv)\n",
    "print('Average svm score', sv_avg_score)\n",
    "print(\"Training complete\")\n",
    "print('%%%%%%% SVC performs better for training set' if sv_avg_score>rand_avg_score else '%%%%%%%% RF performs better for training set')"
   ]
  },
  {
   "cell_type": "code",
   "execution_count": 37,
   "metadata": {},
   "outputs": [
    {
     "data": {
      "application/vnd.plotly.v1+json": {
       "config": {
        "linkText": "Export to plot.ly",
        "plotlyServerURL": "https://plot.ly",
        "showLink": false
       },
       "data": [
        {
         "marker": {
          "color": [
           0.1355137961510301,
           0.07112908907640694,
           0.14175203196282213,
           0.015175866757306321,
           0.17081296908036517,
           0.35556634527652237,
           0.01603936367296664,
           0.019842937428206617,
           0.04913608912182995,
           0.015500139229621906,
           0.00953137224292186
          ],
          "colorscale": [
           [
            0,
            "rgb(12,51,131)"
           ],
           [
            0.25,
            "rgb(10,136,186)"
           ],
           [
            0.5,
            "rgb(242,211,56)"
           ],
           [
            0.75,
            "rgb(242,143,56)"
           ],
           [
            1,
            "rgb(217,30,30)"
           ]
          ],
          "showscale": true,
          "size": 25,
          "sizemode": "diameter",
          "sizeref": 1
         },
         "mode": "markers",
         "text": [
          "Pclass",
          "Age",
          "Fare",
          "family_size",
          "Sex_female",
          "Sex_male",
          "Embarked_C",
          "Embarked_Q",
          "Embarked_S",
          "is_alone_0",
          "is_alone_1"
         ],
         "type": "scatter",
         "x": [
          "Pclass",
          "Age",
          "Fare",
          "family_size",
          "Sex_female",
          "Sex_male",
          "Embarked_C",
          "Embarked_Q",
          "Embarked_S",
          "is_alone_0",
          "is_alone_1"
         ],
         "y": [
          0.1355137961510301,
          0.07112908907640694,
          0.14175203196282213,
          0.015175866757306321,
          0.17081296908036517,
          0.35556634527652237,
          0.01603936367296664,
          0.019842937428206617,
          0.04913608912182995,
          0.015500139229621906,
          0.00953137224292186
         ]
        }
       ],
       "layout": {
        "autosize": true,
        "hovermode": "closest",
        "showlegend": false,
        "template": {
         "data": {
          "bar": [
           {
            "error_x": {
             "color": "#2a3f5f"
            },
            "error_y": {
             "color": "#2a3f5f"
            },
            "marker": {
             "line": {
              "color": "#E5ECF6",
              "width": 0.5
             }
            },
            "type": "bar"
           }
          ],
          "barpolar": [
           {
            "marker": {
             "line": {
              "color": "#E5ECF6",
              "width": 0.5
             }
            },
            "type": "barpolar"
           }
          ],
          "carpet": [
           {
            "aaxis": {
             "endlinecolor": "#2a3f5f",
             "gridcolor": "white",
             "linecolor": "white",
             "minorgridcolor": "white",
             "startlinecolor": "#2a3f5f"
            },
            "baxis": {
             "endlinecolor": "#2a3f5f",
             "gridcolor": "white",
             "linecolor": "white",
             "minorgridcolor": "white",
             "startlinecolor": "#2a3f5f"
            },
            "type": "carpet"
           }
          ],
          "choropleth": [
           {
            "colorbar": {
             "outlinewidth": 0,
             "ticks": ""
            },
            "type": "choropleth"
           }
          ],
          "contour": [
           {
            "colorbar": {
             "outlinewidth": 0,
             "ticks": ""
            },
            "colorscale": [
             [
              0,
              "#0d0887"
             ],
             [
              0.1111111111111111,
              "#46039f"
             ],
             [
              0.2222222222222222,
              "#7201a8"
             ],
             [
              0.3333333333333333,
              "#9c179e"
             ],
             [
              0.4444444444444444,
              "#bd3786"
             ],
             [
              0.5555555555555556,
              "#d8576b"
             ],
             [
              0.6666666666666666,
              "#ed7953"
             ],
             [
              0.7777777777777778,
              "#fb9f3a"
             ],
             [
              0.8888888888888888,
              "#fdca26"
             ],
             [
              1,
              "#f0f921"
             ]
            ],
            "type": "contour"
           }
          ],
          "contourcarpet": [
           {
            "colorbar": {
             "outlinewidth": 0,
             "ticks": ""
            },
            "type": "contourcarpet"
           }
          ],
          "heatmap": [
           {
            "colorbar": {
             "outlinewidth": 0,
             "ticks": ""
            },
            "colorscale": [
             [
              0,
              "#0d0887"
             ],
             [
              0.1111111111111111,
              "#46039f"
             ],
             [
              0.2222222222222222,
              "#7201a8"
             ],
             [
              0.3333333333333333,
              "#9c179e"
             ],
             [
              0.4444444444444444,
              "#bd3786"
             ],
             [
              0.5555555555555556,
              "#d8576b"
             ],
             [
              0.6666666666666666,
              "#ed7953"
             ],
             [
              0.7777777777777778,
              "#fb9f3a"
             ],
             [
              0.8888888888888888,
              "#fdca26"
             ],
             [
              1,
              "#f0f921"
             ]
            ],
            "type": "heatmap"
           }
          ],
          "heatmapgl": [
           {
            "colorbar": {
             "outlinewidth": 0,
             "ticks": ""
            },
            "colorscale": [
             [
              0,
              "#0d0887"
             ],
             [
              0.1111111111111111,
              "#46039f"
             ],
             [
              0.2222222222222222,
              "#7201a8"
             ],
             [
              0.3333333333333333,
              "#9c179e"
             ],
             [
              0.4444444444444444,
              "#bd3786"
             ],
             [
              0.5555555555555556,
              "#d8576b"
             ],
             [
              0.6666666666666666,
              "#ed7953"
             ],
             [
              0.7777777777777778,
              "#fb9f3a"
             ],
             [
              0.8888888888888888,
              "#fdca26"
             ],
             [
              1,
              "#f0f921"
             ]
            ],
            "type": "heatmapgl"
           }
          ],
          "histogram": [
           {
            "marker": {
             "colorbar": {
              "outlinewidth": 0,
              "ticks": ""
             }
            },
            "type": "histogram"
           }
          ],
          "histogram2d": [
           {
            "colorbar": {
             "outlinewidth": 0,
             "ticks": ""
            },
            "colorscale": [
             [
              0,
              "#0d0887"
             ],
             [
              0.1111111111111111,
              "#46039f"
             ],
             [
              0.2222222222222222,
              "#7201a8"
             ],
             [
              0.3333333333333333,
              "#9c179e"
             ],
             [
              0.4444444444444444,
              "#bd3786"
             ],
             [
              0.5555555555555556,
              "#d8576b"
             ],
             [
              0.6666666666666666,
              "#ed7953"
             ],
             [
              0.7777777777777778,
              "#fb9f3a"
             ],
             [
              0.8888888888888888,
              "#fdca26"
             ],
             [
              1,
              "#f0f921"
             ]
            ],
            "type": "histogram2d"
           }
          ],
          "histogram2dcontour": [
           {
            "colorbar": {
             "outlinewidth": 0,
             "ticks": ""
            },
            "colorscale": [
             [
              0,
              "#0d0887"
             ],
             [
              0.1111111111111111,
              "#46039f"
             ],
             [
              0.2222222222222222,
              "#7201a8"
             ],
             [
              0.3333333333333333,
              "#9c179e"
             ],
             [
              0.4444444444444444,
              "#bd3786"
             ],
             [
              0.5555555555555556,
              "#d8576b"
             ],
             [
              0.6666666666666666,
              "#ed7953"
             ],
             [
              0.7777777777777778,
              "#fb9f3a"
             ],
             [
              0.8888888888888888,
              "#fdca26"
             ],
             [
              1,
              "#f0f921"
             ]
            ],
            "type": "histogram2dcontour"
           }
          ],
          "mesh3d": [
           {
            "colorbar": {
             "outlinewidth": 0,
             "ticks": ""
            },
            "type": "mesh3d"
           }
          ],
          "parcoords": [
           {
            "line": {
             "colorbar": {
              "outlinewidth": 0,
              "ticks": ""
             }
            },
            "type": "parcoords"
           }
          ],
          "scatter": [
           {
            "marker": {
             "colorbar": {
              "outlinewidth": 0,
              "ticks": ""
             }
            },
            "type": "scatter"
           }
          ],
          "scatter3d": [
           {
            "line": {
             "colorbar": {
              "outlinewidth": 0,
              "ticks": ""
             }
            },
            "marker": {
             "colorbar": {
              "outlinewidth": 0,
              "ticks": ""
             }
            },
            "type": "scatter3d"
           }
          ],
          "scattercarpet": [
           {
            "marker": {
             "colorbar": {
              "outlinewidth": 0,
              "ticks": ""
             }
            },
            "type": "scattercarpet"
           }
          ],
          "scattergeo": [
           {
            "marker": {
             "colorbar": {
              "outlinewidth": 0,
              "ticks": ""
             }
            },
            "type": "scattergeo"
           }
          ],
          "scattergl": [
           {
            "marker": {
             "colorbar": {
              "outlinewidth": 0,
              "ticks": ""
             }
            },
            "type": "scattergl"
           }
          ],
          "scattermapbox": [
           {
            "marker": {
             "colorbar": {
              "outlinewidth": 0,
              "ticks": ""
             }
            },
            "type": "scattermapbox"
           }
          ],
          "scatterpolar": [
           {
            "marker": {
             "colorbar": {
              "outlinewidth": 0,
              "ticks": ""
             }
            },
            "type": "scatterpolar"
           }
          ],
          "scatterpolargl": [
           {
            "marker": {
             "colorbar": {
              "outlinewidth": 0,
              "ticks": ""
             }
            },
            "type": "scatterpolargl"
           }
          ],
          "scatterternary": [
           {
            "marker": {
             "colorbar": {
              "outlinewidth": 0,
              "ticks": ""
             }
            },
            "type": "scatterternary"
           }
          ],
          "surface": [
           {
            "colorbar": {
             "outlinewidth": 0,
             "ticks": ""
            },
            "colorscale": [
             [
              0,
              "#0d0887"
             ],
             [
              0.1111111111111111,
              "#46039f"
             ],
             [
              0.2222222222222222,
              "#7201a8"
             ],
             [
              0.3333333333333333,
              "#9c179e"
             ],
             [
              0.4444444444444444,
              "#bd3786"
             ],
             [
              0.5555555555555556,
              "#d8576b"
             ],
             [
              0.6666666666666666,
              "#ed7953"
             ],
             [
              0.7777777777777778,
              "#fb9f3a"
             ],
             [
              0.8888888888888888,
              "#fdca26"
             ],
             [
              1,
              "#f0f921"
             ]
            ],
            "type": "surface"
           }
          ],
          "table": [
           {
            "cells": {
             "fill": {
              "color": "#EBF0F8"
             },
             "line": {
              "color": "white"
             }
            },
            "header": {
             "fill": {
              "color": "#C8D4E3"
             },
             "line": {
              "color": "white"
             }
            },
            "type": "table"
           }
          ]
         },
         "layout": {
          "annotationdefaults": {
           "arrowcolor": "#2a3f5f",
           "arrowhead": 0,
           "arrowwidth": 1
          },
          "colorscale": {
           "diverging": [
            [
             0,
             "#8e0152"
            ],
            [
             0.1,
             "#c51b7d"
            ],
            [
             0.2,
             "#de77ae"
            ],
            [
             0.3,
             "#f1b6da"
            ],
            [
             0.4,
             "#fde0ef"
            ],
            [
             0.5,
             "#f7f7f7"
            ],
            [
             0.6,
             "#e6f5d0"
            ],
            [
             0.7,
             "#b8e186"
            ],
            [
             0.8,
             "#7fbc41"
            ],
            [
             0.9,
             "#4d9221"
            ],
            [
             1,
             "#276419"
            ]
           ],
           "sequential": [
            [
             0,
             "#0d0887"
            ],
            [
             0.1111111111111111,
             "#46039f"
            ],
            [
             0.2222222222222222,
             "#7201a8"
            ],
            [
             0.3333333333333333,
             "#9c179e"
            ],
            [
             0.4444444444444444,
             "#bd3786"
            ],
            [
             0.5555555555555556,
             "#d8576b"
            ],
            [
             0.6666666666666666,
             "#ed7953"
            ],
            [
             0.7777777777777778,
             "#fb9f3a"
            ],
            [
             0.8888888888888888,
             "#fdca26"
            ],
            [
             1,
             "#f0f921"
            ]
           ],
           "sequentialminus": [
            [
             0,
             "#0d0887"
            ],
            [
             0.1111111111111111,
             "#46039f"
            ],
            [
             0.2222222222222222,
             "#7201a8"
            ],
            [
             0.3333333333333333,
             "#9c179e"
            ],
            [
             0.4444444444444444,
             "#bd3786"
            ],
            [
             0.5555555555555556,
             "#d8576b"
            ],
            [
             0.6666666666666666,
             "#ed7953"
            ],
            [
             0.7777777777777778,
             "#fb9f3a"
            ],
            [
             0.8888888888888888,
             "#fdca26"
            ],
            [
             1,
             "#f0f921"
            ]
           ]
          },
          "colorway": [
           "#636efa",
           "#EF553B",
           "#00cc96",
           "#ab63fa",
           "#FFA15A",
           "#19d3f3",
           "#FF6692",
           "#B6E880",
           "#FF97FF",
           "#FECB52"
          ],
          "font": {
           "color": "#2a3f5f"
          },
          "geo": {
           "bgcolor": "white",
           "lakecolor": "white",
           "landcolor": "#E5ECF6",
           "showlakes": true,
           "showland": true,
           "subunitcolor": "white"
          },
          "hoverlabel": {
           "align": "left"
          },
          "hovermode": "closest",
          "mapbox": {
           "style": "light"
          },
          "paper_bgcolor": "white",
          "plot_bgcolor": "#E5ECF6",
          "polar": {
           "angularaxis": {
            "gridcolor": "white",
            "linecolor": "white",
            "ticks": ""
           },
           "bgcolor": "#E5ECF6",
           "radialaxis": {
            "gridcolor": "white",
            "linecolor": "white",
            "ticks": ""
           }
          },
          "scene": {
           "xaxis": {
            "backgroundcolor": "#E5ECF6",
            "gridcolor": "white",
            "gridwidth": 2,
            "linecolor": "white",
            "showbackground": true,
            "ticks": "",
            "zerolinecolor": "white"
           },
           "yaxis": {
            "backgroundcolor": "#E5ECF6",
            "gridcolor": "white",
            "gridwidth": 2,
            "linecolor": "white",
            "showbackground": true,
            "ticks": "",
            "zerolinecolor": "white"
           },
           "zaxis": {
            "backgroundcolor": "#E5ECF6",
            "gridcolor": "white",
            "gridwidth": 2,
            "linecolor": "white",
            "showbackground": true,
            "ticks": "",
            "zerolinecolor": "white"
           }
          },
          "shapedefaults": {
           "line": {
            "color": "#2a3f5f"
           }
          },
          "ternary": {
           "aaxis": {
            "gridcolor": "white",
            "linecolor": "white",
            "ticks": ""
           },
           "baxis": {
            "gridcolor": "white",
            "linecolor": "white",
            "ticks": ""
           },
           "bgcolor": "#E5ECF6",
           "caxis": {
            "gridcolor": "white",
            "linecolor": "white",
            "ticks": ""
           }
          },
          "title": {
           "x": 0.05
          },
          "xaxis": {
           "automargin": true,
           "gridcolor": "white",
           "linecolor": "white",
           "ticks": "",
           "zerolinecolor": "white",
           "zerolinewidth": 2
          },
          "yaxis": {
           "automargin": true,
           "gridcolor": "white",
           "linecolor": "white",
           "ticks": "",
           "zerolinecolor": "white",
           "zerolinewidth": 2
          }
         }
        },
        "title": {
         "text": "Random Forest Feature Importance"
        },
        "yaxis": {
         "gridwidth": 2,
         "ticklen": 5,
         "title": {
          "text": "Feature Importance"
         }
        }
       }
      },
      "text/html": [
       "<div>\n",
       "        \n",
       "        \n",
       "            <div id=\"3de608fe-eba9-4d4e-98e0-e9bf9e9cea78\" class=\"plotly-graph-div\" style=\"height:525px; width:100%;\"></div>\n",
       "            <script type=\"text/javascript\">\n",
       "                require([\"plotly\"], function(Plotly) {\n",
       "                    window.PLOTLYENV=window.PLOTLYENV || {};\n",
       "                    \n",
       "                if (document.getElementById(\"3de608fe-eba9-4d4e-98e0-e9bf9e9cea78\")) {\n",
       "                    Plotly.newPlot(\n",
       "                        '3de608fe-eba9-4d4e-98e0-e9bf9e9cea78',\n",
       "                        [{\"marker\": {\"color\": [0.1355137961510301, 0.07112908907640694, 0.14175203196282213, 0.015175866757306321, 0.17081296908036517, 0.35556634527652237, 0.01603936367296664, 0.019842937428206617, 0.04913608912182995, 0.015500139229621906, 0.00953137224292186], \"colorscale\": [[0.0, \"rgb(12,51,131)\"], [0.25, \"rgb(10,136,186)\"], [0.5, \"rgb(242,211,56)\"], [0.75, \"rgb(242,143,56)\"], [1.0, \"rgb(217,30,30)\"]], \"showscale\": true, \"size\": 25, \"sizemode\": \"diameter\", \"sizeref\": 1}, \"mode\": \"markers\", \"text\": [\"Pclass\", \"Age\", \"Fare\", \"family_size\", \"Sex_female\", \"Sex_male\", \"Embarked_C\", \"Embarked_Q\", \"Embarked_S\", \"is_alone_0\", \"is_alone_1\"], \"type\": \"scatter\", \"x\": [\"Pclass\", \"Age\", \"Fare\", \"family_size\", \"Sex_female\", \"Sex_male\", \"Embarked_C\", \"Embarked_Q\", \"Embarked_S\", \"is_alone_0\", \"is_alone_1\"], \"y\": [0.1355137961510301, 0.07112908907640694, 0.14175203196282213, 0.015175866757306321, 0.17081296908036517, 0.35556634527652237, 0.01603936367296664, 0.019842937428206617, 0.04913608912182995, 0.015500139229621906, 0.00953137224292186]}],\n",
       "                        {\"autosize\": true, \"hovermode\": \"closest\", \"showlegend\": false, \"template\": {\"data\": {\"bar\": [{\"error_x\": {\"color\": \"#2a3f5f\"}, \"error_y\": {\"color\": \"#2a3f5f\"}, \"marker\": {\"line\": {\"color\": \"#E5ECF6\", \"width\": 0.5}}, \"type\": \"bar\"}], \"barpolar\": [{\"marker\": {\"line\": {\"color\": \"#E5ECF6\", \"width\": 0.5}}, \"type\": \"barpolar\"}], \"carpet\": [{\"aaxis\": {\"endlinecolor\": \"#2a3f5f\", \"gridcolor\": \"white\", \"linecolor\": \"white\", \"minorgridcolor\": \"white\", \"startlinecolor\": \"#2a3f5f\"}, \"baxis\": {\"endlinecolor\": \"#2a3f5f\", \"gridcolor\": \"white\", \"linecolor\": \"white\", \"minorgridcolor\": \"white\", \"startlinecolor\": \"#2a3f5f\"}, \"type\": \"carpet\"}], \"choropleth\": [{\"colorbar\": {\"outlinewidth\": 0, \"ticks\": \"\"}, \"type\": \"choropleth\"}], \"contour\": [{\"colorbar\": {\"outlinewidth\": 0, \"ticks\": \"\"}, \"colorscale\": [[0.0, \"#0d0887\"], [0.1111111111111111, \"#46039f\"], [0.2222222222222222, \"#7201a8\"], [0.3333333333333333, \"#9c179e\"], [0.4444444444444444, \"#bd3786\"], [0.5555555555555556, \"#d8576b\"], [0.6666666666666666, \"#ed7953\"], [0.7777777777777778, \"#fb9f3a\"], [0.8888888888888888, \"#fdca26\"], [1.0, \"#f0f921\"]], \"type\": \"contour\"}], \"contourcarpet\": [{\"colorbar\": {\"outlinewidth\": 0, \"ticks\": \"\"}, \"type\": \"contourcarpet\"}], \"heatmap\": [{\"colorbar\": {\"outlinewidth\": 0, \"ticks\": \"\"}, \"colorscale\": [[0.0, \"#0d0887\"], [0.1111111111111111, \"#46039f\"], [0.2222222222222222, \"#7201a8\"], [0.3333333333333333, \"#9c179e\"], [0.4444444444444444, \"#bd3786\"], [0.5555555555555556, \"#d8576b\"], [0.6666666666666666, \"#ed7953\"], [0.7777777777777778, \"#fb9f3a\"], [0.8888888888888888, \"#fdca26\"], [1.0, \"#f0f921\"]], \"type\": \"heatmap\"}], \"heatmapgl\": [{\"colorbar\": {\"outlinewidth\": 0, \"ticks\": \"\"}, \"colorscale\": [[0.0, \"#0d0887\"], [0.1111111111111111, \"#46039f\"], [0.2222222222222222, \"#7201a8\"], [0.3333333333333333, \"#9c179e\"], [0.4444444444444444, \"#bd3786\"], [0.5555555555555556, \"#d8576b\"], [0.6666666666666666, \"#ed7953\"], [0.7777777777777778, \"#fb9f3a\"], [0.8888888888888888, \"#fdca26\"], [1.0, \"#f0f921\"]], \"type\": \"heatmapgl\"}], \"histogram\": [{\"marker\": {\"colorbar\": {\"outlinewidth\": 0, \"ticks\": \"\"}}, \"type\": \"histogram\"}], \"histogram2d\": [{\"colorbar\": {\"outlinewidth\": 0, \"ticks\": \"\"}, \"colorscale\": [[0.0, \"#0d0887\"], [0.1111111111111111, \"#46039f\"], [0.2222222222222222, \"#7201a8\"], [0.3333333333333333, \"#9c179e\"], [0.4444444444444444, \"#bd3786\"], [0.5555555555555556, \"#d8576b\"], [0.6666666666666666, \"#ed7953\"], [0.7777777777777778, \"#fb9f3a\"], [0.8888888888888888, \"#fdca26\"], [1.0, \"#f0f921\"]], \"type\": \"histogram2d\"}], \"histogram2dcontour\": [{\"colorbar\": {\"outlinewidth\": 0, \"ticks\": \"\"}, \"colorscale\": [[0.0, \"#0d0887\"], [0.1111111111111111, \"#46039f\"], [0.2222222222222222, \"#7201a8\"], [0.3333333333333333, \"#9c179e\"], [0.4444444444444444, \"#bd3786\"], [0.5555555555555556, \"#d8576b\"], [0.6666666666666666, \"#ed7953\"], [0.7777777777777778, \"#fb9f3a\"], [0.8888888888888888, \"#fdca26\"], [1.0, \"#f0f921\"]], \"type\": \"histogram2dcontour\"}], \"mesh3d\": [{\"colorbar\": {\"outlinewidth\": 0, \"ticks\": \"\"}, \"type\": \"mesh3d\"}], \"parcoords\": [{\"line\": {\"colorbar\": {\"outlinewidth\": 0, \"ticks\": \"\"}}, \"type\": \"parcoords\"}], \"scatter\": [{\"marker\": {\"colorbar\": {\"outlinewidth\": 0, \"ticks\": \"\"}}, \"type\": \"scatter\"}], \"scatter3d\": [{\"line\": {\"colorbar\": {\"outlinewidth\": 0, \"ticks\": \"\"}}, \"marker\": {\"colorbar\": {\"outlinewidth\": 0, \"ticks\": \"\"}}, \"type\": \"scatter3d\"}], \"scattercarpet\": [{\"marker\": {\"colorbar\": {\"outlinewidth\": 0, \"ticks\": \"\"}}, \"type\": \"scattercarpet\"}], \"scattergeo\": [{\"marker\": {\"colorbar\": {\"outlinewidth\": 0, \"ticks\": \"\"}}, \"type\": \"scattergeo\"}], \"scattergl\": [{\"marker\": {\"colorbar\": {\"outlinewidth\": 0, \"ticks\": \"\"}}, \"type\": \"scattergl\"}], \"scattermapbox\": [{\"marker\": {\"colorbar\": {\"outlinewidth\": 0, \"ticks\": \"\"}}, \"type\": \"scattermapbox\"}], \"scatterpolar\": [{\"marker\": {\"colorbar\": {\"outlinewidth\": 0, \"ticks\": \"\"}}, \"type\": \"scatterpolar\"}], \"scatterpolargl\": [{\"marker\": {\"colorbar\": {\"outlinewidth\": 0, \"ticks\": \"\"}}, \"type\": \"scatterpolargl\"}], \"scatterternary\": [{\"marker\": {\"colorbar\": {\"outlinewidth\": 0, \"ticks\": \"\"}}, \"type\": \"scatterternary\"}], \"surface\": [{\"colorbar\": {\"outlinewidth\": 0, \"ticks\": \"\"}, \"colorscale\": [[0.0, \"#0d0887\"], [0.1111111111111111, \"#46039f\"], [0.2222222222222222, \"#7201a8\"], [0.3333333333333333, \"#9c179e\"], [0.4444444444444444, \"#bd3786\"], [0.5555555555555556, \"#d8576b\"], [0.6666666666666666, \"#ed7953\"], [0.7777777777777778, \"#fb9f3a\"], [0.8888888888888888, \"#fdca26\"], [1.0, \"#f0f921\"]], \"type\": \"surface\"}], \"table\": [{\"cells\": {\"fill\": {\"color\": \"#EBF0F8\"}, \"line\": {\"color\": \"white\"}}, \"header\": {\"fill\": {\"color\": \"#C8D4E3\"}, \"line\": {\"color\": \"white\"}}, \"type\": \"table\"}]}, \"layout\": {\"annotationdefaults\": {\"arrowcolor\": \"#2a3f5f\", \"arrowhead\": 0, \"arrowwidth\": 1}, \"colorscale\": {\"diverging\": [[0, \"#8e0152\"], [0.1, \"#c51b7d\"], [0.2, \"#de77ae\"], [0.3, \"#f1b6da\"], [0.4, \"#fde0ef\"], [0.5, \"#f7f7f7\"], [0.6, \"#e6f5d0\"], [0.7, \"#b8e186\"], [0.8, \"#7fbc41\"], [0.9, \"#4d9221\"], [1, \"#276419\"]], \"sequential\": [[0.0, \"#0d0887\"], [0.1111111111111111, \"#46039f\"], [0.2222222222222222, \"#7201a8\"], [0.3333333333333333, \"#9c179e\"], [0.4444444444444444, \"#bd3786\"], [0.5555555555555556, \"#d8576b\"], [0.6666666666666666, \"#ed7953\"], [0.7777777777777778, \"#fb9f3a\"], [0.8888888888888888, \"#fdca26\"], [1.0, \"#f0f921\"]], \"sequentialminus\": [[0.0, \"#0d0887\"], [0.1111111111111111, \"#46039f\"], [0.2222222222222222, \"#7201a8\"], [0.3333333333333333, \"#9c179e\"], [0.4444444444444444, \"#bd3786\"], [0.5555555555555556, \"#d8576b\"], [0.6666666666666666, \"#ed7953\"], [0.7777777777777778, \"#fb9f3a\"], [0.8888888888888888, \"#fdca26\"], [1.0, \"#f0f921\"]]}, \"colorway\": [\"#636efa\", \"#EF553B\", \"#00cc96\", \"#ab63fa\", \"#FFA15A\", \"#19d3f3\", \"#FF6692\", \"#B6E880\", \"#FF97FF\", \"#FECB52\"], \"font\": {\"color\": \"#2a3f5f\"}, \"geo\": {\"bgcolor\": \"white\", \"lakecolor\": \"white\", \"landcolor\": \"#E5ECF6\", \"showlakes\": true, \"showland\": true, \"subunitcolor\": \"white\"}, \"hoverlabel\": {\"align\": \"left\"}, \"hovermode\": \"closest\", \"mapbox\": {\"style\": \"light\"}, \"paper_bgcolor\": \"white\", \"plot_bgcolor\": \"#E5ECF6\", \"polar\": {\"angularaxis\": {\"gridcolor\": \"white\", \"linecolor\": \"white\", \"ticks\": \"\"}, \"bgcolor\": \"#E5ECF6\", \"radialaxis\": {\"gridcolor\": \"white\", \"linecolor\": \"white\", \"ticks\": \"\"}}, \"scene\": {\"xaxis\": {\"backgroundcolor\": \"#E5ECF6\", \"gridcolor\": \"white\", \"gridwidth\": 2, \"linecolor\": \"white\", \"showbackground\": true, \"ticks\": \"\", \"zerolinecolor\": \"white\"}, \"yaxis\": {\"backgroundcolor\": \"#E5ECF6\", \"gridcolor\": \"white\", \"gridwidth\": 2, \"linecolor\": \"white\", \"showbackground\": true, \"ticks\": \"\", \"zerolinecolor\": \"white\"}, \"zaxis\": {\"backgroundcolor\": \"#E5ECF6\", \"gridcolor\": \"white\", \"gridwidth\": 2, \"linecolor\": \"white\", \"showbackground\": true, \"ticks\": \"\", \"zerolinecolor\": \"white\"}}, \"shapedefaults\": {\"line\": {\"color\": \"#2a3f5f\"}}, \"ternary\": {\"aaxis\": {\"gridcolor\": \"white\", \"linecolor\": \"white\", \"ticks\": \"\"}, \"baxis\": {\"gridcolor\": \"white\", \"linecolor\": \"white\", \"ticks\": \"\"}, \"bgcolor\": \"#E5ECF6\", \"caxis\": {\"gridcolor\": \"white\", \"linecolor\": \"white\", \"ticks\": \"\"}}, \"title\": {\"x\": 0.05}, \"xaxis\": {\"automargin\": true, \"gridcolor\": \"white\", \"linecolor\": \"white\", \"ticks\": \"\", \"zerolinecolor\": \"white\", \"zerolinewidth\": 2}, \"yaxis\": {\"automargin\": true, \"gridcolor\": \"white\", \"linecolor\": \"white\", \"ticks\": \"\", \"zerolinecolor\": \"white\", \"zerolinewidth\": 2}}}, \"title\": {\"text\": \"Random Forest Feature Importance\"}, \"yaxis\": {\"gridwidth\": 2, \"ticklen\": 5, \"title\": {\"text\": \"Feature Importance\"}}},\n",
       "                        {\"responsive\": true}\n",
       "                    ).then(function(){\n",
       "                            \n",
       "var gd = document.getElementById('3de608fe-eba9-4d4e-98e0-e9bf9e9cea78');\n",
       "var x = new MutationObserver(function (mutations, observer) {{\n",
       "        var display = window.getComputedStyle(gd).display;\n",
       "        if (!display || display === 'none') {{\n",
       "            console.log([gd, 'removed!']);\n",
       "            Plotly.purge(gd);\n",
       "            observer.disconnect();\n",
       "        }}\n",
       "}});\n",
       "\n",
       "// Listen for the removal of the full notebook cells\n",
       "var notebookContainer = gd.closest('#notebook-container');\n",
       "if (notebookContainer) {{\n",
       "    x.observe(notebookContainer, {childList: true});\n",
       "}}\n",
       "\n",
       "// Listen for the clearing of the current output cell\n",
       "var outputEl = gd.closest('.output');\n",
       "if (outputEl) {{\n",
       "    x.observe(outputEl, {childList: true});\n",
       "}}\n",
       "\n",
       "                        })\n",
       "                };\n",
       "                });\n",
       "            </script>\n",
       "        </div>"
      ]
     },
     "metadata": {},
     "output_type": "display_data"
    }
   ],
   "source": [
    "#model.feature_importances_\n",
    "import plotly.graph_objs as go\n",
    "import plotly.offline as py\n",
    "\n",
    "\n",
    "trace = go.Scatter(y = feature_dataframe['Random Forest feature importances'].values,\n",
    "                  x = feature_dataframe['features'].values,\n",
    "                  mode = 'markers',\n",
    "                  marker = dict(sizemode = 'diameter', sizeref = 1,size = 25,\n",
    "                                color = feature_dataframe['Random Forest feature importances'].values,\n",
    "                                colorscale='Portland',showscale=True),\n",
    "                  text = feature_dataframe['features'].values)\n",
    "layout = go.Layout(\n",
    "    autosize= True,\n",
    "    title= 'Random Forest Feature Importance',\n",
    "    hovermode= 'closest',\n",
    "    yaxis=dict(\n",
    "        title= 'Feature Importance',\n",
    "        ticklen= 5,\n",
    "        gridwidth= 2\n",
    "    ),\n",
    "    showlegend= False\n",
    ")\n",
    "fig = go.Figure(data=[trace], layout=layout)\n",
    "py.iplot(fig,filename='scatter2010')"
   ]
  },
  {
   "cell_type": "markdown",
   "metadata": {},
   "source": [
    "## FINDING\n",
    "sex_male and sex_female are pretty important feature, lets check their corr with Survived"
   ]
  },
  {
   "cell_type": "code",
   "execution_count": 34,
   "metadata": {},
   "outputs": [
    {
     "data": {
      "text/html": [
       "<div>\n",
       "<style scoped>\n",
       "    .dataframe tbody tr th:only-of-type {\n",
       "        vertical-align: middle;\n",
       "    }\n",
       "\n",
       "    .dataframe tbody tr th {\n",
       "        vertical-align: top;\n",
       "    }\n",
       "\n",
       "    .dataframe thead th {\n",
       "        text-align: right;\n",
       "    }\n",
       "</style>\n",
       "<table border=\"1\" class=\"dataframe\">\n",
       "  <thead>\n",
       "    <tr style=\"text-align: right;\">\n",
       "      <th></th>\n",
       "      <th>features</th>\n",
       "      <th>Random Forest feature importances</th>\n",
       "    </tr>\n",
       "  </thead>\n",
       "  <tbody>\n",
       "    <tr>\n",
       "      <th>0</th>\n",
       "      <td>Pclass</td>\n",
       "      <td>0.135514</td>\n",
       "    </tr>\n",
       "  </tbody>\n",
       "</table>\n",
       "</div>"
      ],
      "text/plain": [
       "  features  Random Forest feature importances\n",
       "0   Pclass                           0.135514"
      ]
     },
     "execution_count": 34,
     "metadata": {},
     "output_type": "execute_result"
    }
   ],
   "source": [
    "#f = pd.DataFrame(model.feature_importances_.reshape(1,-1),columns=data.drop(['Survived'],axis=1).columns.values)\n",
    "cols = data.drop(['Survived'],axis=1).columns\n",
    "feature_dataframe = pd.DataFrame( {'features': cols,\n",
    "     'Random Forest feature importances': model.feature_importances_})\n",
    "feature_dataframe.head(1)\n",
    "#data.drop(['Survived'],axis=1).columns\n",
    "#model.feature_importances_.reshape(1,-1)\n"
   ]
  },
  {
   "cell_type": "code",
   "execution_count": 28,
   "metadata": {},
   "outputs": [
    {
     "data": {
      "text/plain": [
       "(array([[0.1355138 , 0.07112909, 0.14175203, 0.01517587, 0.17081297,\n",
       "         0.35556635, 0.01603936, 0.01984294, 0.04913609, 0.01550014,\n",
       "         0.00953137]]),\n",
       " Index(['Pclass', 'Age', 'Fare', 'family_size', 'Sex_female', 'Sex_male',\n",
       "        'Embarked_C', 'Embarked_Q', 'Embarked_S', 'is_alone_0', 'is_alone_1'],\n",
       "       dtype='object'))"
      ]
     },
     "execution_count": 28,
     "metadata": {},
     "output_type": "execute_result"
    }
   ],
   "source": [
    "f.values,f.columns"
   ]
  },
  {
   "cell_type": "code",
   "execution_count": 29,
   "metadata": {},
   "outputs": [
    {
     "data": {
      "text/plain": [
       "array([0.1355138 , 0.07112909, 0.14175203, 0.01517587, 0.17081297,\n",
       "       0.35556635, 0.01603936, 0.01984294, 0.04913609, 0.01550014,\n",
       "       0.00953137])"
      ]
     },
     "execution_count": 29,
     "metadata": {},
     "output_type": "execute_result"
    }
   ],
   "source": [
    "model.feature_importances_"
   ]
  },
  {
   "cell_type": "code",
   "execution_count": 30,
   "metadata": {},
   "outputs": [
    {
     "data": {
      "text/plain": [
       "Index(['Pclass', 'Age', 'Fare', 'family_size', 'Sex_female', 'Sex_male',\n",
       "       'Embarked_C', 'Embarked_Q', 'Embarked_S', 'is_alone_0', 'is_alone_1'],\n",
       "      dtype='object')"
      ]
     },
     "execution_count": 30,
     "metadata": {},
     "output_type": "execute_result"
    }
   ],
   "source": [
    "iv_train.columns"
   ]
  },
  {
   "cell_type": "code",
   "execution_count": 223,
   "metadata": {},
   "outputs": [
    {
     "name": "stdout",
     "output_type": "stream",
     "text": [
      "-----Summary of columns\n",
      "Total col - 8\n",
      "continous are - 5\n",
      "   Survived  Pclass  Age  Fare  family_size\n",
      "0         0       3  1.0   0.0            2\n",
      "-----\n",
      "categorical are - 3\n",
      "    Sex Embarked is_alone\n",
      "0  male        S        0\n"
     ]
    }
   ],
   "source": [
    "#Let's check the summary of columns\n",
    "continous_names, cat_names = get_col_names()\n",
    "print('-----Summary of columns')\n",
    "print('Total col -',data.shape[1] )\n",
    "print('continous are -', len(continous_names))\n",
    "print(data[continous_names].head(1))\n",
    "print('-----')\n",
    "print('categorical are -', len(cat_names))\n",
    "print(data[cat_names].head(1))"
   ]
  },
  {
   "cell_type": "code",
   "execution_count": 215,
   "metadata": {},
   "outputs": [
    {
     "name": "stdout",
     "output_type": "stream",
     "text": [
      "AxesSubplot(0.125,0.1925;0.62x0.62)\n"
     ]
    },
    {
     "data": {
      "image/png": "[encoded data removed]",
      "text/plain": [
       "<Figure size 864x864 with 2 Axes>"
      ]
     },
     "metadata": {
      "needs_background": "light"
     },
     "output_type": "display_data"
    }
   ],
   "source": [
    "f,ax=plt.subplots(figsize=(12,12))\n",
    "corr = data.loc[:,continous_names].corr()\n",
    "print(sb.heatmap(corr,mask=np.zeros_like(corr,dtype=np.bool),cmap=sb.diverging_palette(220,10,as_cmap=True),\n",
    "            square =True,ax=ax,annot = True))"
   ]
  },
  {
   "cell_type": "markdown",
   "metadata": {},
   "source": [
    "## FINDING\n",
    "Sex_male and sex_female are negatively and positively related with Survival rate, indicating females \n",
    "survived more than men"
   ]
  },
  {
   "cell_type": "code",
   "execution_count": 216,
   "metadata": {},
   "outputs": [
    {
     "data": {
      "text/plain": [
       "((484, 11), (484,))"
      ]
     },
     "execution_count": 216,
     "metadata": {},
     "output_type": "execute_result"
    }
   ],
   "source": [
    "iv.shape,dv.shape,test"
   ]
  },
  {
   "cell_type": "code",
   "execution_count": 235,
   "metadata": {},
   "outputs": [
    {
     "name": "stderr",
     "output_type": "stream",
     "text": [
      "C:\\Users\\PAT\\Anaconda3\\lib\\site-packages\\sklearn\\svm\\base.py:193: FutureWarning:\n",
      "\n",
      "The default value of gamma will change from 'auto' to 'scale' in version 0.22 to account better for unscaled features. Set gamma explicitly to 'auto' or 'scale' to avoid this warning.\n",
      "\n"
     ]
    },
    {
     "data": {
      "text/html": [
       "<div>\n",
       "<style scoped>\n",
       "    .dataframe tbody tr th:only-of-type {\n",
       "        vertical-align: middle;\n",
       "    }\n",
       "\n",
       "    .dataframe tbody tr th {\n",
       "        vertical-align: top;\n",
       "    }\n",
       "\n",
       "    .dataframe thead th {\n",
       "        text-align: right;\n",
       "    }\n",
       "</style>\n",
       "<table border=\"1\" class=\"dataframe\">\n",
       "  <thead>\n",
       "    <tr style=\"text-align: right;\">\n",
       "      <th></th>\n",
       "      <th>Pclass</th>\n",
       "      <th>Age</th>\n",
       "      <th>Fare</th>\n",
       "      <th>family_size</th>\n",
       "      <th>Sex_female</th>\n",
       "      <th>Sex_male</th>\n",
       "      <th>Embarked_C</th>\n",
       "      <th>Embarked_Q</th>\n",
       "      <th>Embarked_S</th>\n",
       "      <th>is_alone_0</th>\n",
       "      <th>is_alone_1</th>\n",
       "      <th>Survived</th>\n",
       "    </tr>\n",
       "  </thead>\n",
       "  <tbody>\n",
       "    <tr>\n",
       "      <th>0</th>\n",
       "      <td>3</td>\n",
       "      <td>2.0</td>\n",
       "      <td>0.0</td>\n",
       "      <td>1</td>\n",
       "      <td>0</td>\n",
       "      <td>1</td>\n",
       "      <td>0</td>\n",
       "      <td>1</td>\n",
       "      <td>0</td>\n",
       "      <td>0</td>\n",
       "      <td>1</td>\n",
       "      <td>0</td>\n",
       "    </tr>\n",
       "    <tr>\n",
       "      <th>1</th>\n",
       "      <td>3</td>\n",
       "      <td>2.0</td>\n",
       "      <td>0.0</td>\n",
       "      <td>2</td>\n",
       "      <td>1</td>\n",
       "      <td>0</td>\n",
       "      <td>0</td>\n",
       "      <td>0</td>\n",
       "      <td>1</td>\n",
       "      <td>1</td>\n",
       "      <td>0</td>\n",
       "      <td>1</td>\n",
       "    </tr>\n",
       "  </tbody>\n",
       "</table>\n",
       "</div>"
      ],
      "text/plain": [
       "   Pclass  Age  Fare  family_size  Sex_female  Sex_male  Embarked_C  \\\n",
       "0       3  2.0   0.0            1           0         1           0   \n",
       "1       3  2.0   0.0            2           1         0           0   \n",
       "\n",
       "   Embarked_Q  Embarked_S  is_alone_0  is_alone_1  Survived  \n",
       "0           1           0           0           1         0  \n",
       "1           0           1           1           0         1  "
      ]
     },
     "execution_count": 235,
     "metadata": {},
     "output_type": "execute_result"
    }
   ],
   "source": [
    "#Now that we know SVM fits better, we can use all of the train data to feed the model\n",
    " \n",
    "iv = data.drop(['Survived'],axis=1)\n",
    "dv=data['Survived'].values\n",
    "iv_test = test\n",
    "#iv_test = pd.read_csv(test_data_path)\n",
    "model = SVC().fit(iv,dv)#Train the model using full training excel\n",
    "#Let's predict for actual test data\n",
    "dv_test_pred = model.predict(iv_test)\n",
    "iv_test['Survived'] = dv_test_pred\n",
    "\n",
    "#write back the results\n",
    "iv_test.to_csv(submission_data_path,index=False)\n",
    "\n"
   ]
  },
  {
   "cell_type": "code",
   "execution_count": null,
   "metadata": {},
   "outputs": [],
   "source": []
  }
 ],
 "metadata": {
  "kernelspec": {
   "display_name": "Python 3",
   "language": "python",
   "name": "python3"
  },
  "language_info": {
   "codemirror_mode": {
    "name": "ipython",
    "version": 3
   },
   "file_extension": ".py",
   "mimetype": "text/x-python",
   "name": "python",
   "nbconvert_exporter": "python",
   "pygments_lexer": "ipython3",
   "version": "3.7.3"
  }
 },
 "nbformat": 4,
 "nbformat_minor": 2
}
