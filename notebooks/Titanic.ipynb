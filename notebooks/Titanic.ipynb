{
 "cells": [
  {
   "cell_type": "markdown",
   "metadata": {},
   "source": [
    "## Predict if a passenger survived or not"
   ]
  },
  {
   "cell_type": "code",
   "execution_count": 1,
   "metadata": {},
   "outputs": [],
   "source": [
    "import sys\n",
    "#Change path\n",
    "sys.path.append('C:\\\\Users\\\\PAT\\\\Documents\\\\edwisor\\\\projects\\\\Titanic')\n",
    "\n",
    "#Do all imports\n",
    "from Titanic import *\n",
    "from Titanic.config import *"
   ]
  },
  {
   "cell_type": "code",
   "execution_count": 381,
   "metadata": {},
   "outputs": [],
   "source": [
    "data = pd.read_csv(train_data_path)\n",
    "test = pd.read_csv(test_data_path)\n",
    "full_data = [data,test]"
   ]
  },
  {
   "cell_type": "markdown",
   "metadata": {},
   "source": [
    "# Exploratory data analysis"
   ]
  },
  {
   "cell_type": "markdown",
   "metadata": {},
   "source": [
    "## i. Shape of data"
   ]
  },
  {
   "cell_type": "code",
   "execution_count": 3,
   "metadata": {},
   "outputs": [
    {
     "data": {
      "text/html": [
       "<div>\n",
       "<style scoped>\n",
       "    .dataframe tbody tr th:only-of-type {\n",
       "        vertical-align: middle;\n",
       "    }\n",
       "\n",
       "    .dataframe tbody tr th {\n",
       "        vertical-align: top;\n",
       "    }\n",
       "\n",
       "    .dataframe thead th {\n",
       "        text-align: right;\n",
       "    }\n",
       "</style>\n",
       "<table border=\"1\" class=\"dataframe\">\n",
       "  <thead>\n",
       "    <tr style=\"text-align: right;\">\n",
       "      <th></th>\n",
       "      <th>PassengerId</th>\n",
       "      <th>Survived</th>\n",
       "      <th>Pclass</th>\n",
       "      <th>Name</th>\n",
       "      <th>Sex</th>\n",
       "      <th>Age</th>\n",
       "      <th>SibSp</th>\n",
       "      <th>Parch</th>\n",
       "      <th>Ticket</th>\n",
       "      <th>Fare</th>\n",
       "      <th>Cabin</th>\n",
       "      <th>Embarked</th>\n",
       "    </tr>\n",
       "  </thead>\n",
       "  <tbody>\n",
       "    <tr>\n",
       "      <th>0</th>\n",
       "      <td>1</td>\n",
       "      <td>0</td>\n",
       "      <td>3</td>\n",
       "      <td>Braund, Mr. Owen Harris</td>\n",
       "      <td>male</td>\n",
       "      <td>22.0</td>\n",
       "      <td>1</td>\n",
       "      <td>0</td>\n",
       "      <td>A/5 21171</td>\n",
       "      <td>7.2500</td>\n",
       "      <td>NaN</td>\n",
       "      <td>S</td>\n",
       "    </tr>\n",
       "    <tr>\n",
       "      <th>1</th>\n",
       "      <td>2</td>\n",
       "      <td>1</td>\n",
       "      <td>1</td>\n",
       "      <td>Cumings, Mrs. John Bradley (Florence Briggs Th...</td>\n",
       "      <td>female</td>\n",
       "      <td>38.0</td>\n",
       "      <td>1</td>\n",
       "      <td>0</td>\n",
       "      <td>PC 17599</td>\n",
       "      <td>71.2833</td>\n",
       "      <td>C85</td>\n",
       "      <td>C</td>\n",
       "    </tr>\n",
       "  </tbody>\n",
       "</table>\n",
       "</div>"
      ],
      "text/plain": [
       "   PassengerId  Survived  Pclass  \\\n",
       "0            1         0       3   \n",
       "1            2         1       1   \n",
       "\n",
       "                                                Name     Sex   Age  SibSp  \\\n",
       "0                            Braund, Mr. Owen Harris    male  22.0      1   \n",
       "1  Cumings, Mrs. John Bradley (Florence Briggs Th...  female  38.0      1   \n",
       "\n",
       "   Parch     Ticket     Fare Cabin Embarked  \n",
       "0      0  A/5 21171   7.2500   NaN        S  \n",
       "1      0   PC 17599  71.2833   C85        C  "
      ]
     },
     "execution_count": 3,
     "metadata": {},
     "output_type": "execute_result"
    }
   ],
   "source": [
    "data.head(2)"
   ]
  },
  {
   "cell_type": "code",
   "execution_count": 55,
   "metadata": {},
   "outputs": [
    {
     "data": {
      "text/plain": [
       "((891, 12), (418, 11))"
      ]
     },
     "execution_count": 55,
     "metadata": {},
     "output_type": "execute_result"
    }
   ],
   "source": [
    "data.shape,test.shape"
   ]
  },
  {
   "cell_type": "code",
   "execution_count": 56,
   "metadata": {},
   "outputs": [
    {
     "data": {
      "text/plain": [
       "PassengerId      int64\n",
       "Survived         int64\n",
       "Pclass           int64\n",
       "Name            object\n",
       "Sex             object\n",
       "Age            float64\n",
       "SibSp            int64\n",
       "Parch            int64\n",
       "Ticket          object\n",
       "Fare           float64\n",
       "Cabin           object\n",
       "Embarked        object\n",
       "dtype: object"
      ]
     },
     "execution_count": 56,
     "metadata": {},
     "output_type": "execute_result"
    }
   ],
   "source": [
    "data.dtypes"
   ]
  },
  {
   "cell_type": "code",
   "execution_count": 6,
   "metadata": {},
   "outputs": [],
   "source": [
    "def get_col_names(data):\n",
    "    \"\"\"This function segregates and returns the continous and categorical column names in the dataframe passed\"\"\"\n",
    "    continous_names = []\n",
    "    categ_names = []\n",
    "    for i in data.columns:\n",
    "        continous_names.append(i) if data.loc[:,i].dtypes in ['int64','int32','float32','float64'] \\\n",
    "        else categ_names.append(i)\n",
    "    return continous_names,categ_names"
   ]
  },
  {
   "cell_type": "markdown",
   "metadata": {},
   "source": [
    "## ii. Missing value analysis\n"
   ]
  },
  {
   "cell_type": "code",
   "execution_count": 64,
   "metadata": {},
   "outputs": [
    {
     "data": {
      "text/plain": [
       "PassengerId      0\n",
       "Survived         0\n",
       "Pclass           0\n",
       "Name             0\n",
       "Sex              0\n",
       "Age            177\n",
       "SibSp            0\n",
       "Parch            0\n",
       "Ticket           0\n",
       "Fare             0\n",
       "Cabin          687\n",
       "Embarked         2\n",
       "dtype: int64"
      ]
     },
     "execution_count": 64,
     "metadata": {},
     "output_type": "execute_result"
    }
   ],
   "source": [
    "data.isnull().sum()"
   ]
  },
  {
   "cell_type": "markdown",
   "metadata": {},
   "source": [
    "### Missing value percentages\n",
    "Let us see percentage wise and drop column if >30% is missing"
   ]
  },
  {
   "cell_type": "code",
   "execution_count": 65,
   "metadata": {},
   "outputs": [
    {
     "data": {
      "text/html": [
       "<div>\n",
       "<style scoped>\n",
       "    .dataframe tbody tr th:only-of-type {\n",
       "        vertical-align: middle;\n",
       "    }\n",
       "\n",
       "    .dataframe tbody tr th {\n",
       "        vertical-align: top;\n",
       "    }\n",
       "\n",
       "    .dataframe thead th {\n",
       "        text-align: right;\n",
       "    }\n",
       "</style>\n",
       "<table border=\"1\" class=\"dataframe\">\n",
       "  <thead>\n",
       "    <tr style=\"text-align: right;\">\n",
       "      <th></th>\n",
       "      <th>missing_per</th>\n",
       "    </tr>\n",
       "  </thead>\n",
       "  <tbody>\n",
       "    <tr>\n",
       "      <th>PassengerId</th>\n",
       "      <td>0.000000</td>\n",
       "    </tr>\n",
       "    <tr>\n",
       "      <th>Survived</th>\n",
       "      <td>0.000000</td>\n",
       "    </tr>\n",
       "    <tr>\n",
       "      <th>Pclass</th>\n",
       "      <td>0.000000</td>\n",
       "    </tr>\n",
       "    <tr>\n",
       "      <th>Name</th>\n",
       "      <td>0.000000</td>\n",
       "    </tr>\n",
       "    <tr>\n",
       "      <th>Sex</th>\n",
       "      <td>0.000000</td>\n",
       "    </tr>\n",
       "    <tr>\n",
       "      <th>Age</th>\n",
       "      <td>19.865320</td>\n",
       "    </tr>\n",
       "    <tr>\n",
       "      <th>SibSp</th>\n",
       "      <td>0.000000</td>\n",
       "    </tr>\n",
       "    <tr>\n",
       "      <th>Parch</th>\n",
       "      <td>0.000000</td>\n",
       "    </tr>\n",
       "    <tr>\n",
       "      <th>Ticket</th>\n",
       "      <td>0.000000</td>\n",
       "    </tr>\n",
       "    <tr>\n",
       "      <th>Fare</th>\n",
       "      <td>0.000000</td>\n",
       "    </tr>\n",
       "    <tr>\n",
       "      <th>Cabin</th>\n",
       "      <td>77.104377</td>\n",
       "    </tr>\n",
       "    <tr>\n",
       "      <th>Embarked</th>\n",
       "      <td>0.224467</td>\n",
       "    </tr>\n",
       "  </tbody>\n",
       "</table>\n",
       "</div>"
      ],
      "text/plain": [
       "             missing_per\n",
       "PassengerId     0.000000\n",
       "Survived        0.000000\n",
       "Pclass          0.000000\n",
       "Name            0.000000\n",
       "Sex             0.000000\n",
       "Age            19.865320\n",
       "SibSp           0.000000\n",
       "Parch           0.000000\n",
       "Ticket          0.000000\n",
       "Fare            0.000000\n",
       "Cabin          77.104377\n",
       "Embarked        0.224467"
      ]
     },
     "execution_count": 65,
     "metadata": {},
     "output_type": "execute_result"
    }
   ],
   "source": [
    "#get the rows with null values\n",
    "missing_values = pd.DataFrame(data.isnull().sum())\n",
    "#rename the columns old value: 0, new_value:'missing_per'\n",
    "missing_values = missing_values.rename(columns = {'index':'variable', 0:'missing_per'})\n",
    "missing_values['missing_per'] = (missing_values['missing_per']/len(data))*100\n",
    "missing_values"
   ]
  },
  {
   "cell_type": "markdown",
   "metadata": {},
   "source": [
    "#### Insight:  \n",
    "Cabin is 77% missing..--->>>>>>>    Drop Cabin\n",
    "    "
   ]
  },
  {
   "cell_type": "markdown",
   "metadata": {},
   "source": [
    "### Missing value imputation"
   ]
  },
  {
   "cell_type": "code",
   "execution_count": 69,
   "metadata": {},
   "outputs": [
    {
     "data": {
      "text/html": [
       "<div>\n",
       "<style scoped>\n",
       "    .dataframe tbody tr th:only-of-type {\n",
       "        vertical-align: middle;\n",
       "    }\n",
       "\n",
       "    .dataframe tbody tr th {\n",
       "        vertical-align: top;\n",
       "    }\n",
       "\n",
       "    .dataframe thead th {\n",
       "        text-align: right;\n",
       "    }\n",
       "</style>\n",
       "<table border=\"1\" class=\"dataframe\">\n",
       "  <thead>\n",
       "    <tr style=\"text-align: right;\">\n",
       "      <th></th>\n",
       "      <th>Survived</th>\n",
       "      <th>Pclass</th>\n",
       "      <th>Name</th>\n",
       "      <th>Sex</th>\n",
       "      <th>Age</th>\n",
       "      <th>Ticket</th>\n",
       "      <th>Fare</th>\n",
       "      <th>Embarked</th>\n",
       "      <th>family_size</th>\n",
       "      <th>is_alone</th>\n",
       "    </tr>\n",
       "  </thead>\n",
       "  <tbody>\n",
       "    <tr>\n",
       "      <th>0</th>\n",
       "      <td>0</td>\n",
       "      <td>3</td>\n",
       "      <td>Braund, Mr. Owen Harris</td>\n",
       "      <td>male</td>\n",
       "      <td>22.0</td>\n",
       "      <td>A/5 21171</td>\n",
       "      <td>7.2500</td>\n",
       "      <td>S</td>\n",
       "      <td>2</td>\n",
       "      <td>0</td>\n",
       "    </tr>\n",
       "    <tr>\n",
       "      <th>1</th>\n",
       "      <td>1</td>\n",
       "      <td>1</td>\n",
       "      <td>Cumings, Mrs. John Bradley (Florence Briggs Th...</td>\n",
       "      <td>female</td>\n",
       "      <td>38.0</td>\n",
       "      <td>PC 17599</td>\n",
       "      <td>71.2833</td>\n",
       "      <td>C</td>\n",
       "      <td>2</td>\n",
       "      <td>0</td>\n",
       "    </tr>\n",
       "  </tbody>\n",
       "</table>\n",
       "</div>"
      ],
      "text/plain": [
       "   Survived  Pclass                                               Name  \\\n",
       "0         0       3                            Braund, Mr. Owen Harris   \n",
       "1         1       1  Cumings, Mrs. John Bradley (Florence Briggs Th...   \n",
       "\n",
       "      Sex   Age     Ticket     Fare Embarked  family_size is_alone  \n",
       "0    male  22.0  A/5 21171   7.2500        S            2        0  \n",
       "1  female  38.0   PC 17599  71.2833        C            2        0  "
      ]
     },
     "execution_count": 69,
     "metadata": {},
     "output_type": "execute_result"
    }
   ],
   "source": [
    "#NOTE - Let us take a subset of valid dataset and compute if mean, median or knnimpute fits the best\n",
    "\n",
    "#get data for which age is not null\n",
    "data[data['Age'].isnull() == False].head(2)"
   ]
  },
  {
   "cell_type": "markdown",
   "metadata": {},
   "source": [
    "### Choose mean or median?\n",
    "#data.iloc[1]['Age'] = 38.0\n",
    "\n",
    "-----------Now set set to null\n",
    "data['Age'].loc[1] = np.nan\n",
    "\n",
    "------calculated this cell using mean and median\n",
    "#mean = 29.68 data['Age'].mean()\n",
    "#median = 28 data['Age'].median()\n",
    "#### FINDING:\n",
    "    Choose mean as it is giving the closest value"
   ]
  },
  {
   "cell_type": "code",
   "execution_count": 382,
   "metadata": {},
   "outputs": [],
   "source": [
    "# Imputation\n",
    "for i,dataset in enumerate(full_data):\n",
    "    dataset['Age'] = dataset['Age'].fillna(dataset['Age'].mean())\n",
    "    dataset['Fare'] = dataset['Fare'].fillna(dataset['Fare'].mean())\n",
    "    dataset['Embarked'] = dataset['Embarked'].fillna(dataset['Embarked'].mode()[0])\n",
    "   "
   ]
  },
  {
   "cell_type": "markdown",
   "metadata": {},
   "source": [
    "## iii. Analysis of columns"
   ]
  },
  {
   "cell_type": "code",
   "execution_count": 383,
   "metadata": {},
   "outputs": [
    {
     "name": "stdout",
     "output_type": "stream",
     "text": [
      "-----Summary of columns\n",
      "Total col - 12\n",
      "-------------------------\n",
      "continous - 7\n",
      "   PassengerId  Survived  Pclass   Age  SibSp  Parch  Fare\n",
      "0            1         0       3  22.0      1      0  7.25\n",
      "-------------------------\n",
      "-------------------------\n",
      "categorical  - 5\n",
      "                      Name   Sex     Ticket Cabin Embarked\n",
      "0  Braund, Mr. Owen Harris  male  A/5 21171   NaN        S\n",
      "-------------------------\n"
     ]
    }
   ],
   "source": [
    "#Let us get the glimpse of continous and categorical column features we have\n",
    "continous_names, cat_names = get_col_names(data)\n",
    "print('-----Summary of columns')\n",
    "print('Total col -',data.shape[1] )\n",
    "print('-------------------------')\n",
    "print('continous -', len(continous_names))\n",
    "print(data[continous_names].head(1))\n",
    "print('-------------------------')\n",
    "print('-------------------------')\n",
    "print('categorical  -', len(cat_names))\n",
    "print(data[cat_names].head(1))\n",
    "print('-------------------------')\n",
    "#PS:#iloc To be used for column index and loc when you have column name instead\n"
   ]
  },
  {
   "cell_type": "markdown",
   "metadata": {},
   "source": [
    "## iv. Outlier analysis for continous variables"
   ]
  },
  {
   "cell_type": "code",
   "execution_count": 8,
   "metadata": {},
   "outputs": [
    {
     "data": {
      "image/png": "[encoded data removed]",
      "text/plain": [
       "<Figure size 432x288 with 1 Axes>"
      ]
     },
     "metadata": {
      "needs_background": "light"
     },
     "output_type": "display_data"
    }
   ],
   "source": [
    "plot = []\n",
    "for i in continous_names:\n",
    "    plot.append(list(data.loc[:,i]))\n",
    "plt.boxplot(plot, notch = 'True', patch_artist= True, labels=continous_names)\n",
    "plt.show()"
   ]
  },
  {
   "cell_type": "markdown",
   "metadata": {},
   "source": [
    "### FINDING: \n",
    "A lot of outliers in age, fare..Lets remove those"
   ]
  },
  {
   "cell_type": "code",
   "execution_count": 200,
   "metadata": {},
   "outputs": [
    {
     "name": "stdout",
     "output_type": "stream",
     "text": [
      "-----Thes will be replaced for col : PassengerId \n",
      " Empty DataFrame\n",
      "Columns: [PassengerId, Survived, Pclass, Name, Sex, Age, SibSp, Parch, Ticket, Fare, Cabin, Embarked]\n",
      "Index: []\n",
      "-444.0 891.0\n",
      "-----Thes will be replaced for col : Pclass \n",
      " Empty DataFrame\n",
      "Columns: [PassengerId, Survived, Pclass, Name, Sex, Age, SibSp, Parch, Ticket, Fare, Cabin, Embarked]\n",
      "Index: []\n",
      "0.5 3.5\n",
      "-----Thes will be replaced for col : Age \n",
      "     PassengerId  Survived  Pclass                              Name     Sex  \\\n",
      "6           7.0         0     1.0           McCarthy, Mr. Timothy J    male   \n",
      "11         12.0         1     1.0          Bonnell, Miss. Elizabeth  female   \n",
      "15         16.0         1     2.0  Hewlett, Mrs. (Mary D Kingcome)   female   \n",
      "33         34.0         0     2.0             Wheadon, Mr. Edward H    male   \n",
      "35         36.0         0     1.0    Holverson, Mr. Alexander Oskar    male   \n",
      "\n",
      "     Age  SibSp  Parch      Ticket     Fare Cabin Embarked  \n",
      "6   54.0      0      0       17463  51.8625   E46        S  \n",
      "11  58.0      0      0      113783  26.5500  C103        S  \n",
      "15  55.0      0      0      248706  16.0000   NaN        S  \n",
      "33  66.0      0      0  C.A. 24579  10.5000   NaN        S  \n",
      "35  42.0      1      0      113789  52.0000   NaN        S  \n",
      "2.5 41.5\n",
      "-----Thes will be replaced for col : SibSp \n",
      "     PassengerId  Survived  Pclass                                Name     Sex  \\\n",
      "7           8.0         0     3.0      Palsson, Master. Gosta Leonard    male   \n",
      "16         17.0         0     3.0                Rice, Master. Eugene    male   \n",
      "24         25.0         0     3.0       Palsson, Miss. Torborg Danira  female   \n",
      "27         28.0         0     1.0      Fortune, Mr. Charles Alexander    male   \n",
      "38         39.0         0     3.0  Vander Planke, Miss. Augusta Maria  female   \n",
      "\n",
      "          Age  SibSp  Parch  Ticket     Fare        Cabin Embarked  \n",
      "7   26.202232      3      1  349909   21.075          NaN        S  \n",
      "16  26.202232      4      1  382652   29.125          NaN        Q  \n",
      "24   8.000000      3      1  349909   21.075          NaN        S  \n",
      "27  19.000000      3      2   19950  263.000  C23 C25 C27        S  \n",
      "38  18.000000      2      0  345764   18.000          NaN        S  \n",
      "-1.5 1.5\n",
      "-----Thes will be replaced for col : Parch \n",
      "     PassengerId  Survived  Pclass  \\\n",
      "7           8.0         0     3.0   \n",
      "8           9.0         1     3.0   \n",
      "10         11.0         1     3.0   \n",
      "13         14.0         0     3.0   \n",
      "16         17.0         0     3.0   \n",
      "\n",
      "                                                 Name     Sex        Age  \\\n",
      "7                      Palsson, Master. Gosta Leonard    male  26.202232   \n",
      "8   Johnson, Mrs. Oscar W (Elisabeth Vilhelmina Berg)  female  27.000000   \n",
      "10                    Sandstrom, Miss. Marguerite Rut  female   4.000000   \n",
      "13                        Andersson, Mr. Anders Johan    male  39.000000   \n",
      "16                               Rice, Master. Eugene    male  26.202232   \n",
      "\n",
      "       SibSp  Parch   Ticket     Fare Cabin Embarked  \n",
      "7   0.523008      1   349909  21.0750   NaN        S  \n",
      "8   0.000000      2   347742  11.1333   NaN        S  \n",
      "10  1.000000      1  PP 9549  16.7000    G6        S  \n",
      "13  1.000000      5   347082  31.2750   NaN        S  \n",
      "16  0.523008      1   382652  29.1250   NaN        Q  \n",
      "0.0 0.0\n",
      "-----Thes will be replaced for col : Fare \n",
      "     PassengerId  Survived  Pclass  \\\n",
      "1           2.0         1     1.0   \n",
      "3           4.0         1     1.0   \n",
      "6           7.0         0     1.0   \n",
      "27         28.0         0     1.0   \n",
      "31         32.0         1     1.0   \n",
      "\n",
      "                                                 Name     Sex        Age  \\\n",
      "1   Cumings, Mrs. John Bradley (Florence Briggs Th...  female  38.000000   \n",
      "3        Futrelle, Mrs. Jacques Heath (Lily May Peel)  female  35.000000   \n",
      "6                             McCarthy, Mr. Timothy J    male  29.699118   \n",
      "27                     Fortune, Mr. Charles Alexander    male  19.000000   \n",
      "31     Spencer, Mrs. William Augustus (Marie Eugenie)  female  29.699118   \n",
      "\n",
      "       SibSp     Parch    Ticket      Fare        Cabin Embarked  \n",
      "1   1.000000  0.000000  PC 17599   71.2833          C85        C  \n",
      "3   1.000000  0.000000    113803   53.1000         C123        S  \n",
      "6   0.000000  0.000000     17463   51.8625          E46        S  \n",
      "27  0.523008  0.381594     19950  263.0000  C23 C25 C27        S  \n",
      "31  1.000000  0.000000  PC 17569  146.5208          B78        C  \n",
      "-26.724 42.5448\n"
     ]
    }
   ],
   "source": [
    "#data = full_data[0]\n",
    "for i in continous_names:\n",
    "    if i == 'Survived': \n",
    "        continue\n",
    "    q75,q25 = np.percentile(data.loc[:,i],[75,25])\n",
    "    iqr = q75 - q25\n",
    "    min = q25 - (iqr* 1.5)#lower fence\n",
    "    max = q25 + (iqr* 1.5)#upper fence\n",
    "    \n",
    "    \n",
    "    print('-----Thes will be replaced for col :',i,'\\n',data[data.loc[:,i] >max].head())\n",
    "    print(min,max)\n",
    "    #data = data.drop(data[data.loc[:,i] <min].index)\n",
    "    #data = data.drop(data[data.loc[:,i] > max].index)\n",
    "    #test = test.drop(data[data.loc[:,i] <min].index)\n",
    "    #test = test.drop(data[data.loc[:,i] > max].index)\n",
    "    #data.loc[data.loc[:,i]>max, i] = data.loc[:,i].mean()\n",
    "    #data.loc[data.loc[:,i]<min, i] = data.loc[:,i].mean()\n",
    "    #test.loc[test.loc[:,i]>max, i] = test.loc[:,i].mean()\n",
    "    #test.loc[test.loc[:,i]<min, i] = test.loc[:,i].mean()\n",
    "    "
   ]
  },
  {
   "cell_type": "markdown",
   "metadata": {},
   "source": [
    "#### finding\n",
    "Most of the outliers are actually on Age,parch,fare.\n",
    "But Age can have these values, and actually should be converted to catgeorical value instead\n",
    "Fare also can have high values, since we it depends on the family size which is travelling(since fare can be cumulutaive)\n",
    "So let us derive info out of these and make these categorical\n",
    "\n",
    "### NOTE\n",
    "Outlier analysis is actually done on continious range variables not the ones which has fewer unique values and they have good chance of being categorical"
   ]
  },
  {
   "cell_type": "code",
   "execution_count": 11,
   "metadata": {},
   "outputs": [
    {
     "data": {
      "text/plain": [
       "((891, 12), (418, 11))"
      ]
     },
     "execution_count": 11,
     "metadata": {},
     "output_type": "execute_result"
    }
   ],
   "source": [
    "full_data=[data,test]\n",
    "data.shape,test.shape\n"
   ]
  },
  {
   "cell_type": "markdown",
   "metadata": {},
   "source": [
    "## Lets get some answers\n",
    "Now that basic missing values are handled and outliers are even taken care of, let us stop and get some answers from data"
   ]
  },
  {
   "cell_type": "markdown",
   "metadata": {},
   "source": [
    "### a. Did boarding point had any relation with survival rate?"
   ]
  },
  {
   "cell_type": "code",
   "execution_count": 14,
   "metadata": {},
   "outputs": [
    {
     "data": {
      "text/plain": [
       "<matplotlib.axes._subplots.AxesSubplot at 0x1c6de4e9390>"
      ]
     },
     "execution_count": 14,
     "metadata": {},
     "output_type": "execute_result"
    },
    {
     "data": {
      "image/png": "[encoded data removed]",
      "text/plain": [
       "<Figure size 432x288 with 1 Axes>"
      ]
     },
     "metadata": {
      "needs_background": "light"
     },
     "output_type": "display_data"
    }
   ],
   "source": [
    "data.Embarked.value_counts().plot.bar()\n",
    "#majority boarded from Southampton"
   ]
  },
  {
   "cell_type": "code",
   "execution_count": 50,
   "metadata": {},
   "outputs": [
    {
     "data": {
      "text/plain": [
       "(0.33900928792569657, 0.5535714285714286, 0.38961038961038963)"
      ]
     },
     "execution_count": 50,
     "metadata": {},
     "output_type": "execute_result"
    },
    {
     "data": {
      "image/png": "[encoded data removed]",
      "text/plain": [
       "<Figure size 432x288 with 1 Axes>"
      ]
     },
     "metadata": {
      "needs_background": "light"
     },
     "output_type": "display_data"
    }
   ],
   "source": [
    "data.groupby('Embarked')['Survived'].value_counts().unstack(0).plot.bar()\n",
    "surv_rate_emb_s = (data[data.Embarked=='S']['Survived'].value_counts()[1])/len(data[data.Embarked=='S'])\n",
    "surv_rate_emb_c = (data[data.Embarked=='C']['Survived'].value_counts()[1])/len(data[data.Embarked=='C'])\n",
    "surv_rate_emb_q = (data[data.Embarked=='Q']['Survived'].value_counts()[1])/len(data[data.Embarked=='Q'])\n",
    "surv_rate_emb_s ,surv_rate_emb_c,surv_rate_emb_q"
   ]
  },
  {
   "cell_type": "markdown",
   "metadata": {},
   "source": [
    "### what it implies?\n",
    "survival rate of people boarding from Cherbourg is the most with 55 %"
   ]
  },
  {
   "cell_type": "markdown",
   "metadata": {},
   "source": [
    "### b. Did it depend on gender"
   ]
  },
  {
   "cell_type": "code",
   "execution_count": 52,
   "metadata": {},
   "outputs": [
    {
     "data": {
      "text/plain": [
       "<matplotlib.axes._subplots.AxesSubplot at 0x1c6fa855ef0>"
      ]
     },
     "execution_count": 52,
     "metadata": {},
     "output_type": "execute_result"
    },
    {
     "data": {
      "image/png": "[encoded data removed]",
      "text/plain": [
       "<Figure size 432x288 with 1 Axes>"
      ]
     },
     "metadata": {
      "needs_background": "light"
     },
     "output_type": "display_data"
    }
   ],
   "source": [
    "data.groupby('Sex')['Survived'].value_counts().unstack(0).plot.bar()"
   ]
  },
  {
   "cell_type": "markdown",
   "metadata": {},
   "source": [
    "#### FINDING:\n",
    "overall female survived more"
   ]
  },
  {
   "cell_type": "code",
   "execution_count": 57,
   "metadata": {},
   "outputs": [
    {
     "data": {
      "text/plain": [
       "<matplotlib.axes._subplots.AxesSubplot at 0x1c6fa8f1b70>"
      ]
     },
     "execution_count": 57,
     "metadata": {},
     "output_type": "execute_result"
    },
    {
     "data": {
      "image/png": "[encoded data removed]",
      "text/plain": [
       "<Figure size 432x288 with 1 Axes>"
      ]
     },
     "metadata": {
      "needs_background": "light"
     },
     "output_type": "display_data"
    }
   ],
   "source": [
    "data.groupby('Embarked')['Sex'].value_counts().unstack(0).plot.bar()"
   ]
  },
  {
   "cell_type": "markdown",
   "metadata": {},
   "source": [
    "#### FINDING:\n",
    "More male boarded from Southampton and would explain the less survival rate\n",
    "\n",
    "roughly equal from cherbourg and equal at Queens"
   ]
  },
  {
   "cell_type": "code",
   "execution_count": 84,
   "metadata": {},
   "outputs": [
    {
     "data": {
      "text/plain": [
       "<matplotlib.axes._subplots.AxesSubplot at 0x1c6fc59a748>"
      ]
     },
     "execution_count": 84,
     "metadata": {},
     "output_type": "execute_result"
    },
    {
     "data": {
      "image/png": "[encoded data removed]",
      "text/plain": [
       "<Figure size 432x288 with 1 Axes>"
      ]
     },
     "metadata": {
      "needs_background": "light"
     },
     "output_type": "display_data"
    }
   ],
   "source": [
    "data[data.Embarked=='Q'].groupby('Sex')['Survived'].value_counts().unstack(0).plot.bar()"
   ]
  },
  {
   "cell_type": "markdown",
   "metadata": {},
   "source": [
    "#### FINDING:\n",
    "Male survived very less who boarded from Queens"
   ]
  },
  {
   "cell_type": "code",
   "execution_count": 123,
   "metadata": {},
   "outputs": [
    {
     "data": {
      "text/plain": [
       "male      95\n",
       "female    73\n",
       "Name: Sex, dtype: int64"
      ]
     },
     "execution_count": 123,
     "metadata": {},
     "output_type": "execute_result"
    },
    {
     "data": {
      "image/png": "[encoded data removed]",
      "text/plain": [
       "<Figure size 432x288 with 1 Axes>"
      ]
     },
     "metadata": {
      "needs_background": "light"
     },
     "output_type": "display_data"
    }
   ],
   "source": [
    "data[data.Embarked=='C'].groupby('Sex')['Survived'].value_counts().unstack(0).plot.bar()\n",
    "data[data.Embarked=='C']['Sex'].value_counts()"
   ]
  },
  {
   "cell_type": "code",
   "execution_count": null,
   "metadata": {},
   "outputs": [],
   "source": [
    "data[data.Embarked=='C'].groupby"
   ]
  },
  {
   "cell_type": "code",
   "execution_count": 121,
   "metadata": {},
   "outputs": [
    {
     "name": "stderr",
     "output_type": "stream",
     "text": [
      "C:\\Users\\PAT\\Anaconda3\\lib\\site-packages\\seaborn\\axisgrid.py:720: UserWarning:\n",
      "\n",
      "Using the pointplot function without specifying `hue_order` is likely to produce an incorrect plot.\n",
      "\n"
     ]
    },
    {
     "data": {
      "text/plain": [
       "<seaborn.axisgrid.FacetGrid at 0x1c6ffc23630>"
      ]
     },
     "execution_count": 121,
     "metadata": {},
     "output_type": "execute_result"
    },
    {
     "data": {
      "image/png": "[encoded data removed]",
      "text/plain": [
       "<Figure size 282.125x648 with 3 Axes>"
      ]
     },
     "metadata": {
      "needs_background": "light"
     },
     "output_type": "display_data"
    }
   ],
   "source": [
    "grid = sb.FacetGrid(data, row='Embarked')\n",
    "grid.map(sb.pointplot, 'Pclass','Survived','Sex',order=None,hues=None)\n",
    "grid.add_legend()"
   ]
  },
  {
   "cell_type": "markdown",
   "metadata": {},
   "source": [
    "## d. Did Passenger class impact survival"
   ]
  },
  {
   "cell_type": "code",
   "execution_count": 375,
   "metadata": {},
   "outputs": [
    {
     "name": "stderr",
     "output_type": "stream",
     "text": [
      "C:\\Users\\PAT\\Anaconda3\\lib\\site-packages\\seaborn\\categorical.py:3666: UserWarning:\n",
      "\n",
      "The `factorplot` function has been renamed to `catplot`. The original name will be removed in a future release. Please update your code. Note that the default `kind` in `factorplot` (`'point'`) has changed `'strip'` in `catplot`.\n",
      "\n"
     ]
    },
    {
     "data": {
      "text/plain": [
       "<seaborn.axisgrid.FacetGrid at 0x1c686357860>"
      ]
     },
     "execution_count": 375,
     "metadata": {},
     "output_type": "execute_result"
    },
    {
     "data": {
      "image/png": "[encoded data removed]",
      "text/plain": [
       "<Figure size 432x288 with 1 Axes>"
      ]
     },
     "metadata": {
      "needs_background": "light"
     },
     "output_type": "display_data"
    },
    {
     "data": {
      "image/png": "[encoded data removed]",
      "text/plain": [
       "<Figure size 360x360 with 1 Axes>"
      ]
     },
     "metadata": {
      "needs_background": "light"
     },
     "output_type": "display_data"
    }
   ],
   "source": [
    "data.groupby('Pclass').Survived.value_counts().unstack(0).plot.bar()\n",
    "plt.ylabel('no of survivors')\n",
    "sb.factorplot('Pclass','Survived',data=data)"
   ]
  },
  {
   "cell_type": "markdown",
   "metadata": {},
   "source": [
    "#### FINDING:\n",
    "Pclass 1 survived the most(percentage wise)"
   ]
  },
  {
   "cell_type": "markdown",
   "metadata": {},
   "source": [
    "## 5. Feature engineering\n",
    "Derive information from sibsp and parch"
   ]
  },
  {
   "cell_type": "code",
   "execution_count": 384,
   "metadata": {},
   "outputs": [],
   "source": [
    "#bk_full_data = full_data #back up purposes\n",
    "\n",
    "#Preprocessing to be done for both train and test data in the following loop\n",
    "full_data = [data,test]\n",
    "for i,dataset in enumerate(full_data):\n",
    "    dataset = dataset.drop(['Cabin','PassengerId'],axis=1)\n",
    "    #print(dataset.head(1))\n",
    "    dataset['family_size'] = (np.ceil(dataset['SibSp'])) + (np.ceil(dataset['Parch'])) + 1\n",
    "    dataset = dataset.drop(['SibSp', 'Parch'], axis = 1)\n",
    "    dataset['is_alone'] = 0 #Initialize value of this var/col\n",
    "    dataset.loc[dataset['family_size'] ==1 , 'is_alone'] = 1 #set to 1/True if family size is 1 or else 0(intialize value)\n",
    "    dataset['is_alone'] = dataset['is_alone'].astype('object')\n",
    "    if i == 0:#update the original df \n",
    "        data = dataset \n",
    "    else:\n",
    "        test = dataset\n",
    "#update continous variables also, since these col are already dropped from the dataframe\n",
    "continous_names.append('family_size')\n",
    "continous_names.remove('PassengerId')\n",
    "continous_names = [ x for x in continous_names if x not in ['SibSp', 'Parch']]\n",
    "cat_names.remove('Cabin')\n",
    "cat_names.append('is_alone')\n",
    "\n",
    "\n",
    "full_data = [data,test]#Update the list"
   ]
  },
  {
   "cell_type": "code",
   "execution_count": 247,
   "metadata": {},
   "outputs": [
    {
     "data": {
      "text/plain": [
       "<matplotlib.axes._subplots.AxesSubplot at 0x1c683d8bf98>"
      ]
     },
     "execution_count": 247,
     "metadata": {},
     "output_type": "execute_result"
    },
    {
     "data": {
      "image/png": "[encoded data removed]",
      "text/plain": [
       "<Figure size 432x288 with 1 Axes>"
      ]
     },
     "metadata": {
      "needs_background": "light"
     },
     "output_type": "display_data"
    }
   ],
   "source": [
    "sb.distplot(data.Fare)"
   ]
  },
  {
   "cell_type": "code",
   "execution_count": 268,
   "metadata": {},
   "outputs": [
    {
     "data": {
      "text/plain": [
       "(28.874622974571245, 35.533792962577955)"
      ]
     },
     "execution_count": 268,
     "metadata": {},
     "output_type": "execute_result"
    }
   ],
   "source": [
    "#If we had a normal distribution, then confidence interval could be used\n",
    "confidence_interval = data.Fare.mean()-2*(data.Fare.std()/np.sqrt(len(data))),data.Fare.mean()+2*(data.Fare.std()/np.sqrt(len(data)))\n",
    "confidence_interval"
   ]
  },
  {
   "cell_type": "code",
   "execution_count": 385,
   "metadata": {},
   "outputs": [],
   "source": [
    "bk = data.copy()"
   ]
  },
  {
   "cell_type": "markdown",
   "metadata": {},
   "source": [
    "## convert continous to categorical variables"
   ]
  },
  {
   "cell_type": "code",
   "execution_count": 283,
   "metadata": {},
   "outputs": [
    {
     "data": {
      "text/plain": [
       "0      (-0.001, 7.854]\n",
       "1    (39.688, 512.329]\n",
       "Name: Fare, dtype: category\n",
       "Categories (5, interval[float64]): [(-0.001, 7.854] < (7.854, 10.5] < (10.5, 21.679] < (21.679, 39.688] < (39.688, 512.329]]"
      ]
     },
     "execution_count": 283,
     "metadata": {},
     "output_type": "execute_result"
    }
   ],
   "source": [
    "#pd.DataFrame({'1':pd.qcut(data.Fare, 6,labels=[1,2,3,4,5,6]),\n",
    "#             '2':data.Fare})\n",
    "pd.qcut(data.Fare, 5).head(2)"
   ]
  },
  {
   "cell_type": "code",
   "execution_count": 386,
   "metadata": {},
   "outputs": [],
   "source": [
    "full_data = [data,test]\n",
    "for dataset in full_data:\n",
    "    #fare is in floating values, lets map to categories(see categorical_fare for binning ranges),but still int\n",
    "    dataset.loc[dataset['Fare'] <= 7.85,'Fare'] = 0\n",
    "    dataset.loc[(dataset['Fare'] > 7.85) & (dataset['Fare'] <= 10.54),'Fare'] = 1\n",
    "    dataset.loc[(dataset['Fare'] > 10.54) & (dataset['Fare'] <= 21), 'Fare']   = 2\n",
    "    dataset.loc[(dataset['Fare'] > 21) & (dataset['Fare'] <= 39), 'Fare']   = 3\n",
    "    dataset.loc[ dataset['Fare'] > 39, 'Fare'] = 4\n",
    "    \n",
    "    dataset.Fare = dataset.Fare.astype('str')\n",
    "    dataset.loc[dataset.Fare == '0.0','Fare'] = 'extremely_low'\n",
    "    dataset.loc[dataset.Fare == '1.0','Fare'] = 'low'\n",
    "    dataset.loc[dataset.Fare == '2.0','Fare'] = 'medium'\n",
    "    dataset.loc[dataset.Fare == '3.0','Fare'] = 'high'\n",
    "    dataset.loc[dataset.Fare == '4.0','Fare'] = 'extremely_high'\n",
    "    \n",
    "    #same with age\n",
    "    dataset.Age = dataset.Age.astype('int')\n",
    "    dataset.loc[ dataset['Age'] <= 10, 'Age'] = 0\n",
    "    dataset.loc[(dataset['Age'] > 10) & (dataset['Age'] <= 18), 'Age'] = 1\n",
    "    dataset.loc[(dataset['Age'] > 18) & (dataset['Age'] <= 33), 'Age'] = 2\n",
    "    dataset.loc[(dataset['Age'] > 33) & (dataset['Age'] <= 40), 'Age'] = 3\n",
    "    dataset.loc[(dataset['Age'] > 40) & (dataset['Age'] <= 60), 'Age'] = 4\n",
    "    dataset.loc[ dataset['Age'] > 60, 'Age'] = 5\n",
    "    dataset.Age = dataset.Age.astype('str')\n",
    "    dataset.loc[dataset.Age == '0','Age'] = 'children'\n",
    "    dataset.loc[dataset.Age == '1','Age'] = 'teens'\n",
    "    dataset.loc[dataset.Age == '2','Age'] = 'adults'\n",
    "    dataset.loc[dataset.Age == '3','Age'] = 'middle age'\n",
    "    dataset.loc[dataset.Age == '4','Age'] = 'senior'\n",
    "    dataset.loc[dataset.Age == '5','Age'] = 'retired'\n",
    "    \n",
    "cat_names.append('Age')    \n",
    "cat_names.append('Fare')    \n"
   ]
  },
  {
   "cell_type": "code",
   "execution_count": 330,
   "metadata": {},
   "outputs": [
    {
     "data": {
      "text/plain": [
       "low               198\n",
       "extremely_high    185\n",
       "high              176\n",
       "medium            166\n",
       "extremely_low     166\n",
       "Name: Fare, dtype: int64"
      ]
     },
     "execution_count": 330,
     "metadata": {},
     "output_type": "execute_result"
    }
   ],
   "source": [
    "full_data[0]['Fare'].dtype,bk.Fare.dtype\n",
    "data.Fare.value_counts()"
   ]
  },
  {
   "cell_type": "code",
   "execution_count": 331,
   "metadata": {},
   "outputs": [
    {
     "data": {
      "text/plain": [
       "adults        501\n",
       "senior        126\n",
       "middle age    103\n",
       "teens          75\n",
       "children       64\n",
       "retired        22\n",
       "Name: Age, dtype: int64"
      ]
     },
     "execution_count": 331,
     "metadata": {},
     "output_type": "execute_result"
    }
   ],
   "source": [
    "data.Age.value_counts()"
   ]
  },
  {
   "cell_type": "code",
   "execution_count": 135,
   "metadata": {},
   "outputs": [
    {
     "data": {
      "text/plain": [
       "<matplotlib.axes._subplots.AxesSubplot at 0x1c6800db668>"
      ]
     },
     "execution_count": 135,
     "metadata": {},
     "output_type": "execute_result"
    },
    {
     "data": {
      "image/png": "[encoded data removed]",
      "text/plain": [
       "<Figure size 432x288 with 1 Axes>"
      ]
     },
     "metadata": {
      "needs_background": "light"
     },
     "output_type": "display_data"
    }
   ],
   "source": [
    "data.family_size.hist()"
   ]
  },
  {
   "cell_type": "markdown",
   "metadata": {},
   "source": [
    "## c. Did it depend on family size"
   ]
  },
  {
   "cell_type": "code",
   "execution_count": 138,
   "metadata": {},
   "outputs": [
    {
     "name": "stderr",
     "output_type": "stream",
     "text": [
      "C:\\Users\\PAT\\Anaconda3\\lib\\site-packages\\seaborn\\categorical.py:3666: UserWarning:\n",
      "\n",
      "The `factorplot` function has been renamed to `catplot`. The original name will be removed in a future release. Please update your code. Note that the default `kind` in `factorplot` (`'point'`) has changed `'strip'` in `catplot`.\n",
      "\n"
     ]
    },
    {
     "data": {
      "text/plain": [
       "<seaborn.axisgrid.FacetGrid at 0x1c6fff2dd68>"
      ]
     },
     "execution_count": 138,
     "metadata": {},
     "output_type": "execute_result"
    },
    {
     "data": {
      "image/png": "[encoded data removed]",
      "text/plain": [
       "<Figure size 360x360 with 1 Axes>"
      ]
     },
     "metadata": {
      "needs_background": "light"
     },
     "output_type": "display_data"
    }
   ],
   "source": [
    "sb.factorplot('family_size','Survived',data=data)"
   ]
  },
  {
   "cell_type": "markdown",
   "metadata": {},
   "source": [
    "#### FINDING:\n",
    "people with 4 members survived more(could fit on small lifeboat and be rescued), along with size 1,2"
   ]
  },
  {
   "cell_type": "markdown",
   "metadata": {},
   "source": [
    "## chi-square analysis for categorical\n",
    "#Hypothesis H0(NUll hypothesis)- Relation b/w all IV variable(seperately) and dependent(outlet_sales) is said to be independent of each other\n",
    "#H1- says that the Relation b/w all IV variable(seperately) and dependent(outlet_sales) is said to be dependent on each other\n",
    "#if p-val>0.05 the H0 is accepted, signifiying that there is no significant relation and they are independent and hence we can drop that var\n",
    "#if p-val <0.05 H0 is rejected and H1 is accepted and we can include the var, since\n",
    "#they are dependent and can explain the DV significantly"
   ]
  },
  {
   "cell_type": "code",
   "execution_count": 394,
   "metadata": {},
   "outputs": [
    {
     "name": "stdout",
     "output_type": "stream",
     "text": [
      "accept -pvalue 0.000000 Sex\n",
      "accept -pvalue 0.000002 Embarked\n",
      "accept -pvalue 0.000000 is_alone\n",
      "Deleted skip col\n"
     ]
    }
   ],
   "source": [
    "#data = full_data[0]\n",
    "#test = full_data[1]\n",
    "skip_list = []\n",
    "for i in cat_names:\n",
    "    chi2, p, dof,ex = chi2_contingency(pd.crosstab(data['Survived'], data[i]))\n",
    "    if(p<0.05):#H1 accepted\n",
    "        print('accept -pvalue %f %s'%(p,i))\n",
    "        \n",
    "    else:\n",
    "        print('skip -p value %f %s'%(p,i))\n",
    "        skip_list.append(i)\n",
    "data = data.drop(skip_list,axis=1)\n",
    "test = test.drop(skip_list,axis=1)\n",
    "print('Deleted skip col')\n",
    "#Remove irrelevant categorical variables\n",
    "cat_names = [ x for x in cat_names if x not in skip_list]\n",
    "full_data = [data,test]"
   ]
  },
  {
   "cell_type": "code",
   "execution_count": 395,
   "metadata": {},
   "outputs": [
    {
     "data": {
      "text/html": [
       "<div>\n",
       "<style scoped>\n",
       "    .dataframe tbody tr th:only-of-type {\n",
       "        vertical-align: middle;\n",
       "    }\n",
       "\n",
       "    .dataframe tbody tr th {\n",
       "        vertical-align: top;\n",
       "    }\n",
       "\n",
       "    .dataframe thead th {\n",
       "        text-align: right;\n",
       "    }\n",
       "</style>\n",
       "<table border=\"1\" class=\"dataframe\">\n",
       "  <thead>\n",
       "    <tr style=\"text-align: right;\">\n",
       "      <th></th>\n",
       "      <th>Survived</th>\n",
       "      <th>Pclass</th>\n",
       "      <th>Name</th>\n",
       "      <th>Sex</th>\n",
       "      <th>Age</th>\n",
       "      <th>Fare</th>\n",
       "      <th>Embarked</th>\n",
       "      <th>family_size</th>\n",
       "      <th>is_alone</th>\n",
       "    </tr>\n",
       "  </thead>\n",
       "  <tbody>\n",
       "    <tr>\n",
       "      <th>0</th>\n",
       "      <td>0</td>\n",
       "      <td>3</td>\n",
       "      <td>Braund, Mr. Owen Harris</td>\n",
       "      <td>male</td>\n",
       "      <td>adults</td>\n",
       "      <td>extremely_low</td>\n",
       "      <td>S</td>\n",
       "      <td>2.0</td>\n",
       "      <td>0</td>\n",
       "    </tr>\n",
       "  </tbody>\n",
       "</table>\n",
       "</div>"
      ],
      "text/plain": [
       "   Survived  Pclass                     Name   Sex     Age           Fare  \\\n",
       "0         0       3  Braund, Mr. Owen Harris  male  adults  extremely_low   \n",
       "\n",
       "  Embarked  family_size is_alone  \n",
       "0        S          2.0        0  "
      ]
     },
     "execution_count": 395,
     "metadata": {},
     "output_type": "execute_result"
    }
   ],
   "source": [
    "data.head(1)"
   ]
  },
  {
   "cell_type": "code",
   "execution_count": 89,
   "metadata": {},
   "outputs": [
    {
     "data": {
      "text/html": [
       "<div>\n",
       "<style scoped>\n",
       "    .dataframe tbody tr th:only-of-type {\n",
       "        vertical-align: middle;\n",
       "    }\n",
       "\n",
       "    .dataframe tbody tr th {\n",
       "        vertical-align: top;\n",
       "    }\n",
       "\n",
       "    .dataframe thead th {\n",
       "        text-align: right;\n",
       "    }\n",
       "</style>\n",
       "<table border=\"1\" class=\"dataframe\">\n",
       "  <thead>\n",
       "    <tr style=\"text-align: right;\">\n",
       "      <th></th>\n",
       "      <th>Survived</th>\n",
       "      <th>Pclass</th>\n",
       "      <th>Age</th>\n",
       "      <th>Fare</th>\n",
       "      <th>family_size</th>\n",
       "    </tr>\n",
       "  </thead>\n",
       "  <tbody>\n",
       "    <tr>\n",
       "      <th>count</th>\n",
       "      <td>484.000000</td>\n",
       "      <td>484.000000</td>\n",
       "      <td>484.000000</td>\n",
       "      <td>484.000000</td>\n",
       "      <td>484.000000</td>\n",
       "    </tr>\n",
       "    <tr>\n",
       "      <th>mean</th>\n",
       "      <td>0.293388</td>\n",
       "      <td>2.628099</td>\n",
       "      <td>27.146238</td>\n",
       "      <td>11.697089</td>\n",
       "      <td>1.163223</td>\n",
       "    </tr>\n",
       "    <tr>\n",
       "      <th>std</th>\n",
       "      <td>0.455786</td>\n",
       "      <td>0.618985</td>\n",
       "      <td>6.271089</td>\n",
       "      <td>7.044375</td>\n",
       "      <td>0.369952</td>\n",
       "    </tr>\n",
       "    <tr>\n",
       "      <th>min</th>\n",
       "      <td>0.000000</td>\n",
       "      <td>1.000000</td>\n",
       "      <td>4.000000</td>\n",
       "      <td>0.000000</td>\n",
       "      <td>1.000000</td>\n",
       "    </tr>\n",
       "    <tr>\n",
       "      <th>25%</th>\n",
       "      <td>0.000000</td>\n",
       "      <td>2.000000</td>\n",
       "      <td>22.000000</td>\n",
       "      <td>7.750000</td>\n",
       "      <td>1.000000</td>\n",
       "    </tr>\n",
       "    <tr>\n",
       "      <th>50%</th>\n",
       "      <td>0.000000</td>\n",
       "      <td>3.000000</td>\n",
       "      <td>29.699118</td>\n",
       "      <td>8.050000</td>\n",
       "      <td>1.000000</td>\n",
       "    </tr>\n",
       "    <tr>\n",
       "      <th>75%</th>\n",
       "      <td>1.000000</td>\n",
       "      <td>3.000000</td>\n",
       "      <td>29.699118</td>\n",
       "      <td>13.000000</td>\n",
       "      <td>1.000000</td>\n",
       "    </tr>\n",
       "    <tr>\n",
       "      <th>max</th>\n",
       "      <td>1.000000</td>\n",
       "      <td>3.000000</td>\n",
       "      <td>41.000000</td>\n",
       "      <td>35.500000</td>\n",
       "      <td>2.000000</td>\n",
       "    </tr>\n",
       "  </tbody>\n",
       "</table>\n",
       "</div>"
      ],
      "text/plain": [
       "         Survived      Pclass         Age        Fare  family_size\n",
       "count  484.000000  484.000000  484.000000  484.000000   484.000000\n",
       "mean     0.293388    2.628099   27.146238   11.697089     1.163223\n",
       "std      0.455786    0.618985    6.271089    7.044375     0.369952\n",
       "min      0.000000    1.000000    4.000000    0.000000     1.000000\n",
       "25%      0.000000    2.000000   22.000000    7.750000     1.000000\n",
       "50%      0.000000    3.000000   29.699118    8.050000     1.000000\n",
       "75%      1.000000    3.000000   29.699118   13.000000     1.000000\n",
       "max      1.000000    3.000000   41.000000   35.500000     2.000000"
      ]
     },
     "execution_count": 89,
     "metadata": {},
     "output_type": "execute_result"
    }
   ],
   "source": [
    "data.describe()"
   ]
  },
  {
   "cell_type": "markdown",
   "metadata": {},
   "source": [
    "## FINDING\n",
    "min Fare says 0 let's do some analysis\n"
   ]
  },
  {
   "cell_type": "code",
   "execution_count": 93,
   "metadata": {},
   "outputs": [
    {
     "data": {
      "text/plain": [
       "Text(0, 0.5, 'Count of fare 0')"
      ]
     },
     "execution_count": 93,
     "metadata": {},
     "output_type": "execute_result"
    },
    {
     "data": {
      "image/png": "[encoded data removed]",
      "text/plain": [
       "<Figure size 432x288 with 1 Axes>"
      ]
     },
     "metadata": {
      "needs_background": "light"
     },
     "output_type": "display_data"
    }
   ],
   "source": [
    "data[data['Fare']==0].Pclass.value_counts().plot.bar()\n",
    "plt.xlabel('Pclass')\n",
    "plt.ylabel('Count of fare 0')"
   ]
  },
  {
   "cell_type": "markdown",
   "metadata": {},
   "source": [
    "## FINDING\n",
    "Either Class 2 dint pay prices or its just missing :)"
   ]
  },
  {
   "cell_type": "code",
   "execution_count": 95,
   "metadata": {},
   "outputs": [
    {
     "data": {
      "text/plain": [
       "<matplotlib.axes._subplots.AxesSubplot at 0x2e3b4196390>"
      ]
     },
     "execution_count": 95,
     "metadata": {},
     "output_type": "execute_result"
    },
    {
     "data": {
      "image/png": "[encoded data removed]",
      "text/plain": [
       "<Figure size 432x288 with 1 Axes>"
      ]
     },
     "metadata": {
      "needs_background": "light"
     },
     "output_type": "display_data"
    }
   ],
   "source": [
    "#data.groupby('Age').Survived.count().plot.bar()\n",
    "data['Age'].hist()"
   ]
  },
  {
   "cell_type": "code",
   "execution_count": 97,
   "metadata": {},
   "outputs": [
    {
     "data": {
      "text/plain": [
       "Text(0, 0.5, 'no of survivors')"
      ]
     },
     "execution_count": 97,
     "metadata": {},
     "output_type": "execute_result"
    },
    {
     "data": {
      "image/png": "[encoded data removed]",
      "text/plain": [
       "<Figure size 432x288 with 1 Axes>"
      ]
     },
     "metadata": {
      "needs_background": "light"
     },
     "output_type": "display_data"
    }
   ],
   "source": [
    "data.groupby('Age').Survived.value_counts().unstack(0).plot.bar()\n",
    "plt.ylabel('no of survivors')"
   ]
  },
  {
   "cell_type": "code",
   "execution_count": 171,
   "metadata": {},
   "outputs": [
    {
     "name": "stdout",
     "output_type": "stream",
     "text": [
      "Per of child survived  62.5\n",
      "Per of adult survived  27.648578811369507\n",
      "Per of middle age survived  27.397260273972602\n"
     ]
    }
   ],
   "source": [
    "child = data[data['Age'] == 0]\n",
    "adult =  data[data['Age'] == 1]\n",
    "middle =  data[data['Age'] == 2]\n",
    "child_surv = child[child['Survived'] == 1]\n",
    "adult_surv = adult[adult['Survived'] == 1]\n",
    "middle_surv = middle[middle['Survived'] == 1]\n",
    "print(\"Per of child survived \",(len(child_surv)/len(child))*100)\n",
    "print(\"Per of adult survived \",(len(adult_surv)/len(adult))*100)\n",
    "print(\"Per of middle age survived \",(len(middle_surv)/len(middle))*100)"
   ]
  },
  {
   "cell_type": "markdown",
   "metadata": {},
   "source": [
    "## Insight\n",
    "Children survived the most, so age is significant for survival"
   ]
  },
  {
   "cell_type": "markdown",
   "metadata": {},
   "source": [
    "## Correlation analysis"
   ]
  },
  {
   "cell_type": "code",
   "execution_count": 207,
   "metadata": {},
   "outputs": [
    {
     "name": "stdout",
     "output_type": "stream",
     "text": [
      "AxesSubplot(0.125,0.1925;0.62x0.62)\n"
     ]
    },
    {
     "data": {
      "image/png": "[encoded data removed]",
      "text/plain": [
       "<Figure size 648x648 with 2 Axes>"
      ]
     },
     "metadata": {
      "needs_background": "light"
     },
     "output_type": "display_data"
    }
   ],
   "source": [
    "f,ax=plt.subplots(figsize=(9,9))\n",
    "corr = data.loc[:,continous_names].corr()\n",
    "print(sb.heatmap(corr,mask=np.zeros_like(corr,dtype=np.bool),cmap=sb.diverging_palette(220,10,as_cmap=True),\n",
    "            square =True,ax=ax,annot = True))"
   ]
  },
  {
   "cell_type": "code",
   "execution_count": 210,
   "metadata": {},
   "outputs": [
    {
     "name": "stdout",
     "output_type": "stream",
     "text": [
      "-----Summary of columns\n",
      "Total col - 8\n",
      "continous are - 5\n",
      "   Survived  Pclass   Age  Fare  family_size\n",
      "0         0     3.0  22.0  7.25          2.0\n",
      "-----\n",
      "categorical are - 3\n",
      "    Sex Embarked is_alone\n",
      "0  male        S        0\n"
     ]
    }
   ],
   "source": [
    "#data['Fare']data[data['Fare']==0]\n",
    "#data.describe()\n",
    "#data['Survived'] = data['Survived'].astype('int')\n",
    "continous_names, cat_names = get_col_names(data)\n",
    "print('-----Summary of columns')\n",
    "print('Total col -',data.shape[1] )\n",
    "print('continous are -', len(continous_names))\n",
    "print(data[continous_names].head(1))\n",
    "print('-----')\n",
    "print('categorical are -', len(cat_names))\n",
    "print(data[cat_names].head(1))"
   ]
  },
  {
   "cell_type": "code",
   "execution_count": 101,
   "metadata": {},
   "outputs": [
    {
     "name": "stdout",
     "output_type": "stream",
     "text": [
      "count    484.000000\n",
      "mean       0.795455\n",
      "std        0.786467\n",
      "min        0.000000\n",
      "25%        0.000000\n",
      "50%        1.000000\n",
      "75%        1.000000\n",
      "max        3.000000\n",
      "Name: Fare, dtype: float64\n"
     ]
    },
    {
     "data": {
      "text/plain": [
       "<matplotlib.collections.PathCollection at 0x2e3b226a0b8>"
      ]
     },
     "execution_count": 101,
     "metadata": {},
     "output_type": "execute_result"
    },
    {
     "data": {
      "image/png": "[encoded data removed]",
      "text/plain": [
       "<Figure size 432x288 with 1 Axes>"
      ]
     },
     "metadata": {
      "needs_background": "light"
     },
     "output_type": "display_data"
    }
   ],
   "source": [
    "#lets see how is the decision boundary going to be\n",
    "df0 = data[data['Survived'] == 0]\n",
    "df1 = data[data['Survived'] == 1]\n",
    "print(data.Fare.describe())\n",
    "plt.scatter(df0['Pclass'], df0.Fare, marker='+',color='red')\n",
    "plt.scatter(df1['Pclass'], df1.Fare, marker='X',color='green')"
   ]
  },
  {
   "cell_type": "code",
   "execution_count": 102,
   "metadata": {},
   "outputs": [
    {
     "data": {
      "text/html": [
       "<div>\n",
       "<style scoped>\n",
       "    .dataframe tbody tr th:only-of-type {\n",
       "        vertical-align: middle;\n",
       "    }\n",
       "\n",
       "    .dataframe tbody tr th {\n",
       "        vertical-align: top;\n",
       "    }\n",
       "\n",
       "    .dataframe thead th {\n",
       "        text-align: right;\n",
       "    }\n",
       "</style>\n",
       "<table border=\"1\" class=\"dataframe\">\n",
       "  <thead>\n",
       "    <tr style=\"text-align: right;\">\n",
       "      <th></th>\n",
       "      <th>Survived</th>\n",
       "      <th>Pclass</th>\n",
       "      <th>Sex</th>\n",
       "      <th>Age</th>\n",
       "      <th>Fare</th>\n",
       "      <th>Embarked</th>\n",
       "      <th>family_size</th>\n",
       "      <th>is_alone</th>\n",
       "    </tr>\n",
       "  </thead>\n",
       "  <tbody>\n",
       "    <tr>\n",
       "      <th>0</th>\n",
       "      <td>0</td>\n",
       "      <td>3</td>\n",
       "      <td>male</td>\n",
       "      <td>1.0</td>\n",
       "      <td>0.0</td>\n",
       "      <td>S</td>\n",
       "      <td>2</td>\n",
       "      <td>0</td>\n",
       "    </tr>\n",
       "    <tr>\n",
       "      <th>2</th>\n",
       "      <td>1</td>\n",
       "      <td>3</td>\n",
       "      <td>female</td>\n",
       "      <td>1.0</td>\n",
       "      <td>1.0</td>\n",
       "      <td>S</td>\n",
       "      <td>1</td>\n",
       "      <td>1</td>\n",
       "    </tr>\n",
       "  </tbody>\n",
       "</table>\n",
       "</div>"
      ],
      "text/plain": [
       "   Survived  Pclass     Sex  Age  Fare Embarked  family_size is_alone\n",
       "0         0       3    male  1.0   0.0        S            2        0\n",
       "2         1       3  female  1.0   1.0        S            1        1"
      ]
     },
     "execution_count": 102,
     "metadata": {},
     "output_type": "execute_result"
    }
   ],
   "source": [
    "data.head(2)"
   ]
  },
  {
   "cell_type": "markdown",
   "metadata": {},
   "source": [
    "## lets plot some bar graphs for categorical variables"
   ]
  },
  {
   "cell_type": "code",
   "execution_count": 104,
   "metadata": {},
   "outputs": [
    {
     "data": {
      "text/plain": [
       "Text(0, 0.5, 'avergae survivors')"
      ]
     },
     "execution_count": 104,
     "metadata": {},
     "output_type": "execute_result"
    },
    {
     "data": {
      "image/png": "[encoded data removed]",
      "text/plain": [
       "<Figure size 432x288 with 1 Axes>"
      ]
     },
     "metadata": {
      "needs_background": "light"
     },
     "output_type": "display_data"
    }
   ],
   "source": [
    "##Sex,family size and survival\n",
    "data.groupby(['Sex','family_size'])['Survived'].mean().plot.bar()\n",
    "plt.ylabel('avergae survivors')\n"
   ]
  },
  {
   "cell_type": "markdown",
   "metadata": {},
   "source": [
    "## Insight\n",
    "female survived more irrespective of family size"
   ]
  },
  {
   "cell_type": "code",
   "execution_count": 106,
   "metadata": {},
   "outputs": [
    {
     "data": {
      "text/plain": [
       "Text(0, 0.5, 'avergae survivors')"
      ]
     },
     "execution_count": 106,
     "metadata": {},
     "output_type": "execute_result"
    },
    {
     "data": {
      "image/png": "[encoded data removed]",
      "text/plain": [
       "<Figure size 432x288 with 1 Axes>"
      ]
     },
     "metadata": {
      "needs_background": "light"
     },
     "output_type": "display_data"
    }
   ],
   "source": [
    "#Sex and survival\n",
    "#Graphical\n",
    "data.groupby(['Sex'])['Survived'].mean().plot.bar()\n",
    "plt.ylabel('avergae survivors')"
   ]
  },
  {
   "cell_type": "code",
   "execution_count": 107,
   "metadata": {},
   "outputs": [
    {
     "name": "stdout",
     "output_type": "stream",
     "text": [
      "Total males-- 357 Total females--  127\n",
      "No of male survivors--- 51 No of female survivors--- 91\n",
      "per of male survivors--- 14.285714285714285 No of female survivors--- 71.65354330708661\n"
     ]
    }
   ],
   "source": [
    "#mathematical\n",
    "male = data[data['Sex'] == 'male']\n",
    "female = data[data['Sex'] == 'female']\n",
    "male_sur = male[male['Survived'] == 1]\n",
    "female_sur = female[female['Survived'] == 1]\n",
    "print('Total males--',len(male), 'Total females-- ',len(female))\n",
    "print('No of male survivors---',len(male_sur),'No of female survivors---',len(female_sur))\n",
    "print('per of male survivors---',len(male_sur)/len(male)*100,'No of female survivors---',len(female_sur)/len(female)*100)"
   ]
  },
  {
   "cell_type": "markdown",
   "metadata": {},
   "source": [
    "## Insight\n",
    "Female survived more"
   ]
  },
  {
   "cell_type": "code",
   "execution_count": 394,
   "metadata": {},
   "outputs": [],
   "source": [
    "sur =data[data['Survived'] == 1]\n",
    "non_sur =data[data['Survived'] == 0]\n",
    "male_surv = sur[sur['Sex'] == 'male']\n",
    "female_surv = sur[sur['Sex'] == 'female']\n",
    "male_non_surv = sur[sur['Sex'] == 'male']\n",
    "female_non_surv = sur[sur['Sex'] == 'female']"
   ]
  },
  {
   "cell_type": "code",
   "execution_count": 108,
   "metadata": {},
   "outputs": [
    {
     "data": {
      "text/plain": [
       "<matplotlib.axes._subplots.AxesSubplot at 0x2e3b2366be0>"
      ]
     },
     "execution_count": 108,
     "metadata": {},
     "output_type": "execute_result"
    },
    {
     "data": {
      "image/png": "[encoded data removed]",
      "text/plain": [
       "<Figure size 432x288 with 1 Axes>"
      ]
     },
     "metadata": {
      "needs_background": "light"
     },
     "output_type": "display_data"
    }
   ],
   "source": [
    "#Lets look at fare\n",
    "data['Fare'].hist()"
   ]
  },
  {
   "cell_type": "code",
   "execution_count": 109,
   "metadata": {},
   "outputs": [
    {
     "data": {
      "text/plain": [
       "<matplotlib.axes._subplots.AxesSubplot at 0x2e3b14dfba8>"
      ]
     },
     "execution_count": 109,
     "metadata": {},
     "output_type": "execute_result"
    },
    {
     "data": {
      "image/png": "[encoded data removed]",
      "text/plain": [
       "<Figure size 432x288 with 1 Axes>"
      ]
     },
     "metadata": {
      "needs_background": "light"
     },
     "output_type": "display_data"
    }
   ],
   "source": [
    "#we have largest number of people from pclass-3\n",
    "data['Pclass'].hist()"
   ]
  },
  {
   "cell_type": "code",
   "execution_count": 110,
   "metadata": {},
   "outputs": [
    {
     "data": {
      "text/plain": [
       "<matplotlib.axes._subplots.AxesSubplot at 0x2e3b29b2940>"
      ]
     },
     "execution_count": 110,
     "metadata": {},
     "output_type": "execute_result"
    },
    {
     "data": {
      "image/png": "[encoded data removed]",
      "text/plain": [
       "<Figure size 432x288 with 1 Axes>"
      ]
     },
     "metadata": {
      "needs_background": "light"
     },
     "output_type": "display_data"
    }
   ],
   "source": [
    "#Pclass and survival\n",
    "#Graphical\n",
    "data.groupby('Pclass').Survived.value_counts().unstack(0).plot.bar()"
   ]
  },
  {
   "cell_type": "code",
   "execution_count": 111,
   "metadata": {},
   "outputs": [
    {
     "name": "stdout",
     "output_type": "stream",
     "text": [
      "survived-----p1 12.676056338028168 --p2 31.690140845070424 --p3 55.633802816901415\n",
      "non-survived ---p1 5.263157894736842 --p2 18.421052631578945 --p3 76.31578947368422\n"
     ]
    }
   ],
   "source": [
    "#mathematical\n",
    "surv = data[data['Survived'] == 1]\n",
    "surv_p1,surv_p2,surv_p3= surv[surv['Pclass'] == 1],surv[surv['Pclass'] == 2],surv[surv['Pclass'] == 3]\n",
    "print('survived-----p1',len(surv_p1)/len(surv)*100,'--p2',len(surv_p2)/len(surv)*100,'--p3',len(surv_p3)/len(surv)*100)\n",
    "\n",
    "non_surv = data[data['Survived'] == 0]\n",
    "##print(non_surv[non_surv['Pclass'] == 1])\n",
    "non_surv_p1,non_surv_p2,non_surv_p3= non_surv[non_surv['Pclass'] == 1],non_surv[non_surv['Pclass'] == 2],non_surv[non_surv['Pclass'] == 3]\n",
    "print('non-survived ---p1',len(non_surv_p1)/len(non_surv)*100,'--p2',len(non_surv_p2)/len(non_surv)*100,'--p3',len(non_surv_p3)/len(non_surv)*100)\n"
   ]
  },
  {
   "cell_type": "markdown",
   "metadata": {},
   "source": [
    "## Insight\n",
    "out of all the classes P3 survived the most"
   ]
  },
  {
   "cell_type": "code",
   "execution_count": 113,
   "metadata": {},
   "outputs": [
    {
     "data": {
      "text/plain": [
       "Text(0, 0.5, 'avergae Fare')"
      ]
     },
     "execution_count": 113,
     "metadata": {},
     "output_type": "execute_result"
    },
    {
     "data": {
      "image/png": "[encoded data removed]",
      "text/plain": [
       "<Figure size 432x288 with 1 Axes>"
      ]
     },
     "metadata": {
      "needs_background": "light"
     },
     "output_type": "display_data"
    }
   ],
   "source": [
    "data.groupby('Survived').Fare.mean().plot.bar()\n",
    "plt.ylabel('avergae Fare')"
   ]
  },
  {
   "cell_type": "code",
   "execution_count": 114,
   "metadata": {},
   "outputs": [
    {
     "name": "stdout",
     "output_type": "stream",
     "text": [
      "mean fare of non-survivors--  0.6929824561403509 \n",
      "mean fare of survivors -- 1.0422535211267605\n"
     ]
    }
   ],
   "source": [
    "#Fare and survival\n",
    "surv = data[data['Survived'] == 1]\n",
    "non_surv = data[data['Survived'] == 0]\n",
    "print('mean fare of non-survivors-- ',non_surv['Fare'].mean(),'\\nmean fare of survivors --',surv['Fare'].mean())\n",
    "\n"
   ]
  },
  {
   "cell_type": "markdown",
   "metadata": {},
   "source": [
    "## Insight\n",
    "Looks like survivors paid more fare"
   ]
  },
  {
   "cell_type": "markdown",
   "metadata": {},
   "source": [
    "## Is there any relation b/w passenger fare and survival"
   ]
  },
  {
   "cell_type": "code",
   "execution_count": 116,
   "metadata": {},
   "outputs": [
    {
     "data": {
      "text/plain": [
       "Text(0, 0.5, 'Fare greater than mean')"
      ]
     },
     "execution_count": 116,
     "metadata": {},
     "output_type": "execute_result"
    },
    {
     "data": {
      "image/png": "[encoded data removed]",
      "text/plain": [
       "<Figure size 432x288 with 1 Axes>"
      ]
     },
     "metadata": {
      "needs_background": "light"
     },
     "output_type": "display_data"
    }
   ],
   "source": [
    "#get dataframe having fare > mean fare,and see how many such people who payed more fare survived\n",
    "tmp = pd.DataFrame(data[data['Fare'] > data['Fare'].mean()].Survived, columns = ['Survived'])\n",
    "tmp.groupby('Survived').Survived.count().plot.bar()\n",
    "plt.ylabel('Fare greater than mean')"
   ]
  },
  {
   "cell_type": "code",
   "execution_count": 117,
   "metadata": {},
   "outputs": [
    {
     "name": "stdout",
     "output_type": "stream",
     "text": [
      "People who paid more than avg fare and did not survived-- 183\n",
      "People who paid more than avg fare and did survived-- 98\n"
     ]
    }
   ],
   "source": [
    "#mathematical proof\n",
    "passenger_paid_more_than_avg = data[data['Fare'] >data['Fare'].mean()]\n",
    "passenger_paid_less_than_avg = data[data['Fare'] < data['Fare'].mean()]\n",
    "surv_passenger_paid_more_than_avg = passenger_paid_more_than_avg[passenger_paid_more_than_avg['Survived'] == 1]\n",
    "non_surv_passenger_paid_more_than_avg = passenger_paid_more_than_avg[passenger_paid_more_than_avg['Survived'] == 0]\n",
    "surv_passenger_paid_less_than_avg = passenger_paid_less_than_avg[passenger_paid_less_than_avg['Survived'] == 1]\n",
    "print('People who paid more than avg fare and did not survived--',len(non_surv_passenger_paid_more_than_avg))\n",
    "print('People who paid more than avg fare and did survived--',len(surv_passenger_paid_more_than_avg))"
   ]
  },
  {
   "cell_type": "code",
   "execution_count": 118,
   "metadata": {},
   "outputs": [
    {
     "data": {
      "text/plain": [
       "Text(0, 0.5, 'Fare lesser than mean')"
      ]
     },
     "execution_count": 118,
     "metadata": {},
     "output_type": "execute_result"
    },
    {
     "data": {
      "image/png": "[encoded data removed]",
      "text/plain": [
       "<Figure size 432x288 with 1 Axes>"
      ]
     },
     "metadata": {
      "needs_background": "light"
     },
     "output_type": "display_data"
    }
   ],
   "source": [
    "#get dataframe having fare < avg fare,and see how many such people who payed more fare survived\n",
    "tmp = pd.DataFrame(data[data['Fare'] < data['Fare'].mean()].Survived, columns = ['Survived'])\n",
    "tmp.groupby('Survived').Survived.count().plot.bar()\n",
    "plt.ylabel('Fare lesser than mean')"
   ]
  },
  {
   "cell_type": "markdown",
   "metadata": {},
   "source": [
    "## Insight:\n",
    "Not much of a difference,both looks same .Fare is not that significant"
   ]
  },
  {
   "cell_type": "code",
   "execution_count": 120,
   "metadata": {},
   "outputs": [
    {
     "name": "stdout",
     "output_type": "stream",
     "text": [
      "-----Summary of columns\n",
      "Total col - 8\n",
      "continous are - 5\n",
      "   Survived  Pclass  Age  Fare  family_size\n",
      "0         0       3  1.0   0.0            2\n",
      "-----\n",
      "categorical are - 3\n",
      "    Sex Embarked is_alone\n",
      "0  male        S        0\n"
     ]
    }
   ],
   "source": [
    "continous_names, cat_names = get_col_names(data)\n",
    "print('-----Summary of columns')\n",
    "print('Total col -',data.shape[1] )\n",
    "print('continous are -', len(continous_names))\n",
    "print(data[continous_names].head(1))\n",
    "print('-----')\n",
    "print('categorical are -', len(cat_names))\n",
    "print(data[cat_names].head(1))"
   ]
  },
  {
   "cell_type": "markdown",
   "metadata": {},
   "source": [
    "## Normalization"
   ]
  },
  {
   "cell_type": "code",
   "execution_count": null,
   "metadata": {},
   "outputs": [],
   "source": [
    "#TBD"
   ]
  },
  {
   "cell_type": "code",
   "execution_count": 389,
   "metadata": {},
   "outputs": [],
   "source": [
    "#lets drop ticket\n",
    "if 'Ticket' in cat_names:\n",
    "    for i,dataset in enumerate(full_data):\n",
    "        dataset = dataset.drop(['Ticket'], axis=1)\n",
    "        if i == 0:#updae back\n",
    "            data = dataset\n",
    "        else:\n",
    "            test = dataset\n",
    "    full_data = [data,test]#full update\n",
    "    cat_names.remove('Ticket')"
   ]
  },
  {
   "cell_type": "code",
   "execution_count": 409,
   "metadata": {},
   "outputs": [],
   "source": [
    "#Categ to dummy\n",
    "for i,dataset in enumerate(full_data):\n",
    "    dataset = pd.get_dummies(dataset, columns=['Age','Fare'])\n",
    "    if i == 0:#updae back\n",
    "        data = dataset\n",
    "    else:\n",
    "        test = dataset\n",
    "full_data = [data,test]#full update"
   ]
  },
  {
   "cell_type": "code",
   "execution_count": 410,
   "metadata": {},
   "outputs": [
    {
     "data": {
      "text/plain": [
       "(   Survived  Pclass  family_size  Sex_female  Sex_male  Embarked_C  \\\n",
       " 0         0       3          2.0           0         1           0   \n",
       " 1         1       1          2.0           1         0           1   \n",
       " \n",
       "    Embarked_Q  Embarked_S  is_alone_0  is_alone_1  ...  Age_children  \\\n",
       " 0           0           1           1           0  ...             0   \n",
       " 1           0           0           1           0  ...             0   \n",
       " \n",
       "    Age_middle age  Age_retired  Age_senior  Age_teens  Fare_extremely_high  \\\n",
       " 0               0            0           0          0                    0   \n",
       " 1               1            0           0          0                    1   \n",
       " \n",
       "    Fare_extremely_low  Fare_high  Fare_low  Fare_medium  \n",
       " 0                   1          0         0            0  \n",
       " 1                   0          0         0            0  \n",
       " \n",
       " [2 rows x 21 columns], ['Sex', 'Embarked', 'is_alone', 'Age', 'Fare'])"
      ]
     },
     "execution_count": 410,
     "metadata": {},
     "output_type": "execute_result"
    }
   ],
   "source": [
    "#data=data.drop('Name',axis=1)\n",
    "\n",
    "full_data = [data,test]\n",
    "data.shape\n",
    "data.head(2),cat_names"
   ]
  },
  {
   "cell_type": "code",
   "execution_count": 402,
   "metadata": {},
   "outputs": [
    {
     "data": {
      "text/plain": [
       "(   Survived  Pclass     Age           Fare  family_size  Sex_female  Sex_male  \\\n",
       " 0         0       3  adults  extremely_low          2.0           0         1   \n",
       " \n",
       "    Embarked_C  Embarked_Q  Embarked_S  is_alone_0  is_alone_1  \n",
       " 0           0           0           1           1           0  , (891, 12))"
      ]
     },
     "execution_count": 402,
     "metadata": {},
     "output_type": "execute_result"
    }
   ],
   "source": [
    "#Saving for future purpose\n",
    "data.to_csv(processed_data_path,index=False)\n",
    "#data = pd.read_csv(processed_data_path)\n",
    "data.head(1),data.shape\n",
    " \n",
    "\n"
   ]
  },
  {
   "cell_type": "markdown",
   "metadata": {},
   "source": [
    "## Model Training\n",
    "We need to split our data for taining and testing\n",
    "Way1 is using random sampling\n",
    "Way2 is using Kfolds"
   ]
  },
  {
   "cell_type": "code",
   "execution_count": 128,
   "metadata": {},
   "outputs": [
    {
     "name": "stdout",
     "output_type": "stream",
     "text": [
      "accuracy  0.7835051546391752\n"
     ]
    },
    {
     "name": "stderr",
     "output_type": "stream",
     "text": [
      "C:\\Users\\PAT\\Anaconda3\\lib\\site-packages\\sklearn\\ensemble\\forest.py:245: FutureWarning:\n",
      "\n",
      "The default value of n_estimators will change from 10 in version 0.20 to 100 in 0.22.\n",
      "\n"
     ]
    }
   ],
   "source": [
    "#Way 1: Directly using train_test_split\n",
    "\n",
    "iv = data.drop(['Survived'],axis=1)\n",
    "dv=data['Survived'].values\n",
    "iv_train, iv_test, dv_train,dv_test = train_test_split(iv,dv, test_size = 0.2)#way 1\n",
    "\n",
    "model = RandomForestClassifier().fit(iv_train,dv_train)\n",
    "print('accuracy ' ,model.score(iv_test,dv_test))"
   ]
  },
  {
   "cell_type": "markdown",
   "metadata": {},
   "source": [
    "## For Kfolds, I declared a helper class to test my model"
   ]
  },
  {
   "cell_type": "code",
   "execution_count": 216,
   "metadata": {},
   "outputs": [],
   "source": [
    "#class to extend sklearn classifier\n",
    "class sklearnHelper(object):\n",
    "    def __init__(self, clf, seed = 0, params = None):\n",
    "        if(params):\n",
    "            params['random_state'] = seed\n",
    "            self.clf = clf(**params)\n",
    "        else:\n",
    "            self.clf = clf()\n",
    "    def train(self, train_iv, train_dv):\n",
    "        self.clf.fit(train_iv, train_dv)#train on training data\n",
    "    def predict(self, test_iv):\n",
    "        return self.clf.predict(test_iv)\n",
    "    def feature_importances(self,x, y):\n",
    "        return self.clf.fit(x,y).feature_importances_\n",
    "    \n",
    "        "
   ]
  },
  {
   "cell_type": "code",
   "execution_count": 217,
   "metadata": {},
   "outputs": [],
   "source": [
    "#parameter initialization block\n",
    "rf_params = {\n",
    "    'n_estimators': 500,\n",
    "    'max_depth': 6,\n",
    "    'min_samples_leaf': 2,\n",
    "    'max_features' : 'sqrt',\n",
    "    'verbose':0\n",
    "}\n",
    "# Support Vector Classifier parameters \n",
    "svc_params = {\n",
    "    'kernel' : 'linear',\n",
    "    'C' : 0.025\n",
    "    }\n",
    "SEED = 0#for reprducibility\n",
    "NFOLDS = 5 #set folds for out-of-fold prediction\n",
    "kf = KFold(n_splits = NFOLDS)"
   ]
  },
  {
   "cell_type": "code",
   "execution_count": 218,
   "metadata": {},
   "outputs": [],
   "source": [
    "#Since we have the helper class declared, we can call same class with object of respective class, initialize the parameters\n",
    "#and get the object indentifier for each classifier being passed\n",
    "rf = sklearnHelper(clf = RandomForestClassifier, seed = SEED, params = rf_params)\n",
    "svc = sklearnHelper(clf=SVC, seed=SEED, params=svc_params)\n",
    "nb = sklearnHelper(clf=GaussianNB, seed=SEED, params=None)"
   ]
  },
  {
   "cell_type": "code",
   "execution_count": 219,
   "metadata": {},
   "outputs": [],
   "source": [
    "#Way 2: Using KFolds\n",
    "def get_oof(clf, iv, dv,classifier = None):\n",
    "    i = 0\n",
    "    avg_score = 0\n",
    "    it_score = 0\n",
    "    for train_index,test_index in kf.split(range(data.shape[0])):\n",
    "        iv_train, iv_test, dv_train,dv_test = iv[train_index], iv[test_index]\\\n",
    "                                ,dv[train_index], dv[test_index]\n",
    "            \n",
    "        clf.train(iv_train, dv_train)#Train\n",
    "        dv_test_pred = clf.predict(iv_test)#predict\n",
    "        it_score = sklearn.metrics.accuracy_score(dv_test, dv_test_pred)#score\n",
    "        avg_score += it_score#calculate average\n",
    "        #if(classifier):\n",
    "        #   print( clf.feature_importances(iv_train, dv_train))\n",
    "        print(it_score)#print for reference\n",
    "    return avg_score/NFOLDS\n",
    "\n",
    "\"\"\"This method take a dic as input and calculates the key with maximum value\"\"\"\n",
    "def get_max(result):\n",
    "    print(result)\n",
    "    max = 0\n",
    "    for item in result.values():\n",
    "        if max < item:\n",
    "            max = item\n",
    "    return max\n"
   ]
  },
  {
   "cell_type": "code",
   "execution_count": 429,
   "metadata": {},
   "outputs": [
    {
     "name": "stdout",
     "output_type": "stream",
     "text": [
      "RandomForest-------\n",
      "0.8324022346368715\n",
      "0.8314606741573034\n",
      "0.8258426966292135\n",
      "0.7921348314606742\n",
      "0.8595505617977528\n",
      "Average rf score 0.8282781997363632\n",
      "SVC-----------------\n",
      "0.8100558659217877\n",
      "0.8033707865168539\n",
      "0.7808988764044944\n",
      "0.7359550561797753\n",
      "0.8033707865168539\n",
      "Average svm score 0.786730274307953\n",
      "Training complete\n",
      "Naive Bayes--------\n",
      "0.6368715083798883\n",
      "0.7865168539325843\n",
      "0.8033707865168539\n",
      "0.7528089887640449\n",
      "0.8314606741573034\n",
      "Average naive bayes score 0.762205762350135\n",
      "Training complete\n",
      "{'RandomForestClasssifier': 0.8282781997363632, 'svm': 0.786730274307953, 'naive bayes': 0.762205762350135}\n",
      "{'RandomForestClasssifier': 0.8282781997363632, 'svm': 0.786730274307953, 'naive bayes': 0.762205762350135}\n",
      "%%%%%%%%%% BEST model : RandomForestClasssifier -----score 0.8282781997363632\n"
     ]
    }
   ],
   "source": [
    "iv = data.drop(['Survived'], axis =1).values #for kfolds, use arrays\n",
    "dv = data['Survived'].values\n",
    "\n",
    "print('RandomForest-------')\n",
    "rf_avg_score = get_oof(rf, iv, dv,'rf')\n",
    "print('Average rf score', rf_avg_score)\n",
    "\n",
    "print('SVC-----------------')\n",
    "svm_avg_score = get_oof(svc, iv, dv)\n",
    "print('Average svm score', svm_avg_score)\n",
    "print(\"Training complete\")\n",
    "\n",
    "print('Naive Bayes--------')\n",
    "nb_avg_score = get_oof(nb, iv, dv)\n",
    "print('Average naive bayes score', nb_avg_score)\n",
    "print(\"Training complete\")\n",
    "\n",
    "result = {'RandomForestClasssifier':rf_avg_score,\n",
    "         'svm':svm_avg_score,\n",
    "         'naive bayes': nb_avg_score\n",
    "         }\n",
    "\n",
    "upd_result = dict((val,key) for key,val in result.items())#create a dic by rev 'result' pairs and extracting key with max value\n",
    "print('%%%%%%%%%% BEST model :',upd_result[get_max(result)] ,'-----score',get_max(result))\n",
    "      \n"
   ]
  },
  {
   "cell_type": "markdown",
   "metadata": {},
   "source": [
    "## Plot heatmap for the cleaned data"
   ]
  },
  {
   "cell_type": "code",
   "execution_count": 158,
   "metadata": {},
   "outputs": [
    {
     "name": "stdout",
     "output_type": "stream",
     "text": [
      "-----Summary of columns\n",
      "Total col - 12\n",
      "continous are - 12\n",
      "   Survived  Pclass  Age  Fare  family_size  Sex_female  Sex_male  Embarked_C  \\\n",
      "0         0       3  1.0   0.0            2           0         1           0   \n",
      "\n",
      "   Embarked_Q  Embarked_S  is_alone_0  is_alone_1  \n",
      "0           0           1           1           0  \n",
      "-----\n",
      "categorical are - 0\n",
      "Empty DataFrame\n",
      "Columns: []\n",
      "Index: [0]\n"
     ]
    }
   ],
   "source": [
    "#Let's check the summary of columns\n",
    "continous_names, cat_names = get_col_names(data)\n",
    "print('-----Summary of columns')\n",
    "print('Total col -',data.shape[1] )\n",
    "print('continous are -', len(continous_names))\n",
    "print(data[continous_names].head(1))\n",
    "print('-----')\n",
    "print('categorical are -', len(cat_names))\n",
    "print(data[cat_names].head(1))"
   ]
  },
  {
   "cell_type": "code",
   "execution_count": 159,
   "metadata": {},
   "outputs": [
    {
     "name": "stdout",
     "output_type": "stream",
     "text": [
      "AxesSubplot(0.125,0.1925;0.62x0.62)\n"
     ]
    },
    {
     "data": {
      "image/png": "[encoded data removed]",
      "text/plain": [
       "<Figure size 864x864 with 2 Axes>"
      ]
     },
     "metadata": {
      "needs_background": "light"
     },
     "output_type": "display_data"
    }
   ],
   "source": [
    "f,ax=plt.subplots(figsize=(12,12))\n",
    "corr = data.loc[:,continous_names].corr()\n",
    "print(sb.heatmap(corr,mask=np.zeros_like(corr,dtype=np.bool),cmap=sb.diverging_palette(220,10,as_cmap=True),\n",
    "            square =True,ax=ax,annot = True))"
   ]
  },
  {
   "cell_type": "markdown",
   "metadata": {},
   "source": [
    "## FINDING\n",
    "Sex_male and sex_female are negatively and positively related with Survival rate, indicating females \n",
    "survived more than men"
   ]
  },
  {
   "cell_type": "markdown",
   "metadata": {},
   "source": [
    "## Plot feature importances in randomforest\n",
    "We selected SVM, but just for info sake lets plot this also"
   ]
  },
  {
   "cell_type": "code",
   "execution_count": 221,
   "metadata": {},
   "outputs": [
    {
     "data": {
      "text/html": [
       "<div>\n",
       "<style scoped>\n",
       "    .dataframe tbody tr th:only-of-type {\n",
       "        vertical-align: middle;\n",
       "    }\n",
       "\n",
       "    .dataframe tbody tr th {\n",
       "        vertical-align: top;\n",
       "    }\n",
       "\n",
       "    .dataframe thead th {\n",
       "        text-align: right;\n",
       "    }\n",
       "</style>\n",
       "<table border=\"1\" class=\"dataframe\">\n",
       "  <thead>\n",
       "    <tr style=\"text-align: right;\">\n",
       "      <th></th>\n",
       "      <th>features</th>\n",
       "      <th>Random Forest feature importances</th>\n",
       "    </tr>\n",
       "  </thead>\n",
       "  <tbody>\n",
       "    <tr>\n",
       "      <th>0</th>\n",
       "      <td>Pclass</td>\n",
       "      <td>0.099112</td>\n",
       "    </tr>\n",
       "  </tbody>\n",
       "</table>\n",
       "</div>"
      ],
      "text/plain": [
       "  features  Random Forest feature importances\n",
       "0   Pclass                           0.099112"
      ]
     },
     "execution_count": 221,
     "metadata": {},
     "output_type": "execute_result"
    }
   ],
   "source": [
    "iv = data.drop(['Survived'],axis=1)\n",
    "dv=data['Survived'].values\n",
    "iv_train, iv_test, dv_train,dv_test = train_test_split(iv,dv, test_size = 0.2,random_state=42)#way 1\n",
    "model = RandomForestClassifier().fit(iv_train, dv_train)\n",
    "#f = pd.DataFrame(model.feature_importances_.reshape(1,-1),columns=data.drop(['Survived'],axis=1).columns.values)\n",
    "cols = data.drop(['Survived'],axis=1).columns\n",
    "feature_dataframe = pd.DataFrame( {'features': cols,\n",
    "     'Random Forest feature importances': model.feature_importances_})\n",
    "feature_dataframe.head(1)\n",
    "#data.drop(['Survived'],axis=1).columns\n",
    "#model.feature_importances_.reshape(1,-1)\n"
   ]
  },
  {
   "cell_type": "code",
   "execution_count": 222,
   "metadata": {},
   "outputs": [
    {
     "data": {
      "text/plain": [
       "array([0.09911205, 0.24976112, 0.27053229, 0.0247018 , 0.20651335,\n",
       "       0.0858613 , 0.00945707, 0.00662866, 0.01933764, 0.0146237 ,\n",
       "       0.01347101])"
      ]
     },
     "execution_count": 222,
     "metadata": {},
     "output_type": "execute_result"
    }
   ],
   "source": [
    "model.feature_importances_"
   ]
  },
  {
   "cell_type": "code",
   "execution_count": 223,
   "metadata": {},
   "outputs": [
    {
     "data": {
      "text/plain": [
       "Index(['Pclass', 'Age', 'Fare', 'family_size', 'Sex_female', 'Sex_male',\n",
       "       'Embarked_C', 'Embarked_Q', 'Embarked_S', 'is_alone_0', 'is_alone_1'],\n",
       "      dtype='object')"
      ]
     },
     "execution_count": 223,
     "metadata": {},
     "output_type": "execute_result"
    }
   ],
   "source": [
    "iv_train.columns"
   ]
  },
  {
   "cell_type": "code",
   "execution_count": 228,
   "metadata": {},
   "outputs": [
    {
     "data": {
      "text/plain": [
       "[<matplotlib.lines.Line2D at 0x1c6825ea128>]"
      ]
     },
     "execution_count": 228,
     "metadata": {},
     "output_type": "execute_result"
    },
    {
     "data": {
      "image/png": "[encoded data removed]",
      "text/plain": [
       "<Figure size 1080x360 with 1 Axes>"
      ]
     },
     "metadata": {
      "needs_background": "light"
     },
     "output_type": "display_data"
    }
   ],
   "source": [
    "f,ax=plt.subplots(figsize=(15,5))\n",
    "plt.plot(list(feature_dataframe.features),list(feature_dataframe['Random Forest feature importances']))"
   ]
  },
  {
   "cell_type": "code",
   "execution_count": 164,
   "metadata": {},
   "outputs": [
    {
     "data": {
      "application/vnd.plotly.v1+json": {
       "config": {
        "linkText": "Export to plot.ly",
        "plotlyServerURL": "https://plot.ly",
        "showLink": false
       },
       "data": [
        {
         "marker": {
          "color": [
           0.12708878273955795,
           0.10398052961199081,
           0.1329526587326445,
           0.01411148930992496,
           0.31336964068750495,
           0.19402817354963178,
           0.012054308119068113,
           0.01611963814149908,
           0.04664976072417492,
           0.011857047652146135,
           0.027787970731856848
          ],
          "colorscale": [
           [
            0,
            "rgb(12,51,131)"
           ],
           [
            0.25,
            "rgb(10,136,186)"
           ],
           [
            0.5,
            "rgb(242,211,56)"
           ],
           [
            0.75,
            "rgb(242,143,56)"
           ],
           [
            1,
            "rgb(217,30,30)"
           ]
          ],
          "showscale": true,
          "size": 25,
          "sizemode": "diameter",
          "sizeref": 1
         },
         "mode": "markers",
         "text": [
          "Pclass",
          "Age",
          "Fare",
          "family_size",
          "Sex_female",
          "Sex_male",
          "Embarked_C",
          "Embarked_Q",
          "Embarked_S",
          "is_alone_0",
          "is_alone_1"
         ],
         "type": "scatter",
         "x": [
          "Pclass",
          "Age",
          "Fare",
          "family_size",
          "Sex_female",
          "Sex_male",
          "Embarked_C",
          "Embarked_Q",
          "Embarked_S",
          "is_alone_0",
          "is_alone_1"
         ],
         "y": [
          0.12708878273955795,
          0.10398052961199081,
          0.1329526587326445,
          0.01411148930992496,
          0.31336964068750495,
          0.19402817354963178,
          0.012054308119068113,
          0.01611963814149908,
          0.04664976072417492,
          0.011857047652146135,
          0.027787970731856848
         ]
        }
       ],
       "layout": {
        "autosize": true,
        "hovermode": "closest",
        "showlegend": false,
        "template": {
         "data": {
          "bar": [
           {
            "error_x": {
             "color": "#2a3f5f"
            },
            "error_y": {
             "color": "#2a3f5f"
            },
            "marker": {
             "line": {
              "color": "#E5ECF6",
              "width": 0.5
             }
            },
            "type": "bar"
           }
          ],
          "barpolar": [
           {
            "marker": {
             "line": {
              "color": "#E5ECF6",
              "width": 0.5
             }
            },
            "type": "barpolar"
           }
          ],
          "carpet": [
           {
            "aaxis": {
             "endlinecolor": "#2a3f5f",
             "gridcolor": "white",
             "linecolor": "white",
             "minorgridcolor": "white",
             "startlinecolor": "#2a3f5f"
            },
            "baxis": {
             "endlinecolor": "#2a3f5f",
             "gridcolor": "white",
             "linecolor": "white",
             "minorgridcolor": "white",
             "startlinecolor": "#2a3f5f"
            },
            "type": "carpet"
           }
          ],
          "choropleth": [
           {
            "colorbar": {
             "outlinewidth": 0,
             "ticks": ""
            },
            "type": "choropleth"
           }
          ],
          "contour": [
           {
            "colorbar": {
             "outlinewidth": 0,
             "ticks": ""
            },
            "colorscale": [
             [
              0,
              "#0d0887"
             ],
             [
              0.1111111111111111,
              "#46039f"
             ],
             [
              0.2222222222222222,
              "#7201a8"
             ],
             [
              0.3333333333333333,
              "#9c179e"
             ],
             [
              0.4444444444444444,
              "#bd3786"
             ],
             [
              0.5555555555555556,
              "#d8576b"
             ],
             [
              0.6666666666666666,
              "#ed7953"
             ],
             [
              0.7777777777777778,
              "#fb9f3a"
             ],
             [
              0.8888888888888888,
              "#fdca26"
             ],
             [
              1,
              "#f0f921"
             ]
            ],
            "type": "contour"
           }
          ],
          "contourcarpet": [
           {
            "colorbar": {
             "outlinewidth": 0,
             "ticks": ""
            },
            "type": "contourcarpet"
           }
          ],
          "heatmap": [
           {
            "colorbar": {
             "outlinewidth": 0,
             "ticks": ""
            },
            "colorscale": [
             [
              0,
              "#0d0887"
             ],
             [
              0.1111111111111111,
              "#46039f"
             ],
             [
              0.2222222222222222,
              "#7201a8"
             ],
             [
              0.3333333333333333,
              "#9c179e"
             ],
             [
              0.4444444444444444,
              "#bd3786"
             ],
             [
              0.5555555555555556,
              "#d8576b"
             ],
             [
              0.6666666666666666,
              "#ed7953"
             ],
             [
              0.7777777777777778,
              "#fb9f3a"
             ],
             [
              0.8888888888888888,
              "#fdca26"
             ],
             [
              1,
              "#f0f921"
             ]
            ],
            "type": "heatmap"
           }
          ],
          "heatmapgl": [
           {
            "colorbar": {
             "outlinewidth": 0,
             "ticks": ""
            },
            "colorscale": [
             [
              0,
              "#0d0887"
             ],
             [
              0.1111111111111111,
              "#46039f"
             ],
             [
              0.2222222222222222,
              "#7201a8"
             ],
             [
              0.3333333333333333,
              "#9c179e"
             ],
             [
              0.4444444444444444,
              "#bd3786"
             ],
             [
              0.5555555555555556,
              "#d8576b"
             ],
             [
              0.6666666666666666,
              "#ed7953"
             ],
             [
              0.7777777777777778,
              "#fb9f3a"
             ],
             [
              0.8888888888888888,
              "#fdca26"
             ],
             [
              1,
              "#f0f921"
             ]
            ],
            "type": "heatmapgl"
           }
          ],
          "histogram": [
           {
            "marker": {
             "colorbar": {
              "outlinewidth": 0,
              "ticks": ""
             }
            },
            "type": "histogram"
           }
          ],
          "histogram2d": [
           {
            "colorbar": {
             "outlinewidth": 0,
             "ticks": ""
            },
            "colorscale": [
             [
              0,
              "#0d0887"
             ],
             [
              0.1111111111111111,
              "#46039f"
             ],
             [
              0.2222222222222222,
              "#7201a8"
             ],
             [
              0.3333333333333333,
              "#9c179e"
             ],
             [
              0.4444444444444444,
              "#bd3786"
             ],
             [
              0.5555555555555556,
              "#d8576b"
             ],
             [
              0.6666666666666666,
              "#ed7953"
             ],
             [
              0.7777777777777778,
              "#fb9f3a"
             ],
             [
              0.8888888888888888,
              "#fdca26"
             ],
             [
              1,
              "#f0f921"
             ]
            ],
            "type": "histogram2d"
           }
          ],
          "histogram2dcontour": [
           {
            "colorbar": {
             "outlinewidth": 0,
             "ticks": ""
            },
            "colorscale": [
             [
              0,
              "#0d0887"
             ],
             [
              0.1111111111111111,
              "#46039f"
             ],
             [
              0.2222222222222222,
              "#7201a8"
             ],
             [
              0.3333333333333333,
              "#9c179e"
             ],
             [
              0.4444444444444444,
              "#bd3786"
             ],
             [
              0.5555555555555556,
              "#d8576b"
             ],
             [
              0.6666666666666666,
              "#ed7953"
             ],
             [
              0.7777777777777778,
              "#fb9f3a"
             ],
             [
              0.8888888888888888,
              "#fdca26"
             ],
             [
              1,
              "#f0f921"
             ]
            ],
            "type": "histogram2dcontour"
           }
          ],
          "mesh3d": [
           {
            "colorbar": {
             "outlinewidth": 0,
             "ticks": ""
            },
            "type": "mesh3d"
           }
          ],
          "parcoords": [
           {
            "line": {
             "colorbar": {
              "outlinewidth": 0,
              "ticks": ""
             }
            },
            "type": "parcoords"
           }
          ],
          "scatter": [
           {
            "marker": {
             "colorbar": {
              "outlinewidth": 0,
              "ticks": ""
             }
            },
            "type": "scatter"
           }
          ],
          "scatter3d": [
           {
            "line": {
             "colorbar": {
              "outlinewidth": 0,
              "ticks": ""
             }
            },
            "marker": {
             "colorbar": {
              "outlinewidth": 0,
              "ticks": ""
             }
            },
            "type": "scatter3d"
           }
          ],
          "scattercarpet": [
           {
            "marker": {
             "colorbar": {
              "outlinewidth": 0,
              "ticks": ""
             }
            },
            "type": "scattercarpet"
           }
          ],
          "scattergeo": [
           {
            "marker": {
             "colorbar": {
              "outlinewidth": 0,
              "ticks": ""
             }
            },
            "type": "scattergeo"
           }
          ],
          "scattergl": [
           {
            "marker": {
             "colorbar": {
              "outlinewidth": 0,
              "ticks": ""
             }
            },
            "type": "scattergl"
           }
          ],
          "scattermapbox": [
           {
            "marker": {
             "colorbar": {
              "outlinewidth": 0,
              "ticks": ""
             }
            },
            "type": "scattermapbox"
           }
          ],
          "scatterpolar": [
           {
            "marker": {
             "colorbar": {
              "outlinewidth": 0,
              "ticks": ""
             }
            },
            "type": "scatterpolar"
           }
          ],
          "scatterpolargl": [
           {
            "marker": {
             "colorbar": {
              "outlinewidth": 0,
              "ticks": ""
             }
            },
            "type": "scatterpolargl"
           }
          ],
          "scatterternary": [
           {
            "marker": {
             "colorbar": {
              "outlinewidth": 0,
              "ticks": ""
             }
            },
            "type": "scatterternary"
           }
          ],
          "surface": [
           {
            "colorbar": {
             "outlinewidth": 0,
             "ticks": ""
            },
            "colorscale": [
             [
              0,
              "#0d0887"
             ],
             [
              0.1111111111111111,
              "#46039f"
             ],
             [
              0.2222222222222222,
              "#7201a8"
             ],
             [
              0.3333333333333333,
              "#9c179e"
             ],
             [
              0.4444444444444444,
              "#bd3786"
             ],
             [
              0.5555555555555556,
              "#d8576b"
             ],
             [
              0.6666666666666666,
              "#ed7953"
             ],
             [
              0.7777777777777778,
              "#fb9f3a"
             ],
             [
              0.8888888888888888,
              "#fdca26"
             ],
             [
              1,
              "#f0f921"
             ]
            ],
            "type": "surface"
           }
          ],
          "table": [
           {
            "cells": {
             "fill": {
              "color": "#EBF0F8"
             },
             "line": {
              "color": "white"
             }
            },
            "header": {
             "fill": {
              "color": "#C8D4E3"
             },
             "line": {
              "color": "white"
             }
            },
            "type": "table"
           }
          ]
         },
         "layout": {
          "annotationdefaults": {
           "arrowcolor": "#2a3f5f",
           "arrowhead": 0,
           "arrowwidth": 1
          },
          "colorscale": {
           "diverging": [
            [
             0,
             "#8e0152"
            ],
            [
             0.1,
             "#c51b7d"
            ],
            [
             0.2,
             "#de77ae"
            ],
            [
             0.3,
             "#f1b6da"
            ],
            [
             0.4,
             "#fde0ef"
            ],
            [
             0.5,
             "#f7f7f7"
            ],
            [
             0.6,
             "#e6f5d0"
            ],
            [
             0.7,
             "#b8e186"
            ],
            [
             0.8,
             "#7fbc41"
            ],
            [
             0.9,
             "#4d9221"
            ],
            [
             1,
             "#276419"
            ]
           ],
           "sequential": [
            [
             0,
             "#0d0887"
            ],
            [
             0.1111111111111111,
             "#46039f"
            ],
            [
             0.2222222222222222,
             "#7201a8"
            ],
            [
             0.3333333333333333,
             "#9c179e"
            ],
            [
             0.4444444444444444,
             "#bd3786"
            ],
            [
             0.5555555555555556,
             "#d8576b"
            ],
            [
             0.6666666666666666,
             "#ed7953"
            ],
            [
             0.7777777777777778,
             "#fb9f3a"
            ],
            [
             0.8888888888888888,
             "#fdca26"
            ],
            [
             1,
             "#f0f921"
            ]
           ],
           "sequentialminus": [
            [
             0,
             "#0d0887"
            ],
            [
             0.1111111111111111,
             "#46039f"
            ],
            [
             0.2222222222222222,
             "#7201a8"
            ],
            [
             0.3333333333333333,
             "#9c179e"
            ],
            [
             0.4444444444444444,
             "#bd3786"
            ],
            [
             0.5555555555555556,
             "#d8576b"
            ],
            [
             0.6666666666666666,
             "#ed7953"
            ],
            [
             0.7777777777777778,
             "#fb9f3a"
            ],
            [
             0.8888888888888888,
             "#fdca26"
            ],
            [
             1,
             "#f0f921"
            ]
           ]
          },
          "colorway": [
           "#636efa",
           "#EF553B",
           "#00cc96",
           "#ab63fa",
           "#FFA15A",
           "#19d3f3",
           "#FF6692",
           "#B6E880",
           "#FF97FF",
           "#FECB52"
          ],
          "font": {
           "color": "#2a3f5f"
          },
          "geo": {
           "bgcolor": "white",
           "lakecolor": "white",
           "landcolor": "#E5ECF6",
           "showlakes": true,
           "showland": true,
           "subunitcolor": "white"
          },
          "hoverlabel": {
           "align": "left"
          },
          "hovermode": "closest",
          "mapbox": {
           "style": "light"
          },
          "paper_bgcolor": "white",
          "plot_bgcolor": "#E5ECF6",
          "polar": {
           "angularaxis": {
            "gridcolor": "white",
            "linecolor": "white",
            "ticks": ""
           },
           "bgcolor": "#E5ECF6",
           "radialaxis": {
            "gridcolor": "white",
            "linecolor": "white",
            "ticks": ""
           }
          },
          "scene": {
           "xaxis": {
            "backgroundcolor": "#E5ECF6",
            "gridcolor": "white",
            "gridwidth": 2,
            "linecolor": "white",
            "showbackground": true,
            "ticks": "",
            "zerolinecolor": "white"
           },
           "yaxis": {
            "backgroundcolor": "#E5ECF6",
            "gridcolor": "white",
            "gridwidth": 2,
            "linecolor": "white",
            "showbackground": true,
            "ticks": "",
            "zerolinecolor": "white"
           },
           "zaxis": {
            "backgroundcolor": "#E5ECF6",
            "gridcolor": "white",
            "gridwidth": 2,
            "linecolor": "white",
            "showbackground": true,
            "ticks": "",
            "zerolinecolor": "white"
           }
          },
          "shapedefaults": {
           "line": {
            "color": "#2a3f5f"
           }
          },
          "ternary": {
           "aaxis": {
            "gridcolor": "white",
            "linecolor": "white",
            "ticks": ""
           },
           "baxis": {
            "gridcolor": "white",
            "linecolor": "white",
            "ticks": ""
           },
           "bgcolor": "#E5ECF6",
           "caxis": {
            "gridcolor": "white",
            "linecolor": "white",
            "ticks": ""
           }
          },
          "title": {
           "x": 0.05
          },
          "xaxis": {
           "automargin": true,
           "gridcolor": "white",
           "linecolor": "white",
           "ticks": "",
           "zerolinecolor": "white",
           "zerolinewidth": 2
          },
          "yaxis": {
           "automargin": true,
           "gridcolor": "white",
           "linecolor": "white",
           "ticks": "",
           "zerolinecolor": "white",
           "zerolinewidth": 2
          }
         }
        },
        "title": {
         "text": "Random Forest Feature Importance"
        },
        "yaxis": {
         "gridwidth": 2,
         "ticklen": 5,
         "title": {
          "text": "Feature Importance"
         }
        }
       }
      },
      "text/html": [
       "<div>\n",
       "        \n",
       "        \n",
       "            <div id=\"54aada72-d8dc-4f8f-876c-9ff2c6908674\" class=\"plotly-graph-div\" style=\"height:525px; width:100%;\"></div>\n",
       "            <script type=\"text/javascript\">\n",
       "                require([\"plotly\"], function(Plotly) {\n",
       "                    window.PLOTLYENV=window.PLOTLYENV || {};\n",
       "                    \n",
       "                if (document.getElementById(\"54aada72-d8dc-4f8f-876c-9ff2c6908674\")) {\n",
       "                    Plotly.newPlot(\n",
       "                        '54aada72-d8dc-4f8f-876c-9ff2c6908674',\n",
       "                        [{\"marker\": {\"color\": [0.12708878273955795, 0.10398052961199081, 0.1329526587326445, 0.01411148930992496, 0.31336964068750495, 0.19402817354963178, 0.012054308119068113, 0.01611963814149908, 0.04664976072417492, 0.011857047652146135, 0.027787970731856848], \"colorscale\": [[0.0, \"rgb(12,51,131)\"], [0.25, \"rgb(10,136,186)\"], [0.5, \"rgb(242,211,56)\"], [0.75, \"rgb(242,143,56)\"], [1.0, \"rgb(217,30,30)\"]], \"showscale\": true, \"size\": 25, \"sizemode\": \"diameter\", \"sizeref\": 1}, \"mode\": \"markers\", \"text\": [\"Pclass\", \"Age\", \"Fare\", \"family_size\", \"Sex_female\", \"Sex_male\", \"Embarked_C\", \"Embarked_Q\", \"Embarked_S\", \"is_alone_0\", \"is_alone_1\"], \"type\": \"scatter\", \"x\": [\"Pclass\", \"Age\", \"Fare\", \"family_size\", \"Sex_female\", \"Sex_male\", \"Embarked_C\", \"Embarked_Q\", \"Embarked_S\", \"is_alone_0\", \"is_alone_1\"], \"y\": [0.12708878273955795, 0.10398052961199081, 0.1329526587326445, 0.01411148930992496, 0.31336964068750495, 0.19402817354963178, 0.012054308119068113, 0.01611963814149908, 0.04664976072417492, 0.011857047652146135, 0.027787970731856848]}],\n",
       "                        {\"autosize\": true, \"hovermode\": \"closest\", \"showlegend\": false, \"template\": {\"data\": {\"bar\": [{\"error_x\": {\"color\": \"#2a3f5f\"}, \"error_y\": {\"color\": \"#2a3f5f\"}, \"marker\": {\"line\": {\"color\": \"#E5ECF6\", \"width\": 0.5}}, \"type\": \"bar\"}], \"barpolar\": [{\"marker\": {\"line\": {\"color\": \"#E5ECF6\", \"width\": 0.5}}, \"type\": \"barpolar\"}], \"carpet\": [{\"aaxis\": {\"endlinecolor\": \"#2a3f5f\", \"gridcolor\": \"white\", \"linecolor\": \"white\", \"minorgridcolor\": \"white\", \"startlinecolor\": \"#2a3f5f\"}, \"baxis\": {\"endlinecolor\": \"#2a3f5f\", \"gridcolor\": \"white\", \"linecolor\": \"white\", \"minorgridcolor\": \"white\", \"startlinecolor\": \"#2a3f5f\"}, \"type\": \"carpet\"}], \"choropleth\": [{\"colorbar\": {\"outlinewidth\": 0, \"ticks\": \"\"}, \"type\": \"choropleth\"}], \"contour\": [{\"colorbar\": {\"outlinewidth\": 0, \"ticks\": \"\"}, \"colorscale\": [[0.0, \"#0d0887\"], [0.1111111111111111, \"#46039f\"], [0.2222222222222222, \"#7201a8\"], [0.3333333333333333, \"#9c179e\"], [0.4444444444444444, \"#bd3786\"], [0.5555555555555556, \"#d8576b\"], [0.6666666666666666, \"#ed7953\"], [0.7777777777777778, \"#fb9f3a\"], [0.8888888888888888, \"#fdca26\"], [1.0, \"#f0f921\"]], \"type\": \"contour\"}], \"contourcarpet\": [{\"colorbar\": {\"outlinewidth\": 0, \"ticks\": \"\"}, \"type\": \"contourcarpet\"}], \"heatmap\": [{\"colorbar\": {\"outlinewidth\": 0, \"ticks\": \"\"}, \"colorscale\": [[0.0, \"#0d0887\"], [0.1111111111111111, \"#46039f\"], [0.2222222222222222, \"#7201a8\"], [0.3333333333333333, \"#9c179e\"], [0.4444444444444444, \"#bd3786\"], [0.5555555555555556, \"#d8576b\"], [0.6666666666666666, \"#ed7953\"], [0.7777777777777778, \"#fb9f3a\"], [0.8888888888888888, \"#fdca26\"], [1.0, \"#f0f921\"]], \"type\": \"heatmap\"}], \"heatmapgl\": [{\"colorbar\": {\"outlinewidth\": 0, \"ticks\": \"\"}, \"colorscale\": [[0.0, \"#0d0887\"], [0.1111111111111111, \"#46039f\"], [0.2222222222222222, \"#7201a8\"], [0.3333333333333333, \"#9c179e\"], [0.4444444444444444, \"#bd3786\"], [0.5555555555555556, \"#d8576b\"], [0.6666666666666666, \"#ed7953\"], [0.7777777777777778, \"#fb9f3a\"], [0.8888888888888888, \"#fdca26\"], [1.0, \"#f0f921\"]], \"type\": \"heatmapgl\"}], \"histogram\": [{\"marker\": {\"colorbar\": {\"outlinewidth\": 0, \"ticks\": \"\"}}, \"type\": \"histogram\"}], \"histogram2d\": [{\"colorbar\": {\"outlinewidth\": 0, \"ticks\": \"\"}, \"colorscale\": [[0.0, \"#0d0887\"], [0.1111111111111111, \"#46039f\"], [0.2222222222222222, \"#7201a8\"], [0.3333333333333333, \"#9c179e\"], [0.4444444444444444, \"#bd3786\"], [0.5555555555555556, \"#d8576b\"], [0.6666666666666666, \"#ed7953\"], [0.7777777777777778, \"#fb9f3a\"], [0.8888888888888888, \"#fdca26\"], [1.0, \"#f0f921\"]], \"type\": \"histogram2d\"}], \"histogram2dcontour\": [{\"colorbar\": {\"outlinewidth\": 0, \"ticks\": \"\"}, \"colorscale\": [[0.0, \"#0d0887\"], [0.1111111111111111, \"#46039f\"], [0.2222222222222222, \"#7201a8\"], [0.3333333333333333, \"#9c179e\"], [0.4444444444444444, \"#bd3786\"], [0.5555555555555556, \"#d8576b\"], [0.6666666666666666, \"#ed7953\"], [0.7777777777777778, \"#fb9f3a\"], [0.8888888888888888, \"#fdca26\"], [1.0, \"#f0f921\"]], \"type\": \"histogram2dcontour\"}], \"mesh3d\": [{\"colorbar\": {\"outlinewidth\": 0, \"ticks\": \"\"}, \"type\": \"mesh3d\"}], \"parcoords\": [{\"line\": {\"colorbar\": {\"outlinewidth\": 0, \"ticks\": \"\"}}, \"type\": \"parcoords\"}], \"scatter\": [{\"marker\": {\"colorbar\": {\"outlinewidth\": 0, \"ticks\": \"\"}}, \"type\": \"scatter\"}], \"scatter3d\": [{\"line\": {\"colorbar\": {\"outlinewidth\": 0, \"ticks\": \"\"}}, \"marker\": {\"colorbar\": {\"outlinewidth\": 0, \"ticks\": \"\"}}, \"type\": \"scatter3d\"}], \"scattercarpet\": [{\"marker\": {\"colorbar\": {\"outlinewidth\": 0, \"ticks\": \"\"}}, \"type\": \"scattercarpet\"}], \"scattergeo\": [{\"marker\": {\"colorbar\": {\"outlinewidth\": 0, \"ticks\": \"\"}}, \"type\": \"scattergeo\"}], \"scattergl\": [{\"marker\": {\"colorbar\": {\"outlinewidth\": 0, \"ticks\": \"\"}}, \"type\": \"scattergl\"}], \"scattermapbox\": [{\"marker\": {\"colorbar\": {\"outlinewidth\": 0, \"ticks\": \"\"}}, \"type\": \"scattermapbox\"}], \"scatterpolar\": [{\"marker\": {\"colorbar\": {\"outlinewidth\": 0, \"ticks\": \"\"}}, \"type\": \"scatterpolar\"}], \"scatterpolargl\": [{\"marker\": {\"colorbar\": {\"outlinewidth\": 0, \"ticks\": \"\"}}, \"type\": \"scatterpolargl\"}], \"scatterternary\": [{\"marker\": {\"colorbar\": {\"outlinewidth\": 0, \"ticks\": \"\"}}, \"type\": \"scatterternary\"}], \"surface\": [{\"colorbar\": {\"outlinewidth\": 0, \"ticks\": \"\"}, \"colorscale\": [[0.0, \"#0d0887\"], [0.1111111111111111, \"#46039f\"], [0.2222222222222222, \"#7201a8\"], [0.3333333333333333, \"#9c179e\"], [0.4444444444444444, \"#bd3786\"], [0.5555555555555556, \"#d8576b\"], [0.6666666666666666, \"#ed7953\"], [0.7777777777777778, \"#fb9f3a\"], [0.8888888888888888, \"#fdca26\"], [1.0, \"#f0f921\"]], \"type\": \"surface\"}], \"table\": [{\"cells\": {\"fill\": {\"color\": \"#EBF0F8\"}, \"line\": {\"color\": \"white\"}}, \"header\": {\"fill\": {\"color\": \"#C8D4E3\"}, \"line\": {\"color\": \"white\"}}, \"type\": \"table\"}]}, \"layout\": {\"annotationdefaults\": {\"arrowcolor\": \"#2a3f5f\", \"arrowhead\": 0, \"arrowwidth\": 1}, \"colorscale\": {\"diverging\": [[0, \"#8e0152\"], [0.1, \"#c51b7d\"], [0.2, \"#de77ae\"], [0.3, \"#f1b6da\"], [0.4, \"#fde0ef\"], [0.5, \"#f7f7f7\"], [0.6, \"#e6f5d0\"], [0.7, \"#b8e186\"], [0.8, \"#7fbc41\"], [0.9, \"#4d9221\"], [1, \"#276419\"]], \"sequential\": [[0.0, \"#0d0887\"], [0.1111111111111111, \"#46039f\"], [0.2222222222222222, \"#7201a8\"], [0.3333333333333333, \"#9c179e\"], [0.4444444444444444, \"#bd3786\"], [0.5555555555555556, \"#d8576b\"], [0.6666666666666666, \"#ed7953\"], [0.7777777777777778, \"#fb9f3a\"], [0.8888888888888888, \"#fdca26\"], [1.0, \"#f0f921\"]], \"sequentialminus\": [[0.0, \"#0d0887\"], [0.1111111111111111, \"#46039f\"], [0.2222222222222222, \"#7201a8\"], [0.3333333333333333, \"#9c179e\"], [0.4444444444444444, \"#bd3786\"], [0.5555555555555556, \"#d8576b\"], [0.6666666666666666, \"#ed7953\"], [0.7777777777777778, \"#fb9f3a\"], [0.8888888888888888, \"#fdca26\"], [1.0, \"#f0f921\"]]}, \"colorway\": [\"#636efa\", \"#EF553B\", \"#00cc96\", \"#ab63fa\", \"#FFA15A\", \"#19d3f3\", \"#FF6692\", \"#B6E880\", \"#FF97FF\", \"#FECB52\"], \"font\": {\"color\": \"#2a3f5f\"}, \"geo\": {\"bgcolor\": \"white\", \"lakecolor\": \"white\", \"landcolor\": \"#E5ECF6\", \"showlakes\": true, \"showland\": true, \"subunitcolor\": \"white\"}, \"hoverlabel\": {\"align\": \"left\"}, \"hovermode\": \"closest\", \"mapbox\": {\"style\": \"light\"}, \"paper_bgcolor\": \"white\", \"plot_bgcolor\": \"#E5ECF6\", \"polar\": {\"angularaxis\": {\"gridcolor\": \"white\", \"linecolor\": \"white\", \"ticks\": \"\"}, \"bgcolor\": \"#E5ECF6\", \"radialaxis\": {\"gridcolor\": \"white\", \"linecolor\": \"white\", \"ticks\": \"\"}}, \"scene\": {\"xaxis\": {\"backgroundcolor\": \"#E5ECF6\", \"gridcolor\": \"white\", \"gridwidth\": 2, \"linecolor\": \"white\", \"showbackground\": true, \"ticks\": \"\", \"zerolinecolor\": \"white\"}, \"yaxis\": {\"backgroundcolor\": \"#E5ECF6\", \"gridcolor\": \"white\", \"gridwidth\": 2, \"linecolor\": \"white\", \"showbackground\": true, \"ticks\": \"\", \"zerolinecolor\": \"white\"}, \"zaxis\": {\"backgroundcolor\": \"#E5ECF6\", \"gridcolor\": \"white\", \"gridwidth\": 2, \"linecolor\": \"white\", \"showbackground\": true, \"ticks\": \"\", \"zerolinecolor\": \"white\"}}, \"shapedefaults\": {\"line\": {\"color\": \"#2a3f5f\"}}, \"ternary\": {\"aaxis\": {\"gridcolor\": \"white\", \"linecolor\": \"white\", \"ticks\": \"\"}, \"baxis\": {\"gridcolor\": \"white\", \"linecolor\": \"white\", \"ticks\": \"\"}, \"bgcolor\": \"#E5ECF6\", \"caxis\": {\"gridcolor\": \"white\", \"linecolor\": \"white\", \"ticks\": \"\"}}, \"title\": {\"x\": 0.05}, \"xaxis\": {\"automargin\": true, \"gridcolor\": \"white\", \"linecolor\": \"white\", \"ticks\": \"\", \"zerolinecolor\": \"white\", \"zerolinewidth\": 2}, \"yaxis\": {\"automargin\": true, \"gridcolor\": \"white\", \"linecolor\": \"white\", \"ticks\": \"\", \"zerolinecolor\": \"white\", \"zerolinewidth\": 2}}}, \"title\": {\"text\": \"Random Forest Feature Importance\"}, \"yaxis\": {\"gridwidth\": 2, \"ticklen\": 5, \"title\": {\"text\": \"Feature Importance\"}}},\n",
       "                        {\"responsive\": true}\n",
       "                    ).then(function(){\n",
       "                            \n",
       "var gd = document.getElementById('54aada72-d8dc-4f8f-876c-9ff2c6908674');\n",
       "var x = new MutationObserver(function (mutations, observer) {{\n",
       "        var display = window.getComputedStyle(gd).display;\n",
       "        if (!display || display === 'none') {{\n",
       "            console.log([gd, 'removed!']);\n",
       "            Plotly.purge(gd);\n",
       "            observer.disconnect();\n",
       "        }}\n",
       "}});\n",
       "\n",
       "// Listen for the removal of the full notebook cells\n",
       "var notebookContainer = gd.closest('#notebook-container');\n",
       "if (notebookContainer) {{\n",
       "    x.observe(notebookContainer, {childList: true});\n",
       "}}\n",
       "\n",
       "// Listen for the clearing of the current output cell\n",
       "var outputEl = gd.closest('.output');\n",
       "if (outputEl) {{\n",
       "    x.observe(outputEl, {childList: true});\n",
       "}}\n",
       "\n",
       "                        })\n",
       "                };\n",
       "                });\n",
       "            </script>\n",
       "        </div>"
      ]
     },
     "metadata": {},
     "output_type": "display_data"
    }
   ],
   "source": [
    "#model.feature_importances_\n",
    "\n",
    "trace = go.Scatter(y = feature_dataframe['Random Forest feature importances'].values,\n",
    "                  x = feature_dataframe['features'].values,\n",
    "                  mode = 'markers',\n",
    "                  marker = dict(sizemode = 'diameter', sizeref = 1,size = 25,\n",
    "                                color = feature_dataframe['Random Forest feature importances'].values,\n",
    "                                colorscale='Portland',showscale=True),\n",
    "                  text = feature_dataframe['features'].values)\n",
    "layout = go.Layout(\n",
    "    autosize= True,\n",
    "    title= 'Random Forest Feature Importance',\n",
    "    hovermode= 'closest',\n",
    "    yaxis=dict(\n",
    "        title= 'Feature Importance',\n",
    "        ticklen= 5,\n",
    "        gridwidth= 2\n",
    "    ),\n",
    "    showlegend= False\n",
    ")\n",
    "fig = go.Figure(data=[trace], layout=layout)\n",
    "py.iplot(fig,filename='scatter2010')"
   ]
  },
  {
   "cell_type": "markdown",
   "metadata": {},
   "source": [
    "## FINDING\n",
    "sex_male and sex_female are pretty important feature, lets check their corr with Survived"
   ]
  },
  {
   "cell_type": "code",
   "execution_count": 176,
   "metadata": {},
   "outputs": [
    {
     "name": "stderr",
     "output_type": "stream",
     "text": [
      "C:\\Users\\PAT\\Anaconda3\\lib\\site-packages\\sklearn\\svm\\base.py:193: FutureWarning:\n",
      "\n",
      "The default value of gamma will change from 'auto' to 'scale' in version 0.22 to account better for unscaled features. Set gamma explicitly to 'auto' or 'scale' to avoid this warning.\n",
      "\n"
     ]
    }
   ],
   "source": [
    "#Now that we know SVM fits better, we can use all of the train data to feed the model\n",
    " \n",
    "iv = data.drop(['Survived'],axis=1)\n",
    "dv=data['Survived'].values\n",
    "iv_test = test.drop(['Survived'],axis=1)\n",
    "#iv_test = pd.read_csv(test_data_path)\n",
    "model = SVC().fit(iv,dv)#Train the model using full training excel\n",
    "#Let's predict for actual test data\n",
    "dv_test_pred = model.predict(iv_test)\n",
    "iv_test['Survived'] = dv_test_pred\n",
    "\n",
    "#write back the results\n",
    "iv_test.to_csv(submitted_data_path,index=False)\n",
    "\n"
   ]
  },
  {
   "cell_type": "markdown",
   "metadata": {},
   "source": [
    "# Randomforest - Hyper-paramter tuning"
   ]
  },
  {
   "cell_type": "code",
   "execution_count": 411,
   "metadata": {},
   "outputs": [
    {
     "name": "stdout",
     "output_type": "stream",
     "text": [
      "accuracy  0.8603351955307262\n"
     ]
    }
   ],
   "source": [
    "#Way 1: Directly using train_test_split\n",
    "\n",
    "iv = data.drop(['Survived'],axis=1)\n",
    "dv=data['Survived'].values\n",
    "iv_train, iv_test, dv_train,dv_test = train_test_split(iv,dv, test_size = 0.2,random_state=42)#way 1\n",
    "\n",
    "model = RandomForestClassifier(n_estimators=100,random_state=42,oob_score=True).fit(iv_train,dv_train)\n",
    "print('accuracy ' ,model.score(iv_test,dv_test))"
   ]
  },
  {
   "cell_type": "code",
   "execution_count": 412,
   "metadata": {},
   "outputs": [
    {
     "data": {
      "text/plain": [
       "0.7963483146067416"
      ]
     },
     "execution_count": 412,
     "metadata": {},
     "output_type": "execute_result"
    }
   ],
   "source": [
    "model.oob_score_"
   ]
  },
  {
   "cell_type": "code",
   "execution_count": 151,
   "metadata": {},
   "outputs": [],
   "source": [
    "from sklearn.metrics import roc_auc_score"
   ]
  },
  {
   "cell_type": "code",
   "execution_count": 413,
   "metadata": {},
   "outputs": [
    {
     "data": {
      "text/plain": [
       "0.851029601029601"
      ]
     },
     "execution_count": 413,
     "metadata": {},
     "output_type": "execute_result"
    }
   ],
   "source": [
    "roc_auc_score(dv_test,model.predict(iv_test))"
   ]
  },
  {
   "cell_type": "markdown",
   "metadata": {},
   "source": [
    "## no of estimators"
   ]
  },
  {
   "cell_type": "code",
   "execution_count": 414,
   "metadata": {},
   "outputs": [
    {
     "name": "stdout",
     "output_type": "stream",
     "text": [
      "50 0.851029601029601 0.8603351955307262\n",
      "100 0.851029601029601 0.8603351955307262\n",
      "150 0.8557915057915059 0.8659217877094972\n",
      "200 0.8557915057915059 0.8659217877094972\n",
      "500 0.8693050193050194 0.8770949720670391\n",
      "1000 0.8645431145431145 0.8715083798882681\n"
     ]
    },
    {
     "data": {
      "image/png": "[encoded data removed]",
      "text/plain": [
       "<Figure size 432x288 with 1 Axes>"
      ]
     },
     "metadata": {
      "needs_background": "light"
     },
     "output_type": "display_data"
    }
   ],
   "source": [
    "trees = [50,100,150,200,500,1000]\n",
    "plot_ = {}\n",
    "for t in trees:\n",
    "    model = RandomForestClassifier(n_estimators=t,random_state=42).fit(iv_train,dv_train)\n",
    "    plot_[t] = model.score(iv_test,dv_test)\n",
    "    print(t,roc_auc_score(dv_test,model.predict(iv_test)),plot_[t])\n",
    "    plt.scatter(t,plot_[t])\n"
   ]
  },
  {
   "cell_type": "code",
   "execution_count": 415,
   "metadata": {},
   "outputs": [
    {
     "data": {
      "text/plain": [
       "[<matplotlib.lines.Line2D at 0x1c68652c668>]"
      ]
     },
     "execution_count": 415,
     "metadata": {},
     "output_type": "execute_result"
    },
    {
     "data": {
      "image/png": "[encoded data removed]",
      "text/plain": [
       "<Figure size 432x288 with 1 Axes>"
      ]
     },
     "metadata": {
      "needs_background": "light"
     },
     "output_type": "display_data"
    }
   ],
   "source": [
    "plt.plot(list(plot_.keys()),list(plot_.values()))"
   ]
  },
  {
   "cell_type": "markdown",
   "metadata": {},
   "source": [
    "#### finalize\n",
    "no of trees = 500 seems to give the best result\n",
    "\n",
    "We can try with max_features also"
   ]
  },
  {
   "cell_type": "code",
   "execution_count": 416,
   "metadata": {},
   "outputs": [
    {
     "name": "stdout",
     "output_type": "stream",
     "text": [
      "auto 0.8557915057915059 0.8659217877094972\n",
      "log2 0.8557915057915059 0.8659217877094972\n",
      "sqrt 0.8557915057915059 0.8659217877094972\n",
      "4 0.8557915057915059 0.8659217877094972\n",
      "5 0.8557915057915059 0.8659217877094972\n",
      "6 0.8557915057915059 0.8659217877094972\n"
     ]
    },
    {
     "data": {
      "text/plain": [
       "[<matplotlib.lines.Line2D at 0x1c6864a5668>]"
      ]
     },
     "execution_count": 416,
     "metadata": {},
     "output_type": "execute_result"
    },
    {
     "data": {
      "image/png": "[encoded data removed]",
      "text/plain": [
       "<Figure size 432x288 with 1 Axes>"
      ]
     },
     "metadata": {
      "needs_background": "light"
     },
     "output_type": "display_data"
    }
   ],
   "source": [
    "max_features = ['auto','log2','sqrt',4,5,6]\n",
    "plot_ = {}\n",
    "for max_f in max_features:\n",
    "    model = RandomForestClassifier(n_estimators=200,max_features=max_f,random_state=42).fit(iv_train,dv_train)\n",
    "    plot_[max_f] = model.score(iv_test,dv_test)\n",
    "    print(max_f,roc_auc_score(dv_test,model.predict(iv_test)),plot_[max_f])\n",
    "    plt.scatter(max_f,plot_[max_f])\n",
    "plt.plot(list(plot_.keys()),list(plot_.values()))"
   ]
  },
  {
   "cell_type": "markdown",
   "metadata": {},
   "source": [
    "#### finalize\n",
    "max_features gives best at 8 features max"
   ]
  },
  {
   "cell_type": "code",
   "execution_count": 428,
   "metadata": {},
   "outputs": [
    {
     "name": "stdout",
     "output_type": "stream",
     "text": [
      "accuracy  0.8603351955307262\n"
     ]
    },
    {
     "data": {
      "text/plain": [
       "[<matplotlib.lines.Line2D at 0x1c6877ddf60>]"
      ]
     },
     "execution_count": 428,
     "metadata": {},
     "output_type": "execute_result"
    },
    {
     "data": {
      "image/png": "[encoded data removed]",
      "text/plain": [
       "<Figure size 1800x360 with 1 Axes>"
      ]
     },
     "metadata": {
      "needs_background": "light"
     },
     "output_type": "display_data"
    }
   ],
   "source": [
    "model = RandomForestClassifier(n_estimators=500).fit(iv_train,dv_train)\n",
    "print('accuracy ' ,model.score(iv_test,dv_test))\n",
    "feature_dataframe = pd.DataFrame( {'features': iv_train.columns,\n",
    "     'Random Forest feature importances': model.feature_importances_})\n",
    "\n",
    "f,ax = plt.subplots(figsize=(25,5))\n",
    "plt.plot(list(feature_dataframe.features),list(feature_dataframe['Random Forest feature importances']))"
   ]
  },
  {
   "cell_type": "markdown",
   "metadata": {},
   "source": [
    "# RESULT of model analysis\n",
    "Sex determined the survival rate the most(females the most), followed by Passengerclass(pclass=1), then family size(3,4,5) were the most important features\n",
    "\n",
    "Model performs poor(0.79) without age and Fare properly cleaned(converting continous range to discrete categories). These both are the key features of this accurate prediction and needs to be handled properly\n",
    "\n",
    "When age and fare was continous variables, trees would be having if else conditions and more the range, more the branches/splits would be there and the significance of that variable gets reduced\n",
    "\n",
    "Hence when you have a numeric variable with fewer number of values, its best to convert to str type(object) and treat it accordingly, which results in better predictions(since these variables were significant)\n",
    "\n",
    "Hyper-parameter tuning also helps in getting better perfomance"
   ]
  },
  {
   "cell_type": "code",
   "execution_count": null,
   "metadata": {},
   "outputs": [],
   "source": []
  }
 ],
 "metadata": {
  "kernelspec": {
   "display_name": "Python 3",
   "language": "python",
   "name": "python3"
  },
  "language_info": {
   "codemirror_mode": {
    "name": "ipython",
    "version": 3
   },
   "file_extension": ".py",
   "mimetype": "text/x-python",
   "name": "python",
   "nbconvert_exporter": "python",
   "pygments_lexer": "ipython3",
   "version": "3.7.3"
  }
 },
 "nbformat": 4,
 "nbformat_minor": 2
}
